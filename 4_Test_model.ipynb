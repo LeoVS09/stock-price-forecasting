{
 "cells": [
  {
   "cell_type": "code",
   "execution_count": 1,
   "id": "herbal-extra",
   "metadata": {},
   "outputs": [
    {
     "data": {
      "text/html": [
       "        <script type=\"text/javascript\">\n",
       "        window.PlotlyConfig = {MathJaxConfig: 'local'};\n",
       "        if (window.MathJax) {MathJax.Hub.Config({SVG: {font: \"STIX-Web\"}});}\n",
       "        if (typeof require !== 'undefined') {\n",
       "        require.undef(\"plotly\");\n",
       "        requirejs.config({\n",
       "            paths: {\n",
       "                'plotly': ['https://cdn.plot.ly/plotly-latest.min']\n",
       "            }\n",
       "        });\n",
       "        require(['plotly'], function(Plotly) {\n",
       "            window._Plotly = Plotly;\n",
       "        });\n",
       "        }\n",
       "        </script>\n",
       "        "
      ]
     },
     "metadata": {},
     "output_type": "display_data"
    },
    {
     "data": {
      "text/html": [
       "        <script type=\"text/javascript\">\n",
       "        window.PlotlyConfig = {MathJaxConfig: 'local'};\n",
       "        if (window.MathJax) {MathJax.Hub.Config({SVG: {font: \"STIX-Web\"}});}\n",
       "        if (typeof require !== 'undefined') {\n",
       "        require.undef(\"plotly\");\n",
       "        requirejs.config({\n",
       "            paths: {\n",
       "                'plotly': ['https://cdn.plot.ly/plotly-latest.min']\n",
       "            }\n",
       "        });\n",
       "        require(['plotly'], function(Plotly) {\n",
       "            window._Plotly = Plotly;\n",
       "        });\n",
       "        }\n",
       "        </script>\n",
       "        "
      ]
     },
     "metadata": {},
     "output_type": "display_data"
    }
   ],
   "source": [
    "# plotly standard imports\n",
    "import plotly.graph_objs as go\n",
    "import chart_studio.plotly as py\n",
    "\n",
    "# Cufflinks wrapper on plotly\n",
    "import cufflinks\n",
    "\n",
    "# Data science imports\n",
    "import pandas as pd\n",
    "import numpy as np\n",
    "\n",
    "# Options for pandas\n",
    "pd.options.display.max_columns = 30\n",
    "\n",
    "# Display all cell outputs\n",
    "from IPython.core.interactiveshell import InteractiveShell\n",
    "InteractiveShell.ast_node_interactivity = 'all'\n",
    "\n",
    "from plotly.offline import iplot, init_notebook_mode\n",
    "cufflinks.go_offline(connected=True)\n",
    "init_notebook_mode(connected=True)\n",
    "\n",
    "# Set global theme\n",
    "cufflinks.set_config_file(world_readable=True, theme='pearl')"
   ]
  },
  {
   "cell_type": "markdown",
   "id": "basic-skill",
   "metadata": {},
   "source": [
    "# Check baseline metrics"
   ]
  },
  {
   "cell_type": "code",
   "execution_count": 4,
   "id": "joint-insider",
   "metadata": {},
   "outputs": [
    {
     "name": "stdout",
     "output_type": "stream",
     "text": [
      "len(train_df) 1155\n",
      "full window width = 33\n",
      "input_width = 32\n"
     ]
    }
   ],
   "source": [
    "from src.prepare_datasets import make_window_generator, get_prepared_datasets\n",
    "\n",
    "train_df, test_df = get_prepared_datasets()\n",
    "\n",
    "window = make_window_generator()"
   ]
  },
  {
   "cell_type": "code",
   "execution_count": 5,
   "id": "proprietary-harrison",
   "metadata": {},
   "outputs": [],
   "source": [
    "import tensorflow as tf\n",
    "from src.BaselineModel import Baseline\n",
    "\n",
    "column_indices = {name: i for i, name in enumerate(train_df.columns)}\n",
    "\n",
    "baseline = Baseline(label_index=column_indices['Close'])\n",
    "    \n",
    "baseline.compile(\n",
    "    loss=tf.losses.MeanSquaredError(),\n",
    "    metrics=[tf.metrics.MeanAbsoluteError(), tf.metrics.MeanSquaredLogarithmicError()]\n",
    ")"
   ]
  },
  {
   "cell_type": "code",
   "execution_count": 7,
   "id": "neutral-drill",
   "metadata": {},
   "outputs": [
    {
     "name": "stdout",
     "output_type": "stream",
     "text": [
      "1/1 [==============================] - 0s 165ms/step - loss: 0.0018 - mean_absolute_error: 0.0237 - mean_squared_logarithmic_error: 4.1826e-04\n"
     ]
    },
    {
     "data": {
      "text/plain": [
       "[0.0018276515183970332, 0.023685645312070847, 0.0004182591801509261]"
      ]
     },
     "execution_count": 7,
     "metadata": {},
     "output_type": "execute_result"
    }
   ],
   "source": [
    "baseline.evaluate(window.test, verbose=1)"
   ]
  },
  {
   "cell_type": "markdown",
   "id": "coordinate-magic",
   "metadata": {},
   "source": [
    "# Test model predictions"
   ]
  },
  {
   "cell_type": "code",
   "execution_count": 8,
   "id": "confidential-cookie",
   "metadata": {},
   "outputs": [
    {
     "name": "stdout",
     "output_type": "stream",
     "text": [
      "Model: \"sequential\"\n",
      "_________________________________________________________________\n",
      "Layer (type)                 Output Shape              Param #   \n",
      "=================================================================\n",
      "lstm (LSTM)                  (8, 32, 32)               5632      \n",
      "_________________________________________________________________\n",
      "dense (Dense)                (8, 32, 1)                33        \n",
      "=================================================================\n",
      "Total params: 5,665\n",
      "Trainable params: 5,665\n",
      "Non-trainable params: 0\n",
      "_________________________________________________________________\n"
     ]
    }
   ],
   "source": [
    "from src.libs import load\n",
    "\n",
    "model = load()"
   ]
  },
  {
   "cell_type": "code",
   "execution_count": 10,
   "id": "hairy-metro",
   "metadata": {},
   "outputs": [
    {
     "name": "stdout",
     "output_type": "stream",
     "text": [
      "1/1 - 3s - loss: 0.0492 - mean_absolute_error: 0.1186 - mean_squared_logarithmic_error: 0.0107\n"
     ]
    },
    {
     "data": {
      "text/plain": [
       "[0.049167849123477936, 0.11858100444078445, 0.010728420689702034]"
      ]
     },
     "execution_count": 10,
     "metadata": {},
     "output_type": "execute_result"
    }
   ],
   "source": [
    "model.evaluate(window.test, verbose=2)\n",
    "model.reset_states()"
   ]
  },
  {
   "cell_type": "markdown",
   "id": "opposite-aggregate",
   "metadata": {},
   "source": [
    "Plot model"
   ]
  },
  {
   "cell_type": "code",
   "execution_count": 11,
   "id": "norman-mambo",
   "metadata": {},
   "outputs": [
    {
     "name": "stdout",
     "output_type": "stream",
     "text": [
      "n 0 from 3\n",
      "len(inputs) 8\n",
      "n 1 from 3\n",
      "len(inputs) 8\n",
      "n 2 from 3\n",
      "len(inputs) 8\n"
     ]
    },
    {
     "data": {
      "image/png": "[encoded data removed]",
      "text/plain": [
       "<Figure size 864x576 with 3 Axes>"
      ]
     },
     "metadata": {
      "needs_background": "light"
     },
     "output_type": "display_data"
    }
   ],
   "source": [
    "model.reset_states()\n",
    "\n",
    "window.plot(model)"
   ]
  },
  {
   "cell_type": "markdown",
   "id": "fourth-mortality",
   "metadata": {},
   "source": [
    "# Compare predictions and labels"
   ]
  },
  {
   "cell_type": "code",
   "execution_count": 12,
   "id": "dominant-puppy",
   "metadata": {},
   "outputs": [
    {
     "data": {
      "application/vnd.plotly.v1+json": {
       "config": {
        "linkText": "Export to plot.ly",
        "plotlyServerURL": "https://plot.ly",
        "showLink": true
       },
       "data": [
        {
         "line": {
          "color": "rgba(255, 153, 51, 1.0)",
          "dash": "solid",
          "shape": "linear",
          "width": 1.3
         },
         "mode": "lines",
         "name": "Predicted",
         "text": "",
         "type": "scatter",
         "x": [
          0,
          1,
          2,
          3,
          4,
          5,
          6,
          7,
          8,
          9,
          10,
          11,
          12,
          13,
          14,
          15,
          16,
          17,
          18,
          19,
          20,
          21,
          22,
          23,
          24,
          25,
          26,
          27,
          28,
          29,
          30,
          31,
          32,
          33,
          34,
          35,
          36,
          37,
          38,
          39,
          40,
          41,
          42,
          43,
          44,
          45,
          46,
          47,
          48,
          49,
          50,
          51,
          52,
          53,
          54,
          55,
          56,
          57,
          58,
          59,
          60,
          61,
          62,
          63,
          64,
          65,
          66,
          67,
          68,
          69,
          70,
          71,
          72,
          73,
          74,
          75,
          76,
          77,
          78,
          79,
          80,
          81,
          82,
          83,
          84,
          85,
          86,
          87,
          88,
          89,
          90,
          91,
          92,
          93,
          94,
          95,
          96,
          97,
          98,
          99,
          100,
          101,
          102,
          103,
          104,
          105,
          106,
          107,
          108,
          109,
          110,
          111,
          112,
          113,
          114,
          115,
          116,
          117,
          118,
          119,
          120,
          121,
          122,
          123,
          124,
          125,
          126,
          127,
          128,
          129,
          130,
          131,
          132,
          133,
          134,
          135,
          136,
          137,
          138,
          139,
          140,
          141,
          142,
          143,
          144,
          145,
          146,
          147,
          148,
          149,
          150,
          151,
          152,
          153,
          154,
          155,
          156,
          157,
          158,
          159,
          160,
          161,
          162,
          163,
          164,
          165,
          166,
          167,
          168,
          169,
          170,
          171,
          172,
          173,
          174,
          175,
          176,
          177,
          178,
          179,
          180,
          181,
          182,
          183,
          184,
          185,
          186,
          187,
          188,
          189,
          190,
          191,
          192,
          193,
          194,
          195,
          196,
          197,
          198,
          199,
          200,
          201,
          202,
          203,
          204,
          205,
          206,
          207,
          208,
          209,
          210,
          211,
          212,
          213,
          214,
          215,
          216,
          217,
          218,
          219,
          220,
          221,
          222,
          223,
          224,
          225,
          226,
          227,
          228,
          229,
          230,
          231,
          232,
          233,
          234,
          235,
          236,
          237,
          238,
          239,
          240,
          241,
          242,
          243,
          244,
          245,
          246,
          247,
          248,
          249,
          250,
          251,
          252,
          253,
          254,
          255
         ],
         "y": [
          0.05846383795142174,
          0.08707015216350555,
          0.12362414598464966,
          0.1594580113887787,
          0.1630440205335617,
          0.17599433660507202,
          0.15728828310966492,
          0.18359097838401794,
          0.15835991501808167,
          0.14480850100517273,
          0.1470085084438324,
          0.14156289398670197,
          0.1378166377544403,
          0.14355164766311646,
          0.14585475623607635,
          0.14729434251785278,
          0.1518336534500122,
          0.12806309759616852,
          0.1265360563993454,
          0.12148737907409668,
          0.11790657788515091,
          0.12734447419643402,
          0.14002862572669983,
          0.1355576068162918,
          0.1265566200017929,
          0.11770973354578018,
          0.11639080196619034,
          0.113341324031353,
          0.14315877854824066,
          0.14826329052448273,
          0.12463941425085068,
          0.11103567481040955,
          0.05247540771961212,
          0.08218038082122803,
          0.10386108607053757,
          0.11881128698587418,
          0.11990132182836533,
          0.12706823647022247,
          0.11922920495271683,
          0.11060843616724014,
          0.10861602425575256,
          0.10269975662231445,
          0.12923558056354523,
          0.13438135385513306,
          0.15584658086299896,
          0.13789120316505432,
          0.12697918713092804,
          0.11408641934394836,
          0.11614365130662918,
          0.11640769243240356,
          0.11801958829164505,
          0.11252164840698242,
          0.1046312004327774,
          0.10475226491689682,
          0.10643643140792847,
          0.1066175252199173,
          0.10637183487415314,
          0.13991503417491913,
          0.15825192630290985,
          0.1628190279006958,
          0.15380601584911346,
          0.15490086376667023,
          0.16402308642864227,
          0.2192406952381134,
          0.1380196511745453,
          0.20938977599143982,
          0.2314402461051941,
          0.24670211970806122,
          0.2627408802509308,
          0.24674907326698303,
          0.23755335807800293,
          0.22712361812591553,
          0.25286102294921875,
          0.25928375124931335,
          0.25521576404571533,
          0.25654417276382446,
          0.2486112415790558,
          0.2687784731388092,
          0.2363206297159195,
          0.24383583664894104,
          0.2599044442176819,
          0.27147820591926575,
          0.27772268652915955,
          0.27409276366233826,
          0.2900691330432892,
          0.2710736095905304,
          0.24590645730495453,
          0.24578791856765747,
          0.2296970933675766,
          0.2307087481021881,
          0.23157399892807007,
          0.2446015477180481,
          0.22441449761390686,
          0.22827747464179993,
          0.21909135580062866,
          0.22969551384449005,
          0.12004902958869934,
          0.20071274042129517,
          0.24432127177715302,
          0.2937639057636261,
          0.24955669045448303,
          0.20996277034282684,
          0.20564889907836914,
          0.192250058054924,
          0.1884685903787613,
          0.18179431557655334,
          0.17336170375347137,
          0.1688876450061798,
          0.19499848783016205,
          0.19478073716163635,
          0.19142109155654907,
          0.18335948884487152,
          0.19189076125621796,
          0.2046843022108078,
          0.2280336618423462,
          0.23199519515037537,
          0.22112099826335907,
          0.21562421321868896,
          0.20098042488098145,
          0.17144615948200226,
          0.16189612448215485,
          0.14380064606666565,
          0.19466274976730347,
          0.20335912704467773,
          0.21635057032108307,
          0.2235296070575714,
          0.21909016370773315,
          0.22020599246025085,
          0.1306038349866867,
          0.18465401232242584,
          0.20791764557361603,
          0.21496227383613586,
          0.2410585582256317,
          0.24103543162345886,
          0.21415254473686218,
          0.1931532323360443,
          0.2255643904209137,
          0.21442319452762604,
          0.21571262180805206,
          0.21293756365776062,
          0.22241972386837006,
          0.2150125354528427,
          0.21681758761405945,
          0.22415338456630707,
          0.21871554851531982,
          0.21650028228759766,
          0.22567139565944672,
          0.24583692848682404,
          0.26370975375175476,
          0.3145063519477844,
          0.3174896836280823,
          0.30923107266426086,
          0.3114940822124481,
          0.31221437454223633,
          0.3179349899291992,
          0.342572957277298,
          0.33264437317848206,
          0.35251328349113464,
          0.34393131732940674,
          0.35526326298713684,
          0.20759136974811554,
          0.30742397904396057,
          0.3679629862308502,
          0.39188259840011597,
          0.4508620500564575,
          0.44926053285598755,
          0.4095709025859833,
          0.43106308579444885,
          0.425549179315567,
          0.41860559582710266,
          0.4427178204059601,
          0.4610620439052582,
          0.4653751850128174,
          0.45166775584220886,
          0.44515037536621094,
          0.47946324944496155,
          0.5169315338134766,
          0.5421791076660156,
          0.5351634621620178,
          0.5565924644470215,
          0.5623300075531006,
          0.5416036248207092,
          0.5502891540527344,
          0.5804312229156494,
          0.5669969916343689,
          0.48592373728752136,
          0.47478511929512024,
          0.49425432085990906,
          0.5151945352554321,
          0.5959597826004028,
          0.5662776231765747,
          0.5813168287277222,
          0.3642791509628296,
          0.5077248215675354,
          0.5883058905601501,
          0.6155592799186707,
          0.6099887490272522,
          0.562786340713501,
          0.5576449632644653,
          0.5284081697463989,
          0.4959341883659363,
          0.5308019518852234,
          0.5667570233345032,
          0.5854690074920654,
          0.6033680438995361,
          0.666205644607544,
          0.7383974194526672,
          0.7178106904029846,
          0.730758547782898,
          0.7178704738616943,
          0.6934182047843933,
          0.7250681519508362,
          0.7097938656806946,
          0.7224999666213989,
          0.7483502626419067,
          0.8001182079315186,
          0.8287349939346313,
          0.8354606628417969,
          0.8081846833229065,
          0.8579744100570679,
          0.8568630218505859,
          0.8748196959495544,
          0.946183979511261,
          0.9856571555137634,
          0.6358593702316284,
          0.9365270733833313,
          1.0978283882141113,
          1.1914626359939575,
          1.1748135089874268,
          1.1688451766967773,
          1.081451416015625,
          0.8900291323661804,
          0.9328234195709229,
          1.0423630475997925,
          1.1257132291793823,
          0.984223484992981,
          1.0292223691940308,
          0.9819563627243042,
          1.0134254693984985,
          1.0151728391647339,
          0.9347886443138123,
          0.7870816588401794,
          0.8818982243537903,
          0.8733236789703369,
          0.8887763023376465,
          0.9346382021903992,
          0.9010685682296753,
          0.806966245174408,
          0.9462906718254089,
          1.0151311159133911,
          0.9821043014526367,
          0.9175187945365906,
          0.9586751461029053,
          1.0507246255874634,
          1.0925068855285645,
          1.0698312520980835
         ]
        },
        {
         "line": {
          "color": "rgba(55, 128, 191, 1.0)",
          "dash": "solid",
          "shape": "linear",
          "width": 1.3
         },
         "mode": "lines",
         "name": "Labels",
         "text": "",
         "type": "scatter",
         "x": [
          0,
          1,
          2,
          3,
          4,
          5,
          6,
          7,
          8,
          9,
          10,
          11,
          12,
          13,
          14,
          15,
          16,
          17,
          18,
          19,
          20,
          21,
          22,
          23,
          24,
          25,
          26,
          27,
          28,
          29,
          30,
          31,
          32,
          33,
          34,
          35,
          36,
          37,
          38,
          39,
          40,
          41,
          42,
          43,
          44,
          45,
          46,
          47,
          48,
          49,
          50,
          51,
          52,
          53,
          54,
          55,
          56,
          57,
          58,
          59,
          60,
          61,
          62,
          63,
          64,
          65,
          66,
          67,
          68,
          69,
          70,
          71,
          72,
          73,
          74,
          75,
          76,
          77,
          78,
          79,
          80,
          81,
          82,
          83,
          84,
          85,
          86,
          87,
          88,
          89,
          90,
          91,
          92,
          93,
          94,
          95,
          96,
          97,
          98,
          99,
          100,
          101,
          102,
          103,
          104,
          105,
          106,
          107,
          108,
          109,
          110,
          111,
          112,
          113,
          114,
          115,
          116,
          117,
          118,
          119,
          120,
          121,
          122,
          123,
          124,
          125,
          126,
          127,
          128,
          129,
          130,
          131,
          132,
          133,
          134,
          135,
          136,
          137,
          138,
          139,
          140,
          141,
          142,
          143,
          144,
          145,
          146,
          147,
          148,
          149,
          150,
          151,
          152,
          153,
          154,
          155,
          156,
          157,
          158,
          159,
          160,
          161,
          162,
          163,
          164,
          165,
          166,
          167,
          168,
          169,
          170,
          171,
          172,
          173,
          174,
          175,
          176,
          177,
          178,
          179,
          180,
          181,
          182,
          183,
          184,
          185,
          186,
          187,
          188,
          189,
          190,
          191,
          192,
          193,
          194,
          195,
          196,
          197,
          198,
          199,
          200,
          201,
          202,
          203,
          204,
          205,
          206,
          207,
          208,
          209,
          210,
          211,
          212,
          213,
          214,
          215,
          216,
          217,
          218,
          219,
          220,
          221,
          222,
          223,
          224,
          225,
          226,
          227,
          228,
          229,
          230,
          231,
          232,
          233,
          234,
          235,
          236,
          237,
          238,
          239,
          240,
          241,
          242,
          243,
          244,
          245,
          246,
          247,
          248,
          249,
          250,
          251,
          252,
          253,
          254,
          255
         ],
         "y": [
          0.10989619791507721,
          0.1285366714000702,
          0.14711077511310577,
          0.14244335889816284,
          0.15652155876159668,
          0.1436251848936081,
          0.1816754937171936,
          0.1473291516304016,
          0.15416721999645233,
          0.16192151606082916,
          0.15464216470718384,
          0.15400350093841553,
          0.15967018902301788,
          0.16035106778144836,
          0.16165554523468018,
          0.16566388309001923,
          0.13612094521522522,
          0.14469118416309357,
          0.144391268491745,
          0.1396234780550003,
          0.1430671513080597,
          0.14777205884456635,
          0.14465947449207306,
          0.1409733146429062,
          0.13430184125900269,
          0.13668988645076752,
          0.1351429522037506,
          0.1537361741065979,
          0.1527092605829239,
          0.13568070530891418,
          0.13305151462554932,
          0.12756143510341644,
          0.1212291345000267,
          0.12651965022087097,
          0.12906666100025177,
          0.1262185275554657,
          0.1310855895280838,
          0.12543277442455292,
          0.12348739057779312,
          0.12592189013957977,
          0.12276750057935715,
          0.13901393115520477,
          0.13237610459327698,
          0.1418619304895401,
          0.13376030325889587,
          0.1338055580854416,
          0.1317332684993744,
          0.13368120789527893,
          0.1319093108177185,
          0.13188773393630981,
          0.12917350232601166,
          0.12590788304805756,
          0.12694044411182404,
          0.1273525059223175,
          0.12879523634910583,
          0.12763221561908722,
          0.13898229598999023,
          0.147089883685112,
          0.15009143948554993,
          0.14771108329296112,
          0.15526612102985382,
          0.1675535887479782,
          0.22605106234550476,
          0.22184573113918304,
          0.23195599019527435,
          0.2325349897146225,
          0.2439710646867752,
          0.2674694061279297,
          0.22943149507045746,
          0.23981598019599915,
          0.2376362383365631,
          0.2667921483516693,
          0.26855671405792236,
          0.2589499354362488,
          0.2671705186367035,
          0.26295140385627747,
          0.27385514974594116,
          0.24866178631782532,
          0.2580588757991791,
          0.2687918543815613,
          0.2679692804813385,
          0.2731863558292389,
          0.2746467888355255,
          0.29412955045700073,
          0.2799501121044159,
          0.267398864030838,
          0.2738691568374634,
          0.2584659159183502,
          0.2632793188095093,
          0.26236459612846375,
          0.26827776432037354,
          0.24627003073692322,
          0.25285565853118896,
          0.24396732449531555,
          0.25577250123023987,
          0.253852516412735,
          0.264878511428833,
          0.26322516798973083,
          0.2788318693637848,
          0.24885079264640808,
          0.185879647731781,
          0.20023949444293976,
          0.18179936707019806,
          0.18776839971542358,
          0.1925751119852066,
          0.17974922060966492,
          0.185720756649971,
          0.19222894310951233,
          0.19426429271697998,
          0.19648714363574982,
          0.19010698795318604,
          0.20934642851352692,
          0.2156025916337967,
          0.2251906841993332,
          0.22379440069198608,
          0.22355709969997406,
          0.23162613809108734,
          0.22321687638759613,
          0.19756953418254852,
          0.2016752064228058,
          0.1859275847673416,
          0.21361525356769562,
          0.20998650789260864,
          0.21311187744140625,
          0.21443438529968262,
          0.2108989655971527,
          0.2181721031665802,
          0.21493127942085266,
          0.20603899657726288,
          0.20369647443294525,
          0.2022607922554016,
          0.2087400257587433,
          0.21540799736976624,
          0.20522832870483398,
          0.20870696008205414,
          0.22199997305870056,
          0.23001575469970703,
          0.24251064658164978,
          0.24724239110946655,
          0.2564655542373657,
          0.24949011206626892,
          0.24968448281288147,
          0.25323206186294556,
          0.2438986599445343,
          0.24583719670772552,
          0.2525860667228699,
          0.2665235102176666,
          0.27591460943222046,
          0.32480254769325256,
          0.332464337348938,
          0.33061346411705017,
          0.3401244878768921,
          0.3359817862510681,
          0.3383564352989197,
          0.3695511817932129,
          0.3489188849925995,
          0.3578951060771942,
          0.36374855041503906,
          0.37638184428215027,
          0.3740173280239105,
          0.3639622926712036,
          0.38550400733947754,
          0.39538586139678955,
          0.4733034670352936,
          0.4725508689880371,
          0.43310415744781494,
          0.4679003357887268,
          0.4599664807319641,
          0.45773518085479736,
          0.47984936833381653,
          0.5108304023742676,
          0.5130645036697388,
          0.49961239099502563,
          0.4935481548309326,
          0.5345249176025391,
          0.5845949649810791,
          0.5931403040885925,
          0.5938453078269958,
          0.6371766328811646,
          0.6383036971092224,
          0.62363600730896,
          0.623319149017334,
          0.6633701920509338,
          0.643146812915802,
          0.5579363107681274,
          0.5556613802909851,
          0.5884748101234436,
          0.6132631301879883,
          0.6912998557090759,
          0.6469656825065613,
          0.6684147715568542,
          0.6815779805183411,
          0.6414035558700562,
          0.6658899784088135,
          0.676175057888031,
          0.6679050922393799,
          0.6210035681724548,
          0.6335451602935791,
          0.6179780960083008,
          0.6068741083145142,
          0.6470011472702026,
          0.665251612663269,
          0.6708691716194153,
          0.6800519824028015,
          0.7820742726325989,
          0.8626008629798889,
          0.8805319666862488,
          0.9199649691581726,
          0.8988152146339417,
          0.8624888062477112,
          0.915287971496582,
          0.8861022591590881,
          0.9127514362335205,
          0.9627970457077026,
          1.058285117149353,
          1.0494087934494019,
          1.0931867361068726,
          1.1081452369689941,
          1.187807321548462,
          1.1964693069458008,
          1.2165358066558838,
          1.3648728132247925,
          1.4001507759094238,
          1.3565022945404053,
          1.465367078781128,
          1.617950677871704,
          1.7551648616790771,
          1.8320279121398926,
          1.8027677536010742,
          1.700498342514038,
          1.5501857995986938,
          1.461624026298523,
          1.6444592475891113,
          1.7452664375305176,
          1.6180046796798706,
          1.583132266998291,
          1.5622884035110474,
          1.6074825525283813,
          1.5772954225540161,
          1.5491671562194824,
          1.294744610786438,
          1.4122058153152466,
          1.3616602420806885,
          1.3736071586608887,
          1.3777567148208618,
          1.3887189626693726,
          1.2735618352890015,
          1.4370083808898926,
          1.4828218221664429,
          1.4802966117858887,
          1.418056845664978,
          1.4408382177352905,
          1.5471488237380981,
          1.6528499126434326,
          1.6234302520751953,
          1.6890687942504883
         ]
        }
       ],
       "layout": {
        "legend": {
         "bgcolor": "#F5F6F9",
         "font": {
          "color": "#4D5663"
         }
        },
        "paper_bgcolor": "#F5F6F9",
        "plot_bgcolor": "#F5F6F9",
        "template": {
         "data": {
          "bar": [
           {
            "error_x": {
             "color": "#2a3f5f"
            },
            "error_y": {
             "color": "#2a3f5f"
            },
            "marker": {
             "line": {
              "color": "#E5ECF6",
              "width": 0.5
             }
            },
            "type": "bar"
           }
          ],
          "barpolar": [
           {
            "marker": {
             "line": {
              "color": "#E5ECF6",
              "width": 0.5
             }
            },
            "type": "barpolar"
           }
          ],
          "carpet": [
           {
            "aaxis": {
             "endlinecolor": "#2a3f5f",
             "gridcolor": "white",
             "linecolor": "white",
             "minorgridcolor": "white",
             "startlinecolor": "#2a3f5f"
            },
            "baxis": {
             "endlinecolor": "#2a3f5f",
             "gridcolor": "white",
             "linecolor": "white",
             "minorgridcolor": "white",
             "startlinecolor": "#2a3f5f"
            },
            "type": "carpet"
           }
          ],
          "choropleth": [
           {
            "colorbar": {
             "outlinewidth": 0,
             "ticks": ""
            },
            "type": "choropleth"
           }
          ],
          "contour": [
           {
            "colorbar": {
             "outlinewidth": 0,
             "ticks": ""
            },
            "colorscale": [
             [
              0,
              "#0d0887"
             ],
             [
              0.1111111111111111,
              "#46039f"
             ],
             [
              0.2222222222222222,
              "#7201a8"
             ],
             [
              0.3333333333333333,
              "#9c179e"
             ],
             [
              0.4444444444444444,
              "#bd3786"
             ],
             [
              0.5555555555555556,
              "#d8576b"
             ],
             [
              0.6666666666666666,
              "#ed7953"
             ],
             [
              0.7777777777777778,
              "#fb9f3a"
             ],
             [
              0.8888888888888888,
              "#fdca26"
             ],
             [
              1,
              "#f0f921"
             ]
            ],
            "type": "contour"
           }
          ],
          "contourcarpet": [
           {
            "colorbar": {
             "outlinewidth": 0,
             "ticks": ""
            },
            "type": "contourcarpet"
           }
          ],
          "heatmap": [
           {
            "colorbar": {
             "outlinewidth": 0,
             "ticks": ""
            },
            "colorscale": [
             [
              0,
              "#0d0887"
             ],
             [
              0.1111111111111111,
              "#46039f"
             ],
             [
              0.2222222222222222,
              "#7201a8"
             ],
             [
              0.3333333333333333,
              "#9c179e"
             ],
             [
              0.4444444444444444,
              "#bd3786"
             ],
             [
              0.5555555555555556,
              "#d8576b"
             ],
             [
              0.6666666666666666,
              "#ed7953"
             ],
             [
              0.7777777777777778,
              "#fb9f3a"
             ],
             [
              0.8888888888888888,
              "#fdca26"
             ],
             [
              1,
              "#f0f921"
             ]
            ],
            "type": "heatmap"
           }
          ],
          "heatmapgl": [
           {
            "colorbar": {
             "outlinewidth": 0,
             "ticks": ""
            },
            "colorscale": [
             [
              0,
              "#0d0887"
             ],
             [
              0.1111111111111111,
              "#46039f"
             ],
             [
              0.2222222222222222,
              "#7201a8"
             ],
             [
              0.3333333333333333,
              "#9c179e"
             ],
             [
              0.4444444444444444,
              "#bd3786"
             ],
             [
              0.5555555555555556,
              "#d8576b"
             ],
             [
              0.6666666666666666,
              "#ed7953"
             ],
             [
              0.7777777777777778,
              "#fb9f3a"
             ],
             [
              0.8888888888888888,
              "#fdca26"
             ],
             [
              1,
              "#f0f921"
             ]
            ],
            "type": "heatmapgl"
           }
          ],
          "histogram": [
           {
            "marker": {
             "colorbar": {
              "outlinewidth": 0,
              "ticks": ""
             }
            },
            "type": "histogram"
           }
          ],
          "histogram2d": [
           {
            "colorbar": {
             "outlinewidth": 0,
             "ticks": ""
            },
            "colorscale": [
             [
              0,
              "#0d0887"
             ],
             [
              0.1111111111111111,
              "#46039f"
             ],
             [
              0.2222222222222222,
              "#7201a8"
             ],
             [
              0.3333333333333333,
              "#9c179e"
             ],
             [
              0.4444444444444444,
              "#bd3786"
             ],
             [
              0.5555555555555556,
              "#d8576b"
             ],
             [
              0.6666666666666666,
              "#ed7953"
             ],
             [
              0.7777777777777778,
              "#fb9f3a"
             ],
             [
              0.8888888888888888,
              "#fdca26"
             ],
             [
              1,
              "#f0f921"
             ]
            ],
            "type": "histogram2d"
           }
          ],
          "histogram2dcontour": [
           {
            "colorbar": {
             "outlinewidth": 0,
             "ticks": ""
            },
            "colorscale": [
             [
              0,
              "#0d0887"
             ],
             [
              0.1111111111111111,
              "#46039f"
             ],
             [
              0.2222222222222222,
              "#7201a8"
             ],
             [
              0.3333333333333333,
              "#9c179e"
             ],
             [
              0.4444444444444444,
              "#bd3786"
             ],
             [
              0.5555555555555556,
              "#d8576b"
             ],
             [
              0.6666666666666666,
              "#ed7953"
             ],
             [
              0.7777777777777778,
              "#fb9f3a"
             ],
             [
              0.8888888888888888,
              "#fdca26"
             ],
             [
              1,
              "#f0f921"
             ]
            ],
            "type": "histogram2dcontour"
           }
          ],
          "mesh3d": [
           {
            "colorbar": {
             "outlinewidth": 0,
             "ticks": ""
            },
            "type": "mesh3d"
           }
          ],
          "parcoords": [
           {
            "line": {
             "colorbar": {
              "outlinewidth": 0,
              "ticks": ""
             }
            },
            "type": "parcoords"
           }
          ],
          "pie": [
           {
            "automargin": true,
            "type": "pie"
           }
          ],
          "scatter": [
           {
            "marker": {
             "colorbar": {
              "outlinewidth": 0,
              "ticks": ""
             }
            },
            "type": "scatter"
           }
          ],
          "scatter3d": [
           {
            "line": {
             "colorbar": {
              "outlinewidth": 0,
              "ticks": ""
             }
            },
            "marker": {
             "colorbar": {
              "outlinewidth": 0,
              "ticks": ""
             }
            },
            "type": "scatter3d"
           }
          ],
          "scattercarpet": [
           {
            "marker": {
             "colorbar": {
              "outlinewidth": 0,
              "ticks": ""
             }
            },
            "type": "scattercarpet"
           }
          ],
          "scattergeo": [
           {
            "marker": {
             "colorbar": {
              "outlinewidth": 0,
              "ticks": ""
             }
            },
            "type": "scattergeo"
           }
          ],
          "scattergl": [
           {
            "marker": {
             "colorbar": {
              "outlinewidth": 0,
              "ticks": ""
             }
            },
            "type": "scattergl"
           }
          ],
          "scattermapbox": [
           {
            "marker": {
             "colorbar": {
              "outlinewidth": 0,
              "ticks": ""
             }
            },
            "type": "scattermapbox"
           }
          ],
          "scatterpolar": [
           {
            "marker": {
             "colorbar": {
              "outlinewidth": 0,
              "ticks": ""
             }
            },
            "type": "scatterpolar"
           }
          ],
          "scatterpolargl": [
           {
            "marker": {
             "colorbar": {
              "outlinewidth": 0,
              "ticks": ""
             }
            },
            "type": "scatterpolargl"
           }
          ],
          "scatterternary": [
           {
            "marker": {
             "colorbar": {
              "outlinewidth": 0,
              "ticks": ""
             }
            },
            "type": "scatterternary"
           }
          ],
          "surface": [
           {
            "colorbar": {
             "outlinewidth": 0,
             "ticks": ""
            },
            "colorscale": [
             [
              0,
              "#0d0887"
             ],
             [
              0.1111111111111111,
              "#46039f"
             ],
             [
              0.2222222222222222,
              "#7201a8"
             ],
             [
              0.3333333333333333,
              "#9c179e"
             ],
             [
              0.4444444444444444,
              "#bd3786"
             ],
             [
              0.5555555555555556,
              "#d8576b"
             ],
             [
              0.6666666666666666,
              "#ed7953"
             ],
             [
              0.7777777777777778,
              "#fb9f3a"
             ],
             [
              0.8888888888888888,
              "#fdca26"
             ],
             [
              1,
              "#f0f921"
             ]
            ],
            "type": "surface"
           }
          ],
          "table": [
           {
            "cells": {
             "fill": {
              "color": "#EBF0F8"
             },
             "line": {
              "color": "white"
             }
            },
            "header": {
             "fill": {
              "color": "#C8D4E3"
             },
             "line": {
              "color": "white"
             }
            },
            "type": "table"
           }
          ]
         },
         "layout": {
          "annotationdefaults": {
           "arrowcolor": "#2a3f5f",
           "arrowhead": 0,
           "arrowwidth": 1
          },
          "autotypenumbers": "strict",
          "coloraxis": {
           "colorbar": {
            "outlinewidth": 0,
            "ticks": ""
           }
          },
          "colorscale": {
           "diverging": [
            [
             0,
             "#8e0152"
            ],
            [
             0.1,
             "#c51b7d"
            ],
            [
             0.2,
             "#de77ae"
            ],
            [
             0.3,
             "#f1b6da"
            ],
            [
             0.4,
             "#fde0ef"
            ],
            [
             0.5,
             "#f7f7f7"
            ],
            [
             0.6,
             "#e6f5d0"
            ],
            [
             0.7,
             "#b8e186"
            ],
            [
             0.8,
             "#7fbc41"
            ],
            [
             0.9,
             "#4d9221"
            ],
            [
             1,
             "#276419"
            ]
           ],
           "sequential": [
            [
             0,
             "#0d0887"
            ],
            [
             0.1111111111111111,
             "#46039f"
            ],
            [
             0.2222222222222222,
             "#7201a8"
            ],
            [
             0.3333333333333333,
             "#9c179e"
            ],
            [
             0.4444444444444444,
             "#bd3786"
            ],
            [
             0.5555555555555556,
             "#d8576b"
            ],
            [
             0.6666666666666666,
             "#ed7953"
            ],
            [
             0.7777777777777778,
             "#fb9f3a"
            ],
            [
             0.8888888888888888,
             "#fdca26"
            ],
            [
             1,
             "#f0f921"
            ]
           ],
           "sequentialminus": [
            [
             0,
             "#0d0887"
            ],
            [
             0.1111111111111111,
             "#46039f"
            ],
            [
             0.2222222222222222,
             "#7201a8"
            ],
            [
             0.3333333333333333,
             "#9c179e"
            ],
            [
             0.4444444444444444,
             "#bd3786"
            ],
            [
             0.5555555555555556,
             "#d8576b"
            ],
            [
             0.6666666666666666,
             "#ed7953"
            ],
            [
             0.7777777777777778,
             "#fb9f3a"
            ],
            [
             0.8888888888888888,
             "#fdca26"
            ],
            [
             1,
             "#f0f921"
            ]
           ]
          },
          "colorway": [
           "#636efa",
           "#EF553B",
           "#00cc96",
           "#ab63fa",
           "#FFA15A",
           "#19d3f3",
           "#FF6692",
           "#B6E880",
           "#FF97FF",
           "#FECB52"
          ],
          "font": {
           "color": "#2a3f5f"
          },
          "geo": {
           "bgcolor": "white",
           "lakecolor": "white",
           "landcolor": "#E5ECF6",
           "showlakes": true,
           "showland": true,
           "subunitcolor": "white"
          },
          "hoverlabel": {
           "align": "left"
          },
          "hovermode": "closest",
          "mapbox": {
           "style": "light"
          },
          "paper_bgcolor": "white",
          "plot_bgcolor": "#E5ECF6",
          "polar": {
           "angularaxis": {
            "gridcolor": "white",
            "linecolor": "white",
            "ticks": ""
           },
           "bgcolor": "#E5ECF6",
           "radialaxis": {
            "gridcolor": "white",
            "linecolor": "white",
            "ticks": ""
           }
          },
          "scene": {
           "xaxis": {
            "backgroundcolor": "#E5ECF6",
            "gridcolor": "white",
            "gridwidth": 2,
            "linecolor": "white",
            "showbackground": true,
            "ticks": "",
            "zerolinecolor": "white"
           },
           "yaxis": {
            "backgroundcolor": "#E5ECF6",
            "gridcolor": "white",
            "gridwidth": 2,
            "linecolor": "white",
            "showbackground": true,
            "ticks": "",
            "zerolinecolor": "white"
           },
           "zaxis": {
            "backgroundcolor": "#E5ECF6",
            "gridcolor": "white",
            "gridwidth": 2,
            "linecolor": "white",
            "showbackground": true,
            "ticks": "",
            "zerolinecolor": "white"
           }
          },
          "shapedefaults": {
           "line": {
            "color": "#2a3f5f"
           }
          },
          "ternary": {
           "aaxis": {
            "gridcolor": "white",
            "linecolor": "white",
            "ticks": ""
           },
           "baxis": {
            "gridcolor": "white",
            "linecolor": "white",
            "ticks": ""
           },
           "bgcolor": "#E5ECF6",
           "caxis": {
            "gridcolor": "white",
            "linecolor": "white",
            "ticks": ""
           }
          },
          "title": {
           "x": 0.05
          },
          "xaxis": {
           "automargin": true,
           "gridcolor": "white",
           "linecolor": "white",
           "ticks": "",
           "title": {
            "standoff": 15
           },
           "zerolinecolor": "white",
           "zerolinewidth": 2
          },
          "yaxis": {
           "automargin": true,
           "gridcolor": "white",
           "linecolor": "white",
           "ticks": "",
           "title": {
            "standoff": 15
           },
           "zerolinecolor": "white",
           "zerolinewidth": 2
          }
         }
        },
        "title": {
         "font": {
          "color": "#4D5663"
         }
        },
        "xaxis": {
         "gridcolor": "#E1E5ED",
         "showgrid": true,
         "tickfont": {
          "color": "#4D5663"
         },
         "title": {
          "font": {
           "color": "#4D5663"
          },
          "text": ""
         },
         "zerolinecolor": "#E1E5ED"
        },
        "yaxis": {
         "gridcolor": "#E1E5ED",
         "showgrid": true,
         "tickfont": {
          "color": "#4D5663"
         },
         "title": {
          "font": {
           "color": "#4D5663"
          },
          "text": ""
         },
         "zerolinecolor": "#E1E5ED"
        }
       }
      },
      "text/html": [
       "<div>                            <div id=\"1db1dffb-75cd-4ecf-af7c-483bc94d8aa2\" class=\"plotly-graph-div\" style=\"height:525px; width:100%;\"></div>            <script type=\"text/javascript\">                require([\"plotly\"], function(Plotly) {                    window.PLOTLYENV=window.PLOTLYENV || {};\n",
       "                    window.PLOTLYENV.BASE_URL='https://plot.ly';                                    if (document.getElementById(\"1db1dffb-75cd-4ecf-af7c-483bc94d8aa2\")) {                    Plotly.newPlot(                        \"1db1dffb-75cd-4ecf-af7c-483bc94d8aa2\",                        [{\"line\": {\"color\": \"rgba(255, 153, 51, 1.0)\", \"dash\": \"solid\", \"shape\": \"linear\", \"width\": 1.3}, \"mode\": \"lines\", \"name\": \"Predicted\", \"text\": \"\", \"type\": \"scatter\", \"x\": [0, 1, 2, 3, 4, 5, 6, 7, 8, 9, 10, 11, 12, 13, 14, 15, 16, 17, 18, 19, 20, 21, 22, 23, 24, 25, 26, 27, 28, 29, 30, 31, 32, 33, 34, 35, 36, 37, 38, 39, 40, 41, 42, 43, 44, 45, 46, 47, 48, 49, 50, 51, 52, 53, 54, 55, 56, 57, 58, 59, 60, 61, 62, 63, 64, 65, 66, 67, 68, 69, 70, 71, 72, 73, 74, 75, 76, 77, 78, 79, 80, 81, 82, 83, 84, 85, 86, 87, 88, 89, 90, 91, 92, 93, 94, 95, 96, 97, 98, 99, 100, 101, 102, 103, 104, 105, 106, 107, 108, 109, 110, 111, 112, 113, 114, 115, 116, 117, 118, 119, 120, 121, 122, 123, 124, 125, 126, 127, 128, 129, 130, 131, 132, 133, 134, 135, 136, 137, 138, 139, 140, 141, 142, 143, 144, 145, 146, 147, 148, 149, 150, 151, 152, 153, 154, 155, 156, 157, 158, 159, 160, 161, 162, 163, 164, 165, 166, 167, 168, 169, 170, 171, 172, 173, 174, 175, 176, 177, 178, 179, 180, 181, 182, 183, 184, 185, 186, 187, 188, 189, 190, 191, 192, 193, 194, 195, 196, 197, 198, 199, 200, 201, 202, 203, 204, 205, 206, 207, 208, 209, 210, 211, 212, 213, 214, 215, 216, 217, 218, 219, 220, 221, 222, 223, 224, 225, 226, 227, 228, 229, 230, 231, 232, 233, 234, 235, 236, 237, 238, 239, 240, 241, 242, 243, 244, 245, 246, 247, 248, 249, 250, 251, 252, 253, 254, 255], \"y\": [0.05846383795142174, 0.08707015216350555, 0.12362414598464966, 0.1594580113887787, 0.1630440205335617, 0.17599433660507202, 0.15728828310966492, 0.18359097838401794, 0.15835991501808167, 0.14480850100517273, 0.1470085084438324, 0.14156289398670197, 0.1378166377544403, 0.14355164766311646, 0.14585475623607635, 0.14729434251785278, 0.1518336534500122, 0.12806309759616852, 0.1265360563993454, 0.12148737907409668, 0.11790657788515091, 0.12734447419643402, 0.14002862572669983, 0.1355576068162918, 0.1265566200017929, 0.11770973354578018, 0.11639080196619034, 0.113341324031353, 0.14315877854824066, 0.14826329052448273, 0.12463941425085068, 0.11103567481040955, 0.05247540771961212, 0.08218038082122803, 0.10386108607053757, 0.11881128698587418, 0.11990132182836533, 0.12706823647022247, 0.11922920495271683, 0.11060843616724014, 0.10861602425575256, 0.10269975662231445, 0.12923558056354523, 0.13438135385513306, 0.15584658086299896, 0.13789120316505432, 0.12697918713092804, 0.11408641934394836, 0.11614365130662918, 0.11640769243240356, 0.11801958829164505, 0.11252164840698242, 0.1046312004327774, 0.10475226491689682, 0.10643643140792847, 0.1066175252199173, 0.10637183487415314, 0.13991503417491913, 0.15825192630290985, 0.1628190279006958, 0.15380601584911346, 0.15490086376667023, 0.16402308642864227, 0.2192406952381134, 0.1380196511745453, 0.20938977599143982, 0.2314402461051941, 0.24670211970806122, 0.2627408802509308, 0.24674907326698303, 0.23755335807800293, 0.22712361812591553, 0.25286102294921875, 0.25928375124931335, 0.25521576404571533, 0.25654417276382446, 0.2486112415790558, 0.2687784731388092, 0.2363206297159195, 0.24383583664894104, 0.2599044442176819, 0.27147820591926575, 0.27772268652915955, 0.27409276366233826, 0.2900691330432892, 0.2710736095905304, 0.24590645730495453, 0.24578791856765747, 0.2296970933675766, 0.2307087481021881, 0.23157399892807007, 0.2446015477180481, 0.22441449761390686, 0.22827747464179993, 0.21909135580062866, 0.22969551384449005, 0.12004902958869934, 0.20071274042129517, 0.24432127177715302, 0.2937639057636261, 0.24955669045448303, 0.20996277034282684, 0.20564889907836914, 0.192250058054924, 0.1884685903787613, 0.18179431557655334, 0.17336170375347137, 0.1688876450061798, 0.19499848783016205, 0.19478073716163635, 0.19142109155654907, 0.18335948884487152, 0.19189076125621796, 0.2046843022108078, 0.2280336618423462, 0.23199519515037537, 0.22112099826335907, 0.21562421321868896, 0.20098042488098145, 0.17144615948200226, 0.16189612448215485, 0.14380064606666565, 0.19466274976730347, 0.20335912704467773, 0.21635057032108307, 0.2235296070575714, 0.21909016370773315, 0.22020599246025085, 0.1306038349866867, 0.18465401232242584, 0.20791764557361603, 0.21496227383613586, 0.2410585582256317, 0.24103543162345886, 0.21415254473686218, 0.1931532323360443, 0.2255643904209137, 0.21442319452762604, 0.21571262180805206, 0.21293756365776062, 0.22241972386837006, 0.2150125354528427, 0.21681758761405945, 0.22415338456630707, 0.21871554851531982, 0.21650028228759766, 0.22567139565944672, 0.24583692848682404, 0.26370975375175476, 0.3145063519477844, 0.3174896836280823, 0.30923107266426086, 0.3114940822124481, 0.31221437454223633, 0.3179349899291992, 0.342572957277298, 0.33264437317848206, 0.35251328349113464, 0.34393131732940674, 0.35526326298713684, 0.20759136974811554, 0.30742397904396057, 0.3679629862308502, 0.39188259840011597, 0.4508620500564575, 0.44926053285598755, 0.4095709025859833, 0.43106308579444885, 0.425549179315567, 0.41860559582710266, 0.4427178204059601, 0.4610620439052582, 0.4653751850128174, 0.45166775584220886, 0.44515037536621094, 0.47946324944496155, 0.5169315338134766, 0.5421791076660156, 0.5351634621620178, 0.5565924644470215, 0.5623300075531006, 0.5416036248207092, 0.5502891540527344, 0.5804312229156494, 0.5669969916343689, 0.48592373728752136, 0.47478511929512024, 0.49425432085990906, 0.5151945352554321, 0.5959597826004028, 0.5662776231765747, 0.5813168287277222, 0.3642791509628296, 0.5077248215675354, 0.5883058905601501, 0.6155592799186707, 0.6099887490272522, 0.562786340713501, 0.5576449632644653, 0.5284081697463989, 0.4959341883659363, 0.5308019518852234, 0.5667570233345032, 0.5854690074920654, 0.6033680438995361, 0.666205644607544, 0.7383974194526672, 0.7178106904029846, 0.730758547782898, 0.7178704738616943, 0.6934182047843933, 0.7250681519508362, 0.7097938656806946, 0.7224999666213989, 0.7483502626419067, 0.8001182079315186, 0.8287349939346313, 0.8354606628417969, 0.8081846833229065, 0.8579744100570679, 0.8568630218505859, 0.8748196959495544, 0.946183979511261, 0.9856571555137634, 0.6358593702316284, 0.9365270733833313, 1.0978283882141113, 1.1914626359939575, 1.1748135089874268, 1.1688451766967773, 1.081451416015625, 0.8900291323661804, 0.9328234195709229, 1.0423630475997925, 1.1257132291793823, 0.984223484992981, 1.0292223691940308, 0.9819563627243042, 1.0134254693984985, 1.0151728391647339, 0.9347886443138123, 0.7870816588401794, 0.8818982243537903, 0.8733236789703369, 0.8887763023376465, 0.9346382021903992, 0.9010685682296753, 0.806966245174408, 0.9462906718254089, 1.0151311159133911, 0.9821043014526367, 0.9175187945365906, 0.9586751461029053, 1.0507246255874634, 1.0925068855285645, 1.0698312520980835]}, {\"line\": {\"color\": \"rgba(55, 128, 191, 1.0)\", \"dash\": \"solid\", \"shape\": \"linear\", \"width\": 1.3}, \"mode\": \"lines\", \"name\": \"Labels\", \"text\": \"\", \"type\": \"scatter\", \"x\": [0, 1, 2, 3, 4, 5, 6, 7, 8, 9, 10, 11, 12, 13, 14, 15, 16, 17, 18, 19, 20, 21, 22, 23, 24, 25, 26, 27, 28, 29, 30, 31, 32, 33, 34, 35, 36, 37, 38, 39, 40, 41, 42, 43, 44, 45, 46, 47, 48, 49, 50, 51, 52, 53, 54, 55, 56, 57, 58, 59, 60, 61, 62, 63, 64, 65, 66, 67, 68, 69, 70, 71, 72, 73, 74, 75, 76, 77, 78, 79, 80, 81, 82, 83, 84, 85, 86, 87, 88, 89, 90, 91, 92, 93, 94, 95, 96, 97, 98, 99, 100, 101, 102, 103, 104, 105, 106, 107, 108, 109, 110, 111, 112, 113, 114, 115, 116, 117, 118, 119, 120, 121, 122, 123, 124, 125, 126, 127, 128, 129, 130, 131, 132, 133, 134, 135, 136, 137, 138, 139, 140, 141, 142, 143, 144, 145, 146, 147, 148, 149, 150, 151, 152, 153, 154, 155, 156, 157, 158, 159, 160, 161, 162, 163, 164, 165, 166, 167, 168, 169, 170, 171, 172, 173, 174, 175, 176, 177, 178, 179, 180, 181, 182, 183, 184, 185, 186, 187, 188, 189, 190, 191, 192, 193, 194, 195, 196, 197, 198, 199, 200, 201, 202, 203, 204, 205, 206, 207, 208, 209, 210, 211, 212, 213, 214, 215, 216, 217, 218, 219, 220, 221, 222, 223, 224, 225, 226, 227, 228, 229, 230, 231, 232, 233, 234, 235, 236, 237, 238, 239, 240, 241, 242, 243, 244, 245, 246, 247, 248, 249, 250, 251, 252, 253, 254, 255], \"y\": [0.10989619791507721, 0.1285366714000702, 0.14711077511310577, 0.14244335889816284, 0.15652155876159668, 0.1436251848936081, 0.1816754937171936, 0.1473291516304016, 0.15416721999645233, 0.16192151606082916, 0.15464216470718384, 0.15400350093841553, 0.15967018902301788, 0.16035106778144836, 0.16165554523468018, 0.16566388309001923, 0.13612094521522522, 0.14469118416309357, 0.144391268491745, 0.1396234780550003, 0.1430671513080597, 0.14777205884456635, 0.14465947449207306, 0.1409733146429062, 0.13430184125900269, 0.13668988645076752, 0.1351429522037506, 0.1537361741065979, 0.1527092605829239, 0.13568070530891418, 0.13305151462554932, 0.12756143510341644, 0.1212291345000267, 0.12651965022087097, 0.12906666100025177, 0.1262185275554657, 0.1310855895280838, 0.12543277442455292, 0.12348739057779312, 0.12592189013957977, 0.12276750057935715, 0.13901393115520477, 0.13237610459327698, 0.1418619304895401, 0.13376030325889587, 0.1338055580854416, 0.1317332684993744, 0.13368120789527893, 0.1319093108177185, 0.13188773393630981, 0.12917350232601166, 0.12590788304805756, 0.12694044411182404, 0.1273525059223175, 0.12879523634910583, 0.12763221561908722, 0.13898229598999023, 0.147089883685112, 0.15009143948554993, 0.14771108329296112, 0.15526612102985382, 0.1675535887479782, 0.22605106234550476, 0.22184573113918304, 0.23195599019527435, 0.2325349897146225, 0.2439710646867752, 0.2674694061279297, 0.22943149507045746, 0.23981598019599915, 0.2376362383365631, 0.2667921483516693, 0.26855671405792236, 0.2589499354362488, 0.2671705186367035, 0.26295140385627747, 0.27385514974594116, 0.24866178631782532, 0.2580588757991791, 0.2687918543815613, 0.2679692804813385, 0.2731863558292389, 0.2746467888355255, 0.29412955045700073, 0.2799501121044159, 0.267398864030838, 0.2738691568374634, 0.2584659159183502, 0.2632793188095093, 0.26236459612846375, 0.26827776432037354, 0.24627003073692322, 0.25285565853118896, 0.24396732449531555, 0.25577250123023987, 0.253852516412735, 0.264878511428833, 0.26322516798973083, 0.2788318693637848, 0.24885079264640808, 0.185879647731781, 0.20023949444293976, 0.18179936707019806, 0.18776839971542358, 0.1925751119852066, 0.17974922060966492, 0.185720756649971, 0.19222894310951233, 0.19426429271697998, 0.19648714363574982, 0.19010698795318604, 0.20934642851352692, 0.2156025916337967, 0.2251906841993332, 0.22379440069198608, 0.22355709969997406, 0.23162613809108734, 0.22321687638759613, 0.19756953418254852, 0.2016752064228058, 0.1859275847673416, 0.21361525356769562, 0.20998650789260864, 0.21311187744140625, 0.21443438529968262, 0.2108989655971527, 0.2181721031665802, 0.21493127942085266, 0.20603899657726288, 0.20369647443294525, 0.2022607922554016, 0.2087400257587433, 0.21540799736976624, 0.20522832870483398, 0.20870696008205414, 0.22199997305870056, 0.23001575469970703, 0.24251064658164978, 0.24724239110946655, 0.2564655542373657, 0.24949011206626892, 0.24968448281288147, 0.25323206186294556, 0.2438986599445343, 0.24583719670772552, 0.2525860667228699, 0.2665235102176666, 0.27591460943222046, 0.32480254769325256, 0.332464337348938, 0.33061346411705017, 0.3401244878768921, 0.3359817862510681, 0.3383564352989197, 0.3695511817932129, 0.3489188849925995, 0.3578951060771942, 0.36374855041503906, 0.37638184428215027, 0.3740173280239105, 0.3639622926712036, 0.38550400733947754, 0.39538586139678955, 0.4733034670352936, 0.4725508689880371, 0.43310415744781494, 0.4679003357887268, 0.4599664807319641, 0.45773518085479736, 0.47984936833381653, 0.5108304023742676, 0.5130645036697388, 0.49961239099502563, 0.4935481548309326, 0.5345249176025391, 0.5845949649810791, 0.5931403040885925, 0.5938453078269958, 0.6371766328811646, 0.6383036971092224, 0.62363600730896, 0.623319149017334, 0.6633701920509338, 0.643146812915802, 0.5579363107681274, 0.5556613802909851, 0.5884748101234436, 0.6132631301879883, 0.6912998557090759, 0.6469656825065613, 0.6684147715568542, 0.6815779805183411, 0.6414035558700562, 0.6658899784088135, 0.676175057888031, 0.6679050922393799, 0.6210035681724548, 0.6335451602935791, 0.6179780960083008, 0.6068741083145142, 0.6470011472702026, 0.665251612663269, 0.6708691716194153, 0.6800519824028015, 0.7820742726325989, 0.8626008629798889, 0.8805319666862488, 0.9199649691581726, 0.8988152146339417, 0.8624888062477112, 0.915287971496582, 0.8861022591590881, 0.9127514362335205, 0.9627970457077026, 1.058285117149353, 1.0494087934494019, 1.0931867361068726, 1.1081452369689941, 1.187807321548462, 1.1964693069458008, 1.2165358066558838, 1.3648728132247925, 1.4001507759094238, 1.3565022945404053, 1.465367078781128, 1.617950677871704, 1.7551648616790771, 1.8320279121398926, 1.8027677536010742, 1.700498342514038, 1.5501857995986938, 1.461624026298523, 1.6444592475891113, 1.7452664375305176, 1.6180046796798706, 1.583132266998291, 1.5622884035110474, 1.6074825525283813, 1.5772954225540161, 1.5491671562194824, 1.294744610786438, 1.4122058153152466, 1.3616602420806885, 1.3736071586608887, 1.3777567148208618, 1.3887189626693726, 1.2735618352890015, 1.4370083808898926, 1.4828218221664429, 1.4802966117858887, 1.418056845664978, 1.4408382177352905, 1.5471488237380981, 1.6528499126434326, 1.6234302520751953, 1.6890687942504883]}],                        {\"legend\": {\"bgcolor\": \"#F5F6F9\", \"font\": {\"color\": \"#4D5663\"}}, \"paper_bgcolor\": \"#F5F6F9\", \"plot_bgcolor\": \"#F5F6F9\", \"template\": {\"data\": {\"bar\": [{\"error_x\": {\"color\": \"#2a3f5f\"}, \"error_y\": {\"color\": \"#2a3f5f\"}, \"marker\": {\"line\": {\"color\": \"#E5ECF6\", \"width\": 0.5}}, \"type\": \"bar\"}], \"barpolar\": [{\"marker\": {\"line\": {\"color\": \"#E5ECF6\", \"width\": 0.5}}, \"type\": \"barpolar\"}], \"carpet\": [{\"aaxis\": {\"endlinecolor\": \"#2a3f5f\", \"gridcolor\": \"white\", \"linecolor\": \"white\", \"minorgridcolor\": \"white\", \"startlinecolor\": \"#2a3f5f\"}, \"baxis\": {\"endlinecolor\": \"#2a3f5f\", \"gridcolor\": \"white\", \"linecolor\": \"white\", \"minorgridcolor\": \"white\", \"startlinecolor\": \"#2a3f5f\"}, \"type\": \"carpet\"}], \"choropleth\": [{\"colorbar\": {\"outlinewidth\": 0, \"ticks\": \"\"}, \"type\": \"choropleth\"}], \"contour\": [{\"colorbar\": {\"outlinewidth\": 0, \"ticks\": \"\"}, \"colorscale\": [[0.0, \"#0d0887\"], [0.1111111111111111, \"#46039f\"], [0.2222222222222222, \"#7201a8\"], [0.3333333333333333, \"#9c179e\"], [0.4444444444444444, \"#bd3786\"], [0.5555555555555556, \"#d8576b\"], [0.6666666666666666, \"#ed7953\"], [0.7777777777777778, \"#fb9f3a\"], [0.8888888888888888, \"#fdca26\"], [1.0, \"#f0f921\"]], \"type\": \"contour\"}], \"contourcarpet\": [{\"colorbar\": {\"outlinewidth\": 0, \"ticks\": \"\"}, \"type\": \"contourcarpet\"}], \"heatmap\": [{\"colorbar\": {\"outlinewidth\": 0, \"ticks\": \"\"}, \"colorscale\": [[0.0, \"#0d0887\"], [0.1111111111111111, \"#46039f\"], [0.2222222222222222, \"#7201a8\"], [0.3333333333333333, \"#9c179e\"], [0.4444444444444444, \"#bd3786\"], [0.5555555555555556, \"#d8576b\"], [0.6666666666666666, \"#ed7953\"], [0.7777777777777778, \"#fb9f3a\"], [0.8888888888888888, \"#fdca26\"], [1.0, \"#f0f921\"]], \"type\": \"heatmap\"}], \"heatmapgl\": [{\"colorbar\": {\"outlinewidth\": 0, \"ticks\": \"\"}, \"colorscale\": [[0.0, \"#0d0887\"], [0.1111111111111111, \"#46039f\"], [0.2222222222222222, \"#7201a8\"], [0.3333333333333333, \"#9c179e\"], [0.4444444444444444, \"#bd3786\"], [0.5555555555555556, \"#d8576b\"], [0.6666666666666666, \"#ed7953\"], [0.7777777777777778, \"#fb9f3a\"], [0.8888888888888888, \"#fdca26\"], [1.0, \"#f0f921\"]], \"type\": \"heatmapgl\"}], \"histogram\": [{\"marker\": {\"colorbar\": {\"outlinewidth\": 0, \"ticks\": \"\"}}, \"type\": \"histogram\"}], \"histogram2d\": [{\"colorbar\": {\"outlinewidth\": 0, \"ticks\": \"\"}, \"colorscale\": [[0.0, \"#0d0887\"], [0.1111111111111111, \"#46039f\"], [0.2222222222222222, \"#7201a8\"], [0.3333333333333333, \"#9c179e\"], [0.4444444444444444, \"#bd3786\"], [0.5555555555555556, \"#d8576b\"], [0.6666666666666666, \"#ed7953\"], [0.7777777777777778, \"#fb9f3a\"], [0.8888888888888888, \"#fdca26\"], [1.0, \"#f0f921\"]], \"type\": \"histogram2d\"}], \"histogram2dcontour\": [{\"colorbar\": {\"outlinewidth\": 0, \"ticks\": \"\"}, \"colorscale\": [[0.0, \"#0d0887\"], [0.1111111111111111, \"#46039f\"], [0.2222222222222222, \"#7201a8\"], [0.3333333333333333, \"#9c179e\"], [0.4444444444444444, \"#bd3786\"], [0.5555555555555556, \"#d8576b\"], [0.6666666666666666, \"#ed7953\"], [0.7777777777777778, \"#fb9f3a\"], [0.8888888888888888, \"#fdca26\"], [1.0, \"#f0f921\"]], \"type\": \"histogram2dcontour\"}], \"mesh3d\": [{\"colorbar\": {\"outlinewidth\": 0, \"ticks\": \"\"}, \"type\": \"mesh3d\"}], \"parcoords\": [{\"line\": {\"colorbar\": {\"outlinewidth\": 0, \"ticks\": \"\"}}, \"type\": \"parcoords\"}], \"pie\": [{\"automargin\": true, \"type\": \"pie\"}], \"scatter\": [{\"marker\": {\"colorbar\": {\"outlinewidth\": 0, \"ticks\": \"\"}}, \"type\": \"scatter\"}], \"scatter3d\": [{\"line\": {\"colorbar\": {\"outlinewidth\": 0, \"ticks\": \"\"}}, \"marker\": {\"colorbar\": {\"outlinewidth\": 0, \"ticks\": \"\"}}, \"type\": \"scatter3d\"}], \"scattercarpet\": [{\"marker\": {\"colorbar\": {\"outlinewidth\": 0, \"ticks\": \"\"}}, \"type\": \"scattercarpet\"}], \"scattergeo\": [{\"marker\": {\"colorbar\": {\"outlinewidth\": 0, \"ticks\": \"\"}}, \"type\": \"scattergeo\"}], \"scattergl\": [{\"marker\": {\"colorbar\": {\"outlinewidth\": 0, \"ticks\": \"\"}}, \"type\": \"scattergl\"}], \"scattermapbox\": [{\"marker\": {\"colorbar\": {\"outlinewidth\": 0, \"ticks\": \"\"}}, \"type\": \"scattermapbox\"}], \"scatterpolar\": [{\"marker\": {\"colorbar\": {\"outlinewidth\": 0, \"ticks\": \"\"}}, \"type\": \"scatterpolar\"}], \"scatterpolargl\": [{\"marker\": {\"colorbar\": {\"outlinewidth\": 0, \"ticks\": \"\"}}, \"type\": \"scatterpolargl\"}], \"scatterternary\": [{\"marker\": {\"colorbar\": {\"outlinewidth\": 0, \"ticks\": \"\"}}, \"type\": \"scatterternary\"}], \"surface\": [{\"colorbar\": {\"outlinewidth\": 0, \"ticks\": \"\"}, \"colorscale\": [[0.0, \"#0d0887\"], [0.1111111111111111, \"#46039f\"], [0.2222222222222222, \"#7201a8\"], [0.3333333333333333, \"#9c179e\"], [0.4444444444444444, \"#bd3786\"], [0.5555555555555556, \"#d8576b\"], [0.6666666666666666, \"#ed7953\"], [0.7777777777777778, \"#fb9f3a\"], [0.8888888888888888, \"#fdca26\"], [1.0, \"#f0f921\"]], \"type\": \"surface\"}], \"table\": [{\"cells\": {\"fill\": {\"color\": \"#EBF0F8\"}, \"line\": {\"color\": \"white\"}}, \"header\": {\"fill\": {\"color\": \"#C8D4E3\"}, \"line\": {\"color\": \"white\"}}, \"type\": \"table\"}]}, \"layout\": {\"annotationdefaults\": {\"arrowcolor\": \"#2a3f5f\", \"arrowhead\": 0, \"arrowwidth\": 1}, \"autotypenumbers\": \"strict\", \"coloraxis\": {\"colorbar\": {\"outlinewidth\": 0, \"ticks\": \"\"}}, \"colorscale\": {\"diverging\": [[0, \"#8e0152\"], [0.1, \"#c51b7d\"], [0.2, \"#de77ae\"], [0.3, \"#f1b6da\"], [0.4, \"#fde0ef\"], [0.5, \"#f7f7f7\"], [0.6, \"#e6f5d0\"], [0.7, \"#b8e186\"], [0.8, \"#7fbc41\"], [0.9, \"#4d9221\"], [1, \"#276419\"]], \"sequential\": [[0.0, \"#0d0887\"], [0.1111111111111111, \"#46039f\"], [0.2222222222222222, \"#7201a8\"], [0.3333333333333333, \"#9c179e\"], [0.4444444444444444, \"#bd3786\"], [0.5555555555555556, \"#d8576b\"], [0.6666666666666666, \"#ed7953\"], [0.7777777777777778, \"#fb9f3a\"], [0.8888888888888888, \"#fdca26\"], [1.0, \"#f0f921\"]], \"sequentialminus\": [[0.0, \"#0d0887\"], [0.1111111111111111, \"#46039f\"], [0.2222222222222222, \"#7201a8\"], [0.3333333333333333, \"#9c179e\"], [0.4444444444444444, \"#bd3786\"], [0.5555555555555556, \"#d8576b\"], [0.6666666666666666, \"#ed7953\"], [0.7777777777777778, \"#fb9f3a\"], [0.8888888888888888, \"#fdca26\"], [1.0, \"#f0f921\"]]}, \"colorway\": [\"#636efa\", \"#EF553B\", \"#00cc96\", \"#ab63fa\", \"#FFA15A\", \"#19d3f3\", \"#FF6692\", \"#B6E880\", \"#FF97FF\", \"#FECB52\"], \"font\": {\"color\": \"#2a3f5f\"}, \"geo\": {\"bgcolor\": \"white\", \"lakecolor\": \"white\", \"landcolor\": \"#E5ECF6\", \"showlakes\": true, \"showland\": true, \"subunitcolor\": \"white\"}, \"hoverlabel\": {\"align\": \"left\"}, \"hovermode\": \"closest\", \"mapbox\": {\"style\": \"light\"}, \"paper_bgcolor\": \"white\", \"plot_bgcolor\": \"#E5ECF6\", \"polar\": {\"angularaxis\": {\"gridcolor\": \"white\", \"linecolor\": \"white\", \"ticks\": \"\"}, \"bgcolor\": \"#E5ECF6\", \"radialaxis\": {\"gridcolor\": \"white\", \"linecolor\": \"white\", \"ticks\": \"\"}}, \"scene\": {\"xaxis\": {\"backgroundcolor\": \"#E5ECF6\", \"gridcolor\": \"white\", \"gridwidth\": 2, \"linecolor\": \"white\", \"showbackground\": true, \"ticks\": \"\", \"zerolinecolor\": \"white\"}, \"yaxis\": {\"backgroundcolor\": \"#E5ECF6\", \"gridcolor\": \"white\", \"gridwidth\": 2, \"linecolor\": \"white\", \"showbackground\": true, \"ticks\": \"\", \"zerolinecolor\": \"white\"}, \"zaxis\": {\"backgroundcolor\": \"#E5ECF6\", \"gridcolor\": \"white\", \"gridwidth\": 2, \"linecolor\": \"white\", \"showbackground\": true, \"ticks\": \"\", \"zerolinecolor\": \"white\"}}, \"shapedefaults\": {\"line\": {\"color\": \"#2a3f5f\"}}, \"ternary\": {\"aaxis\": {\"gridcolor\": \"white\", \"linecolor\": \"white\", \"ticks\": \"\"}, \"baxis\": {\"gridcolor\": \"white\", \"linecolor\": \"white\", \"ticks\": \"\"}, \"bgcolor\": \"#E5ECF6\", \"caxis\": {\"gridcolor\": \"white\", \"linecolor\": \"white\", \"ticks\": \"\"}}, \"title\": {\"x\": 0.05}, \"xaxis\": {\"automargin\": true, \"gridcolor\": \"white\", \"linecolor\": \"white\", \"ticks\": \"\", \"title\": {\"standoff\": 15}, \"zerolinecolor\": \"white\", \"zerolinewidth\": 2}, \"yaxis\": {\"automargin\": true, \"gridcolor\": \"white\", \"linecolor\": \"white\", \"ticks\": \"\", \"title\": {\"standoff\": 15}, \"zerolinecolor\": \"white\", \"zerolinewidth\": 2}}}, \"title\": {\"font\": {\"color\": \"#4D5663\"}}, \"xaxis\": {\"gridcolor\": \"#E1E5ED\", \"showgrid\": true, \"tickfont\": {\"color\": \"#4D5663\"}, \"title\": {\"font\": {\"color\": \"#4D5663\"}, \"text\": \"\"}, \"zerolinecolor\": \"#E1E5ED\"}, \"yaxis\": {\"gridcolor\": \"#E1E5ED\", \"showgrid\": true, \"tickfont\": {\"color\": \"#4D5663\"}, \"title\": {\"font\": {\"color\": \"#4D5663\"}, \"text\": \"\"}, \"zerolinecolor\": \"#E1E5ED\"}},                        {\"showLink\": true, \"linkText\": \"Export to plot.ly\", \"plotlyServerURL\": \"https://plot.ly\", \"responsive\": true}                    ).then(function(){\n",
       "                            \n",
       "var gd = document.getElementById('1db1dffb-75cd-4ecf-af7c-483bc94d8aa2');\n",
       "var x = new MutationObserver(function (mutations, observer) {{\n",
       "        var display = window.getComputedStyle(gd).display;\n",
       "        if (!display || display === 'none') {{\n",
       "            console.log([gd, 'removed!']);\n",
       "            Plotly.purge(gd);\n",
       "            observer.disconnect();\n",
       "        }}\n",
       "}});\n",
       "\n",
       "// Listen for the removal of the full notebook cells\n",
       "var notebookContainer = gd.closest('#notebook-container');\n",
       "if (notebookContainer) {{\n",
       "    x.observe(notebookContainer, {childList: true});\n",
       "}}\n",
       "\n",
       "// Listen for the clearing of the current output cell\n",
       "var outputEl = gd.closest('.output');\n",
       "if (outputEl) {{\n",
       "    x.observe(outputEl, {childList: true});\n",
       "}}\n",
       "\n",
       "                        })                };                });            </script>        </div>"
      ]
     },
     "metadata": {},
     "output_type": "display_data"
    }
   ],
   "source": [
    "import tensorflow as tf\n",
    "\n",
    "test_window, label_window = next(iter(window.test))\n",
    "model.reset_states()\n",
    "predictions = model(test_window)\n",
    "\n",
    "predictions = tf.reshape(predictions, [-1])\n",
    "label_window = tf.reshape(label_window, [-1])\n",
    "\n",
    "pred2labels = pd.DataFrame({ 'Predicted': predictions, 'Labels': label_window})\n",
    "\n",
    "pred2labels.iplot()"
   ]
  },
  {
   "cell_type": "code",
   "execution_count": 13,
   "id": "olympic-shelter",
   "metadata": {},
   "outputs": [
    {
     "data": {
      "application/vnd.plotly.v1+json": {
       "config": {
        "plotlyServerURL": "https://plot.ly"
       },
       "data": [
        {
         "hovertemplate": "x=%{x}<br>y=%{y}<extra></extra>",
         "legendgroup": "",
         "marker": {
          "color": "#636efa",
          "symbol": "circle"
         },
         "mode": "markers",
         "name": "",
         "orientation": "v",
         "showlegend": false,
         "type": "scatter",
         "x": [
          0.05846383795142174,
          0.08707015216350555,
          0.12362414598464966,
          0.1594580113887787,
          0.1630440205335617,
          0.17599433660507202,
          0.15728828310966492,
          0.18359097838401794,
          0.15835991501808167,
          0.14480850100517273,
          0.1470085084438324,
          0.14156289398670197,
          0.1378166377544403,
          0.14355164766311646,
          0.14585475623607635,
          0.14729434251785278,
          0.1518336534500122,
          0.12806309759616852,
          0.1265360563993454,
          0.12148737907409668,
          0.11790657788515091,
          0.12734447419643402,
          0.14002862572669983,
          0.1355576068162918,
          0.1265566200017929,
          0.11770973354578018,
          0.11639080196619034,
          0.113341324031353,
          0.14315877854824066,
          0.14826329052448273,
          0.12463941425085068,
          0.11103567481040955,
          0.05247540771961212,
          0.08218038082122803,
          0.10386108607053757,
          0.11881128698587418,
          0.11990132182836533,
          0.12706823647022247,
          0.11922920495271683,
          0.11060843616724014,
          0.10861602425575256,
          0.10269975662231445,
          0.12923558056354523,
          0.13438135385513306,
          0.15584658086299896,
          0.13789120316505432,
          0.12697918713092804,
          0.11408641934394836,
          0.11614365130662918,
          0.11640769243240356,
          0.11801958829164505,
          0.11252164840698242,
          0.1046312004327774,
          0.10475226491689682,
          0.10643643140792847,
          0.1066175252199173,
          0.10637183487415314,
          0.13991503417491913,
          0.15825192630290985,
          0.1628190279006958,
          0.15380601584911346,
          0.15490086376667023,
          0.16402308642864227,
          0.2192406952381134,
          0.1380196511745453,
          0.20938977599143982,
          0.2314402461051941,
          0.24670211970806122,
          0.2627408802509308,
          0.24674907326698303,
          0.23755335807800293,
          0.22712361812591553,
          0.25286102294921875,
          0.25928375124931335,
          0.25521576404571533,
          0.25654417276382446,
          0.2486112415790558,
          0.2687784731388092,
          0.2363206297159195,
          0.24383583664894104,
          0.2599044442176819,
          0.27147820591926575,
          0.27772268652915955,
          0.27409276366233826,
          0.2900691330432892,
          0.2710736095905304,
          0.24590645730495453,
          0.24578791856765747,
          0.2296970933675766,
          0.2307087481021881,
          0.23157399892807007,
          0.2446015477180481,
          0.22441449761390686,
          0.22827747464179993,
          0.21909135580062866,
          0.22969551384449005,
          0.12004902958869934,
          0.20071274042129517,
          0.24432127177715302,
          0.2937639057636261,
          0.24955669045448303,
          0.20996277034282684,
          0.20564889907836914,
          0.192250058054924,
          0.1884685903787613,
          0.18179431557655334,
          0.17336170375347137,
          0.1688876450061798,
          0.19499848783016205,
          0.19478073716163635,
          0.19142109155654907,
          0.18335948884487152,
          0.19189076125621796,
          0.2046843022108078,
          0.2280336618423462,
          0.23199519515037537,
          0.22112099826335907,
          0.21562421321868896,
          0.20098042488098145,
          0.17144615948200226,
          0.16189612448215485,
          0.14380064606666565,
          0.19466274976730347,
          0.20335912704467773,
          0.21635057032108307,
          0.2235296070575714,
          0.21909016370773315,
          0.22020599246025085,
          0.1306038349866867,
          0.18465401232242584,
          0.20791764557361603,
          0.21496227383613586,
          0.2410585582256317,
          0.24103543162345886,
          0.21415254473686218,
          0.1931532323360443,
          0.2255643904209137,
          0.21442319452762604,
          0.21571262180805206,
          0.21293756365776062,
          0.22241972386837006,
          0.2150125354528427,
          0.21681758761405945,
          0.22415338456630707,
          0.21871554851531982,
          0.21650028228759766,
          0.22567139565944672,
          0.24583692848682404,
          0.26370975375175476,
          0.3145063519477844,
          0.3174896836280823,
          0.30923107266426086,
          0.3114940822124481,
          0.31221437454223633,
          0.3179349899291992,
          0.342572957277298,
          0.33264437317848206,
          0.35251328349113464,
          0.34393131732940674,
          0.35526326298713684,
          0.20759136974811554,
          0.30742397904396057,
          0.3679629862308502,
          0.39188259840011597,
          0.4508620500564575,
          0.44926053285598755,
          0.4095709025859833,
          0.43106308579444885,
          0.425549179315567,
          0.41860559582710266,
          0.4427178204059601,
          0.4610620439052582,
          0.4653751850128174,
          0.45166775584220886,
          0.44515037536621094,
          0.47946324944496155,
          0.5169315338134766,
          0.5421791076660156,
          0.5351634621620178,
          0.5565924644470215,
          0.5623300075531006,
          0.5416036248207092,
          0.5502891540527344,
          0.5804312229156494,
          0.5669969916343689,
          0.48592373728752136,
          0.47478511929512024,
          0.49425432085990906,
          0.5151945352554321,
          0.5959597826004028,
          0.5662776231765747,
          0.5813168287277222,
          0.3642791509628296,
          0.5077248215675354,
          0.5883058905601501,
          0.6155592799186707,
          0.6099887490272522,
          0.562786340713501,
          0.5576449632644653,
          0.5284081697463989,
          0.4959341883659363,
          0.5308019518852234,
          0.5667570233345032,
          0.5854690074920654,
          0.6033680438995361,
          0.666205644607544,
          0.7383974194526672,
          0.7178106904029846,
          0.730758547782898,
          0.7178704738616943,
          0.6934182047843933,
          0.7250681519508362,
          0.7097938656806946,
          0.7224999666213989,
          0.7483502626419067,
          0.8001182079315186,
          0.8287349939346313,
          0.8354606628417969,
          0.8081846833229065,
          0.8579744100570679,
          0.8568630218505859,
          0.8748196959495544,
          0.946183979511261,
          0.9856571555137634,
          0.6358593702316284,
          0.9365270733833313,
          1.0978283882141113,
          1.1914626359939575,
          1.1748135089874268,
          1.1688451766967773,
          1.081451416015625,
          0.8900291323661804,
          0.9328234195709229,
          1.0423630475997925,
          1.1257132291793823,
          0.984223484992981,
          1.0292223691940308,
          0.9819563627243042,
          1.0134254693984985,
          1.0151728391647339,
          0.9347886443138123,
          0.7870816588401794,
          0.8818982243537903,
          0.8733236789703369,
          0.8887763023376465,
          0.9346382021903992,
          0.9010685682296753,
          0.806966245174408,
          0.9462906718254089,
          1.0151311159133911,
          0.9821043014526367,
          0.9175187945365906,
          0.9586751461029053,
          1.0507246255874634,
          1.0925068855285645,
          1.0698312520980835
         ],
         "xaxis": "x",
         "y": [
          0.10989619791507721,
          0.1285366714000702,
          0.14711077511310577,
          0.14244335889816284,
          0.15652155876159668,
          0.1436251848936081,
          0.1816754937171936,
          0.1473291516304016,
          0.15416721999645233,
          0.16192151606082916,
          0.15464216470718384,
          0.15400350093841553,
          0.15967018902301788,
          0.16035106778144836,
          0.16165554523468018,
          0.16566388309001923,
          0.13612094521522522,
          0.14469118416309357,
          0.144391268491745,
          0.1396234780550003,
          0.1430671513080597,
          0.14777205884456635,
          0.14465947449207306,
          0.1409733146429062,
          0.13430184125900269,
          0.13668988645076752,
          0.1351429522037506,
          0.1537361741065979,
          0.1527092605829239,
          0.13568070530891418,
          0.13305151462554932,
          0.12756143510341644,
          0.1212291345000267,
          0.12651965022087097,
          0.12906666100025177,
          0.1262185275554657,
          0.1310855895280838,
          0.12543277442455292,
          0.12348739057779312,
          0.12592189013957977,
          0.12276750057935715,
          0.13901393115520477,
          0.13237610459327698,
          0.1418619304895401,
          0.13376030325889587,
          0.1338055580854416,
          0.1317332684993744,
          0.13368120789527893,
          0.1319093108177185,
          0.13188773393630981,
          0.12917350232601166,
          0.12590788304805756,
          0.12694044411182404,
          0.1273525059223175,
          0.12879523634910583,
          0.12763221561908722,
          0.13898229598999023,
          0.147089883685112,
          0.15009143948554993,
          0.14771108329296112,
          0.15526612102985382,
          0.1675535887479782,
          0.22605106234550476,
          0.22184573113918304,
          0.23195599019527435,
          0.2325349897146225,
          0.2439710646867752,
          0.2674694061279297,
          0.22943149507045746,
          0.23981598019599915,
          0.2376362383365631,
          0.2667921483516693,
          0.26855671405792236,
          0.2589499354362488,
          0.2671705186367035,
          0.26295140385627747,
          0.27385514974594116,
          0.24866178631782532,
          0.2580588757991791,
          0.2687918543815613,
          0.2679692804813385,
          0.2731863558292389,
          0.2746467888355255,
          0.29412955045700073,
          0.2799501121044159,
          0.267398864030838,
          0.2738691568374634,
          0.2584659159183502,
          0.2632793188095093,
          0.26236459612846375,
          0.26827776432037354,
          0.24627003073692322,
          0.25285565853118896,
          0.24396732449531555,
          0.25577250123023987,
          0.253852516412735,
          0.264878511428833,
          0.26322516798973083,
          0.2788318693637848,
          0.24885079264640808,
          0.185879647731781,
          0.20023949444293976,
          0.18179936707019806,
          0.18776839971542358,
          0.1925751119852066,
          0.17974922060966492,
          0.185720756649971,
          0.19222894310951233,
          0.19426429271697998,
          0.19648714363574982,
          0.19010698795318604,
          0.20934642851352692,
          0.2156025916337967,
          0.2251906841993332,
          0.22379440069198608,
          0.22355709969997406,
          0.23162613809108734,
          0.22321687638759613,
          0.19756953418254852,
          0.2016752064228058,
          0.1859275847673416,
          0.21361525356769562,
          0.20998650789260864,
          0.21311187744140625,
          0.21443438529968262,
          0.2108989655971527,
          0.2181721031665802,
          0.21493127942085266,
          0.20603899657726288,
          0.20369647443294525,
          0.2022607922554016,
          0.2087400257587433,
          0.21540799736976624,
          0.20522832870483398,
          0.20870696008205414,
          0.22199997305870056,
          0.23001575469970703,
          0.24251064658164978,
          0.24724239110946655,
          0.2564655542373657,
          0.24949011206626892,
          0.24968448281288147,
          0.25323206186294556,
          0.2438986599445343,
          0.24583719670772552,
          0.2525860667228699,
          0.2665235102176666,
          0.27591460943222046,
          0.32480254769325256,
          0.332464337348938,
          0.33061346411705017,
          0.3401244878768921,
          0.3359817862510681,
          0.3383564352989197,
          0.3695511817932129,
          0.3489188849925995,
          0.3578951060771942,
          0.36374855041503906,
          0.37638184428215027,
          0.3740173280239105,
          0.3639622926712036,
          0.38550400733947754,
          0.39538586139678955,
          0.4733034670352936,
          0.4725508689880371,
          0.43310415744781494,
          0.4679003357887268,
          0.4599664807319641,
          0.45773518085479736,
          0.47984936833381653,
          0.5108304023742676,
          0.5130645036697388,
          0.49961239099502563,
          0.4935481548309326,
          0.5345249176025391,
          0.5845949649810791,
          0.5931403040885925,
          0.5938453078269958,
          0.6371766328811646,
          0.6383036971092224,
          0.62363600730896,
          0.623319149017334,
          0.6633701920509338,
          0.643146812915802,
          0.5579363107681274,
          0.5556613802909851,
          0.5884748101234436,
          0.6132631301879883,
          0.6912998557090759,
          0.6469656825065613,
          0.6684147715568542,
          0.6815779805183411,
          0.6414035558700562,
          0.6658899784088135,
          0.676175057888031,
          0.6679050922393799,
          0.6210035681724548,
          0.6335451602935791,
          0.6179780960083008,
          0.6068741083145142,
          0.6470011472702026,
          0.665251612663269,
          0.6708691716194153,
          0.6800519824028015,
          0.7820742726325989,
          0.8626008629798889,
          0.8805319666862488,
          0.9199649691581726,
          0.8988152146339417,
          0.8624888062477112,
          0.915287971496582,
          0.8861022591590881,
          0.9127514362335205,
          0.9627970457077026,
          1.058285117149353,
          1.0494087934494019,
          1.0931867361068726,
          1.1081452369689941,
          1.187807321548462,
          1.1964693069458008,
          1.2165358066558838,
          1.3648728132247925,
          1.4001507759094238,
          1.3565022945404053,
          1.465367078781128,
          1.617950677871704,
          1.7551648616790771,
          1.8320279121398926,
          1.8027677536010742,
          1.700498342514038,
          1.5501857995986938,
          1.461624026298523,
          1.6444592475891113,
          1.7452664375305176,
          1.6180046796798706,
          1.583132266998291,
          1.5622884035110474,
          1.6074825525283813,
          1.5772954225540161,
          1.5491671562194824,
          1.294744610786438,
          1.4122058153152466,
          1.3616602420806885,
          1.3736071586608887,
          1.3777567148208618,
          1.3887189626693726,
          1.2735618352890015,
          1.4370083808898926,
          1.4828218221664429,
          1.4802966117858887,
          1.418056845664978,
          1.4408382177352905,
          1.5471488237380981,
          1.6528499126434326,
          1.6234302520751953,
          1.6890687942504883
         ],
         "yaxis": "y"
        }
       ],
       "layout": {
        "legend": {
         "tracegroupgap": 0
        },
        "margin": {
         "t": 60
        },
        "template": {
         "data": {
          "bar": [
           {
            "error_x": {
             "color": "#2a3f5f"
            },
            "error_y": {
             "color": "#2a3f5f"
            },
            "marker": {
             "line": {
              "color": "#E5ECF6",
              "width": 0.5
             }
            },
            "type": "bar"
           }
          ],
          "barpolar": [
           {
            "marker": {
             "line": {
              "color": "#E5ECF6",
              "width": 0.5
             }
            },
            "type": "barpolar"
           }
          ],
          "carpet": [
           {
            "aaxis": {
             "endlinecolor": "#2a3f5f",
             "gridcolor": "white",
             "linecolor": "white",
             "minorgridcolor": "white",
             "startlinecolor": "#2a3f5f"
            },
            "baxis": {
             "endlinecolor": "#2a3f5f",
             "gridcolor": "white",
             "linecolor": "white",
             "minorgridcolor": "white",
             "startlinecolor": "#2a3f5f"
            },
            "type": "carpet"
           }
          ],
          "choropleth": [
           {
            "colorbar": {
             "outlinewidth": 0,
             "ticks": ""
            },
            "type": "choropleth"
           }
          ],
          "contour": [
           {
            "colorbar": {
             "outlinewidth": 0,
             "ticks": ""
            },
            "colorscale": [
             [
              0,
              "#0d0887"
             ],
             [
              0.1111111111111111,
              "#46039f"
             ],
             [
              0.2222222222222222,
              "#7201a8"
             ],
             [
              0.3333333333333333,
              "#9c179e"
             ],
             [
              0.4444444444444444,
              "#bd3786"
             ],
             [
              0.5555555555555556,
              "#d8576b"
             ],
             [
              0.6666666666666666,
              "#ed7953"
             ],
             [
              0.7777777777777778,
              "#fb9f3a"
             ],
             [
              0.8888888888888888,
              "#fdca26"
             ],
             [
              1,
              "#f0f921"
             ]
            ],
            "type": "contour"
           }
          ],
          "contourcarpet": [
           {
            "colorbar": {
             "outlinewidth": 0,
             "ticks": ""
            },
            "type": "contourcarpet"
           }
          ],
          "heatmap": [
           {
            "colorbar": {
             "outlinewidth": 0,
             "ticks": ""
            },
            "colorscale": [
             [
              0,
              "#0d0887"
             ],
             [
              0.1111111111111111,
              "#46039f"
             ],
             [
              0.2222222222222222,
              "#7201a8"
             ],
             [
              0.3333333333333333,
              "#9c179e"
             ],
             [
              0.4444444444444444,
              "#bd3786"
             ],
             [
              0.5555555555555556,
              "#d8576b"
             ],
             [
              0.6666666666666666,
              "#ed7953"
             ],
             [
              0.7777777777777778,
              "#fb9f3a"
             ],
             [
              0.8888888888888888,
              "#fdca26"
             ],
             [
              1,
              "#f0f921"
             ]
            ],
            "type": "heatmap"
           }
          ],
          "heatmapgl": [
           {
            "colorbar": {
             "outlinewidth": 0,
             "ticks": ""
            },
            "colorscale": [
             [
              0,
              "#0d0887"
             ],
             [
              0.1111111111111111,
              "#46039f"
             ],
             [
              0.2222222222222222,
              "#7201a8"
             ],
             [
              0.3333333333333333,
              "#9c179e"
             ],
             [
              0.4444444444444444,
              "#bd3786"
             ],
             [
              0.5555555555555556,
              "#d8576b"
             ],
             [
              0.6666666666666666,
              "#ed7953"
             ],
             [
              0.7777777777777778,
              "#fb9f3a"
             ],
             [
              0.8888888888888888,
              "#fdca26"
             ],
             [
              1,
              "#f0f921"
             ]
            ],
            "type": "heatmapgl"
           }
          ],
          "histogram": [
           {
            "marker": {
             "colorbar": {
              "outlinewidth": 0,
              "ticks": ""
             }
            },
            "type": "histogram"
           }
          ],
          "histogram2d": [
           {
            "colorbar": {
             "outlinewidth": 0,
             "ticks": ""
            },
            "colorscale": [
             [
              0,
              "#0d0887"
             ],
             [
              0.1111111111111111,
              "#46039f"
             ],
             [
              0.2222222222222222,
              "#7201a8"
             ],
             [
              0.3333333333333333,
              "#9c179e"
             ],
             [
              0.4444444444444444,
              "#bd3786"
             ],
             [
              0.5555555555555556,
              "#d8576b"
             ],
             [
              0.6666666666666666,
              "#ed7953"
             ],
             [
              0.7777777777777778,
              "#fb9f3a"
             ],
             [
              0.8888888888888888,
              "#fdca26"
             ],
             [
              1,
              "#f0f921"
             ]
            ],
            "type": "histogram2d"
           }
          ],
          "histogram2dcontour": [
           {
            "colorbar": {
             "outlinewidth": 0,
             "ticks": ""
            },
            "colorscale": [
             [
              0,
              "#0d0887"
             ],
             [
              0.1111111111111111,
              "#46039f"
             ],
             [
              0.2222222222222222,
              "#7201a8"
             ],
             [
              0.3333333333333333,
              "#9c179e"
             ],
             [
              0.4444444444444444,
              "#bd3786"
             ],
             [
              0.5555555555555556,
              "#d8576b"
             ],
             [
              0.6666666666666666,
              "#ed7953"
             ],
             [
              0.7777777777777778,
              "#fb9f3a"
             ],
             [
              0.8888888888888888,
              "#fdca26"
             ],
             [
              1,
              "#f0f921"
             ]
            ],
            "type": "histogram2dcontour"
           }
          ],
          "mesh3d": [
           {
            "colorbar": {
             "outlinewidth": 0,
             "ticks": ""
            },
            "type": "mesh3d"
           }
          ],
          "parcoords": [
           {
            "line": {
             "colorbar": {
              "outlinewidth": 0,
              "ticks": ""
             }
            },
            "type": "parcoords"
           }
          ],
          "pie": [
           {
            "automargin": true,
            "type": "pie"
           }
          ],
          "scatter": [
           {
            "marker": {
             "colorbar": {
              "outlinewidth": 0,
              "ticks": ""
             }
            },
            "type": "scatter"
           }
          ],
          "scatter3d": [
           {
            "line": {
             "colorbar": {
              "outlinewidth": 0,
              "ticks": ""
             }
            },
            "marker": {
             "colorbar": {
              "outlinewidth": 0,
              "ticks": ""
             }
            },
            "type": "scatter3d"
           }
          ],
          "scattercarpet": [
           {
            "marker": {
             "colorbar": {
              "outlinewidth": 0,
              "ticks": ""
             }
            },
            "type": "scattercarpet"
           }
          ],
          "scattergeo": [
           {
            "marker": {
             "colorbar": {
              "outlinewidth": 0,
              "ticks": ""
             }
            },
            "type": "scattergeo"
           }
          ],
          "scattergl": [
           {
            "marker": {
             "colorbar": {
              "outlinewidth": 0,
              "ticks": ""
             }
            },
            "type": "scattergl"
           }
          ],
          "scattermapbox": [
           {
            "marker": {
             "colorbar": {
              "outlinewidth": 0,
              "ticks": ""
             }
            },
            "type": "scattermapbox"
           }
          ],
          "scatterpolar": [
           {
            "marker": {
             "colorbar": {
              "outlinewidth": 0,
              "ticks": ""
             }
            },
            "type": "scatterpolar"
           }
          ],
          "scatterpolargl": [
           {
            "marker": {
             "colorbar": {
              "outlinewidth": 0,
              "ticks": ""
             }
            },
            "type": "scatterpolargl"
           }
          ],
          "scatterternary": [
           {
            "marker": {
             "colorbar": {
              "outlinewidth": 0,
              "ticks": ""
             }
            },
            "type": "scatterternary"
           }
          ],
          "surface": [
           {
            "colorbar": {
             "outlinewidth": 0,
             "ticks": ""
            },
            "colorscale": [
             [
              0,
              "#0d0887"
             ],
             [
              0.1111111111111111,
              "#46039f"
             ],
             [
              0.2222222222222222,
              "#7201a8"
             ],
             [
              0.3333333333333333,
              "#9c179e"
             ],
             [
              0.4444444444444444,
              "#bd3786"
             ],
             [
              0.5555555555555556,
              "#d8576b"
             ],
             [
              0.6666666666666666,
              "#ed7953"
             ],
             [
              0.7777777777777778,
              "#fb9f3a"
             ],
             [
              0.8888888888888888,
              "#fdca26"
             ],
             [
              1,
              "#f0f921"
             ]
            ],
            "type": "surface"
           }
          ],
          "table": [
           {
            "cells": {
             "fill": {
              "color": "#EBF0F8"
             },
             "line": {
              "color": "white"
             }
            },
            "header": {
             "fill": {
              "color": "#C8D4E3"
             },
             "line": {
              "color": "white"
             }
            },
            "type": "table"
           }
          ]
         },
         "layout": {
          "annotationdefaults": {
           "arrowcolor": "#2a3f5f",
           "arrowhead": 0,
           "arrowwidth": 1
          },
          "autotypenumbers": "strict",
          "coloraxis": {
           "colorbar": {
            "outlinewidth": 0,
            "ticks": ""
           }
          },
          "colorscale": {
           "diverging": [
            [
             0,
             "#8e0152"
            ],
            [
             0.1,
             "#c51b7d"
            ],
            [
             0.2,
             "#de77ae"
            ],
            [
             0.3,
             "#f1b6da"
            ],
            [
             0.4,
             "#fde0ef"
            ],
            [
             0.5,
             "#f7f7f7"
            ],
            [
             0.6,
             "#e6f5d0"
            ],
            [
             0.7,
             "#b8e186"
            ],
            [
             0.8,
             "#7fbc41"
            ],
            [
             0.9,
             "#4d9221"
            ],
            [
             1,
             "#276419"
            ]
           ],
           "sequential": [
            [
             0,
             "#0d0887"
            ],
            [
             0.1111111111111111,
             "#46039f"
            ],
            [
             0.2222222222222222,
             "#7201a8"
            ],
            [
             0.3333333333333333,
             "#9c179e"
            ],
            [
             0.4444444444444444,
             "#bd3786"
            ],
            [
             0.5555555555555556,
             "#d8576b"
            ],
            [
             0.6666666666666666,
             "#ed7953"
            ],
            [
             0.7777777777777778,
             "#fb9f3a"
            ],
            [
             0.8888888888888888,
             "#fdca26"
            ],
            [
             1,
             "#f0f921"
            ]
           ],
           "sequentialminus": [
            [
             0,
             "#0d0887"
            ],
            [
             0.1111111111111111,
             "#46039f"
            ],
            [
             0.2222222222222222,
             "#7201a8"
            ],
            [
             0.3333333333333333,
             "#9c179e"
            ],
            [
             0.4444444444444444,
             "#bd3786"
            ],
            [
             0.5555555555555556,
             "#d8576b"
            ],
            [
             0.6666666666666666,
             "#ed7953"
            ],
            [
             0.7777777777777778,
             "#fb9f3a"
            ],
            [
             0.8888888888888888,
             "#fdca26"
            ],
            [
             1,
             "#f0f921"
            ]
           ]
          },
          "colorway": [
           "#636efa",
           "#EF553B",
           "#00cc96",
           "#ab63fa",
           "#FFA15A",
           "#19d3f3",
           "#FF6692",
           "#B6E880",
           "#FF97FF",
           "#FECB52"
          ],
          "font": {
           "color": "#2a3f5f"
          },
          "geo": {
           "bgcolor": "white",
           "lakecolor": "white",
           "landcolor": "#E5ECF6",
           "showlakes": true,
           "showland": true,
           "subunitcolor": "white"
          },
          "hoverlabel": {
           "align": "left"
          },
          "hovermode": "closest",
          "mapbox": {
           "style": "light"
          },
          "paper_bgcolor": "white",
          "plot_bgcolor": "#E5ECF6",
          "polar": {
           "angularaxis": {
            "gridcolor": "white",
            "linecolor": "white",
            "ticks": ""
           },
           "bgcolor": "#E5ECF6",
           "radialaxis": {
            "gridcolor": "white",
            "linecolor": "white",
            "ticks": ""
           }
          },
          "scene": {
           "xaxis": {
            "backgroundcolor": "#E5ECF6",
            "gridcolor": "white",
            "gridwidth": 2,
            "linecolor": "white",
            "showbackground": true,
            "ticks": "",
            "zerolinecolor": "white"
           },
           "yaxis": {
            "backgroundcolor": "#E5ECF6",
            "gridcolor": "white",
            "gridwidth": 2,
            "linecolor": "white",
            "showbackground": true,
            "ticks": "",
            "zerolinecolor": "white"
           },
           "zaxis": {
            "backgroundcolor": "#E5ECF6",
            "gridcolor": "white",
            "gridwidth": 2,
            "linecolor": "white",
            "showbackground": true,
            "ticks": "",
            "zerolinecolor": "white"
           }
          },
          "shapedefaults": {
           "line": {
            "color": "#2a3f5f"
           }
          },
          "ternary": {
           "aaxis": {
            "gridcolor": "white",
            "linecolor": "white",
            "ticks": ""
           },
           "baxis": {
            "gridcolor": "white",
            "linecolor": "white",
            "ticks": ""
           },
           "bgcolor": "#E5ECF6",
           "caxis": {
            "gridcolor": "white",
            "linecolor": "white",
            "ticks": ""
           }
          },
          "title": {
           "x": 0.05
          },
          "xaxis": {
           "automargin": true,
           "gridcolor": "white",
           "linecolor": "white",
           "ticks": "",
           "title": {
            "standoff": 15
           },
           "zerolinecolor": "white",
           "zerolinewidth": 2
          },
          "yaxis": {
           "automargin": true,
           "gridcolor": "white",
           "linecolor": "white",
           "ticks": "",
           "title": {
            "standoff": 15
           },
           "zerolinecolor": "white",
           "zerolinewidth": 2
          }
         }
        },
        "xaxis": {
         "anchor": "y",
         "domain": [
          0,
          1
         ],
         "title": {
          "text": "x"
         }
        },
        "yaxis": {
         "anchor": "x",
         "domain": [
          0,
          1
         ],
         "title": {
          "text": "y"
         }
        }
       }
      },
      "text/html": [
       "<div>                            <div id=\"11574f33-390e-43cc-bb51-c0150366c50a\" class=\"plotly-graph-div\" style=\"height:525px; width:100%;\"></div>            <script type=\"text/javascript\">                require([\"plotly\"], function(Plotly) {                    window.PLOTLYENV=window.PLOTLYENV || {};                                    if (document.getElementById(\"11574f33-390e-43cc-bb51-c0150366c50a\")) {                    Plotly.newPlot(                        \"11574f33-390e-43cc-bb51-c0150366c50a\",                        [{\"hovertemplate\": \"x=%{x}<br>y=%{y}<extra></extra>\", \"legendgroup\": \"\", \"marker\": {\"color\": \"#636efa\", \"symbol\": \"circle\"}, \"mode\": \"markers\", \"name\": \"\", \"orientation\": \"v\", \"showlegend\": false, \"type\": \"scatter\", \"x\": [0.05846383795142174, 0.08707015216350555, 0.12362414598464966, 0.1594580113887787, 0.1630440205335617, 0.17599433660507202, 0.15728828310966492, 0.18359097838401794, 0.15835991501808167, 0.14480850100517273, 0.1470085084438324, 0.14156289398670197, 0.1378166377544403, 0.14355164766311646, 0.14585475623607635, 0.14729434251785278, 0.1518336534500122, 0.12806309759616852, 0.1265360563993454, 0.12148737907409668, 0.11790657788515091, 0.12734447419643402, 0.14002862572669983, 0.1355576068162918, 0.1265566200017929, 0.11770973354578018, 0.11639080196619034, 0.113341324031353, 0.14315877854824066, 0.14826329052448273, 0.12463941425085068, 0.11103567481040955, 0.05247540771961212, 0.08218038082122803, 0.10386108607053757, 0.11881128698587418, 0.11990132182836533, 0.12706823647022247, 0.11922920495271683, 0.11060843616724014, 0.10861602425575256, 0.10269975662231445, 0.12923558056354523, 0.13438135385513306, 0.15584658086299896, 0.13789120316505432, 0.12697918713092804, 0.11408641934394836, 0.11614365130662918, 0.11640769243240356, 0.11801958829164505, 0.11252164840698242, 0.1046312004327774, 0.10475226491689682, 0.10643643140792847, 0.1066175252199173, 0.10637183487415314, 0.13991503417491913, 0.15825192630290985, 0.1628190279006958, 0.15380601584911346, 0.15490086376667023, 0.16402308642864227, 0.2192406952381134, 0.1380196511745453, 0.20938977599143982, 0.2314402461051941, 0.24670211970806122, 0.2627408802509308, 0.24674907326698303, 0.23755335807800293, 0.22712361812591553, 0.25286102294921875, 0.25928375124931335, 0.25521576404571533, 0.25654417276382446, 0.2486112415790558, 0.2687784731388092, 0.2363206297159195, 0.24383583664894104, 0.2599044442176819, 0.27147820591926575, 0.27772268652915955, 0.27409276366233826, 0.2900691330432892, 0.2710736095905304, 0.24590645730495453, 0.24578791856765747, 0.2296970933675766, 0.2307087481021881, 0.23157399892807007, 0.2446015477180481, 0.22441449761390686, 0.22827747464179993, 0.21909135580062866, 0.22969551384449005, 0.12004902958869934, 0.20071274042129517, 0.24432127177715302, 0.2937639057636261, 0.24955669045448303, 0.20996277034282684, 0.20564889907836914, 0.192250058054924, 0.1884685903787613, 0.18179431557655334, 0.17336170375347137, 0.1688876450061798, 0.19499848783016205, 0.19478073716163635, 0.19142109155654907, 0.18335948884487152, 0.19189076125621796, 0.2046843022108078, 0.2280336618423462, 0.23199519515037537, 0.22112099826335907, 0.21562421321868896, 0.20098042488098145, 0.17144615948200226, 0.16189612448215485, 0.14380064606666565, 0.19466274976730347, 0.20335912704467773, 0.21635057032108307, 0.2235296070575714, 0.21909016370773315, 0.22020599246025085, 0.1306038349866867, 0.18465401232242584, 0.20791764557361603, 0.21496227383613586, 0.2410585582256317, 0.24103543162345886, 0.21415254473686218, 0.1931532323360443, 0.2255643904209137, 0.21442319452762604, 0.21571262180805206, 0.21293756365776062, 0.22241972386837006, 0.2150125354528427, 0.21681758761405945, 0.22415338456630707, 0.21871554851531982, 0.21650028228759766, 0.22567139565944672, 0.24583692848682404, 0.26370975375175476, 0.3145063519477844, 0.3174896836280823, 0.30923107266426086, 0.3114940822124481, 0.31221437454223633, 0.3179349899291992, 0.342572957277298, 0.33264437317848206, 0.35251328349113464, 0.34393131732940674, 0.35526326298713684, 0.20759136974811554, 0.30742397904396057, 0.3679629862308502, 0.39188259840011597, 0.4508620500564575, 0.44926053285598755, 0.4095709025859833, 0.43106308579444885, 0.425549179315567, 0.41860559582710266, 0.4427178204059601, 0.4610620439052582, 0.4653751850128174, 0.45166775584220886, 0.44515037536621094, 0.47946324944496155, 0.5169315338134766, 0.5421791076660156, 0.5351634621620178, 0.5565924644470215, 0.5623300075531006, 0.5416036248207092, 0.5502891540527344, 0.5804312229156494, 0.5669969916343689, 0.48592373728752136, 0.47478511929512024, 0.49425432085990906, 0.5151945352554321, 0.5959597826004028, 0.5662776231765747, 0.5813168287277222, 0.3642791509628296, 0.5077248215675354, 0.5883058905601501, 0.6155592799186707, 0.6099887490272522, 0.562786340713501, 0.5576449632644653, 0.5284081697463989, 0.4959341883659363, 0.5308019518852234, 0.5667570233345032, 0.5854690074920654, 0.6033680438995361, 0.666205644607544, 0.7383974194526672, 0.7178106904029846, 0.730758547782898, 0.7178704738616943, 0.6934182047843933, 0.7250681519508362, 0.7097938656806946, 0.7224999666213989, 0.7483502626419067, 0.8001182079315186, 0.8287349939346313, 0.8354606628417969, 0.8081846833229065, 0.8579744100570679, 0.8568630218505859, 0.8748196959495544, 0.946183979511261, 0.9856571555137634, 0.6358593702316284, 0.9365270733833313, 1.0978283882141113, 1.1914626359939575, 1.1748135089874268, 1.1688451766967773, 1.081451416015625, 0.8900291323661804, 0.9328234195709229, 1.0423630475997925, 1.1257132291793823, 0.984223484992981, 1.0292223691940308, 0.9819563627243042, 1.0134254693984985, 1.0151728391647339, 0.9347886443138123, 0.7870816588401794, 0.8818982243537903, 0.8733236789703369, 0.8887763023376465, 0.9346382021903992, 0.9010685682296753, 0.806966245174408, 0.9462906718254089, 1.0151311159133911, 0.9821043014526367, 0.9175187945365906, 0.9586751461029053, 1.0507246255874634, 1.0925068855285645, 1.0698312520980835], \"xaxis\": \"x\", \"y\": [0.10989619791507721, 0.1285366714000702, 0.14711077511310577, 0.14244335889816284, 0.15652155876159668, 0.1436251848936081, 0.1816754937171936, 0.1473291516304016, 0.15416721999645233, 0.16192151606082916, 0.15464216470718384, 0.15400350093841553, 0.15967018902301788, 0.16035106778144836, 0.16165554523468018, 0.16566388309001923, 0.13612094521522522, 0.14469118416309357, 0.144391268491745, 0.1396234780550003, 0.1430671513080597, 0.14777205884456635, 0.14465947449207306, 0.1409733146429062, 0.13430184125900269, 0.13668988645076752, 0.1351429522037506, 0.1537361741065979, 0.1527092605829239, 0.13568070530891418, 0.13305151462554932, 0.12756143510341644, 0.1212291345000267, 0.12651965022087097, 0.12906666100025177, 0.1262185275554657, 0.1310855895280838, 0.12543277442455292, 0.12348739057779312, 0.12592189013957977, 0.12276750057935715, 0.13901393115520477, 0.13237610459327698, 0.1418619304895401, 0.13376030325889587, 0.1338055580854416, 0.1317332684993744, 0.13368120789527893, 0.1319093108177185, 0.13188773393630981, 0.12917350232601166, 0.12590788304805756, 0.12694044411182404, 0.1273525059223175, 0.12879523634910583, 0.12763221561908722, 0.13898229598999023, 0.147089883685112, 0.15009143948554993, 0.14771108329296112, 0.15526612102985382, 0.1675535887479782, 0.22605106234550476, 0.22184573113918304, 0.23195599019527435, 0.2325349897146225, 0.2439710646867752, 0.2674694061279297, 0.22943149507045746, 0.23981598019599915, 0.2376362383365631, 0.2667921483516693, 0.26855671405792236, 0.2589499354362488, 0.2671705186367035, 0.26295140385627747, 0.27385514974594116, 0.24866178631782532, 0.2580588757991791, 0.2687918543815613, 0.2679692804813385, 0.2731863558292389, 0.2746467888355255, 0.29412955045700073, 0.2799501121044159, 0.267398864030838, 0.2738691568374634, 0.2584659159183502, 0.2632793188095093, 0.26236459612846375, 0.26827776432037354, 0.24627003073692322, 0.25285565853118896, 0.24396732449531555, 0.25577250123023987, 0.253852516412735, 0.264878511428833, 0.26322516798973083, 0.2788318693637848, 0.24885079264640808, 0.185879647731781, 0.20023949444293976, 0.18179936707019806, 0.18776839971542358, 0.1925751119852066, 0.17974922060966492, 0.185720756649971, 0.19222894310951233, 0.19426429271697998, 0.19648714363574982, 0.19010698795318604, 0.20934642851352692, 0.2156025916337967, 0.2251906841993332, 0.22379440069198608, 0.22355709969997406, 0.23162613809108734, 0.22321687638759613, 0.19756953418254852, 0.2016752064228058, 0.1859275847673416, 0.21361525356769562, 0.20998650789260864, 0.21311187744140625, 0.21443438529968262, 0.2108989655971527, 0.2181721031665802, 0.21493127942085266, 0.20603899657726288, 0.20369647443294525, 0.2022607922554016, 0.2087400257587433, 0.21540799736976624, 0.20522832870483398, 0.20870696008205414, 0.22199997305870056, 0.23001575469970703, 0.24251064658164978, 0.24724239110946655, 0.2564655542373657, 0.24949011206626892, 0.24968448281288147, 0.25323206186294556, 0.2438986599445343, 0.24583719670772552, 0.2525860667228699, 0.2665235102176666, 0.27591460943222046, 0.32480254769325256, 0.332464337348938, 0.33061346411705017, 0.3401244878768921, 0.3359817862510681, 0.3383564352989197, 0.3695511817932129, 0.3489188849925995, 0.3578951060771942, 0.36374855041503906, 0.37638184428215027, 0.3740173280239105, 0.3639622926712036, 0.38550400733947754, 0.39538586139678955, 0.4733034670352936, 0.4725508689880371, 0.43310415744781494, 0.4679003357887268, 0.4599664807319641, 0.45773518085479736, 0.47984936833381653, 0.5108304023742676, 0.5130645036697388, 0.49961239099502563, 0.4935481548309326, 0.5345249176025391, 0.5845949649810791, 0.5931403040885925, 0.5938453078269958, 0.6371766328811646, 0.6383036971092224, 0.62363600730896, 0.623319149017334, 0.6633701920509338, 0.643146812915802, 0.5579363107681274, 0.5556613802909851, 0.5884748101234436, 0.6132631301879883, 0.6912998557090759, 0.6469656825065613, 0.6684147715568542, 0.6815779805183411, 0.6414035558700562, 0.6658899784088135, 0.676175057888031, 0.6679050922393799, 0.6210035681724548, 0.6335451602935791, 0.6179780960083008, 0.6068741083145142, 0.6470011472702026, 0.665251612663269, 0.6708691716194153, 0.6800519824028015, 0.7820742726325989, 0.8626008629798889, 0.8805319666862488, 0.9199649691581726, 0.8988152146339417, 0.8624888062477112, 0.915287971496582, 0.8861022591590881, 0.9127514362335205, 0.9627970457077026, 1.058285117149353, 1.0494087934494019, 1.0931867361068726, 1.1081452369689941, 1.187807321548462, 1.1964693069458008, 1.2165358066558838, 1.3648728132247925, 1.4001507759094238, 1.3565022945404053, 1.465367078781128, 1.617950677871704, 1.7551648616790771, 1.8320279121398926, 1.8027677536010742, 1.700498342514038, 1.5501857995986938, 1.461624026298523, 1.6444592475891113, 1.7452664375305176, 1.6180046796798706, 1.583132266998291, 1.5622884035110474, 1.6074825525283813, 1.5772954225540161, 1.5491671562194824, 1.294744610786438, 1.4122058153152466, 1.3616602420806885, 1.3736071586608887, 1.3777567148208618, 1.3887189626693726, 1.2735618352890015, 1.4370083808898926, 1.4828218221664429, 1.4802966117858887, 1.418056845664978, 1.4408382177352905, 1.5471488237380981, 1.6528499126434326, 1.6234302520751953, 1.6890687942504883], \"yaxis\": \"y\"}],                        {\"legend\": {\"tracegroupgap\": 0}, \"margin\": {\"t\": 60}, \"template\": {\"data\": {\"bar\": [{\"error_x\": {\"color\": \"#2a3f5f\"}, \"error_y\": {\"color\": \"#2a3f5f\"}, \"marker\": {\"line\": {\"color\": \"#E5ECF6\", \"width\": 0.5}}, \"type\": \"bar\"}], \"barpolar\": [{\"marker\": {\"line\": {\"color\": \"#E5ECF6\", \"width\": 0.5}}, \"type\": \"barpolar\"}], \"carpet\": [{\"aaxis\": {\"endlinecolor\": \"#2a3f5f\", \"gridcolor\": \"white\", \"linecolor\": \"white\", \"minorgridcolor\": \"white\", \"startlinecolor\": \"#2a3f5f\"}, \"baxis\": {\"endlinecolor\": \"#2a3f5f\", \"gridcolor\": \"white\", \"linecolor\": \"white\", \"minorgridcolor\": \"white\", \"startlinecolor\": \"#2a3f5f\"}, \"type\": \"carpet\"}], \"choropleth\": [{\"colorbar\": {\"outlinewidth\": 0, \"ticks\": \"\"}, \"type\": \"choropleth\"}], \"contour\": [{\"colorbar\": {\"outlinewidth\": 0, \"ticks\": \"\"}, \"colorscale\": [[0.0, \"#0d0887\"], [0.1111111111111111, \"#46039f\"], [0.2222222222222222, \"#7201a8\"], [0.3333333333333333, \"#9c179e\"], [0.4444444444444444, \"#bd3786\"], [0.5555555555555556, \"#d8576b\"], [0.6666666666666666, \"#ed7953\"], [0.7777777777777778, \"#fb9f3a\"], [0.8888888888888888, \"#fdca26\"], [1.0, \"#f0f921\"]], \"type\": \"contour\"}], \"contourcarpet\": [{\"colorbar\": {\"outlinewidth\": 0, \"ticks\": \"\"}, \"type\": \"contourcarpet\"}], \"heatmap\": [{\"colorbar\": {\"outlinewidth\": 0, \"ticks\": \"\"}, \"colorscale\": [[0.0, \"#0d0887\"], [0.1111111111111111, \"#46039f\"], [0.2222222222222222, \"#7201a8\"], [0.3333333333333333, \"#9c179e\"], [0.4444444444444444, \"#bd3786\"], [0.5555555555555556, \"#d8576b\"], [0.6666666666666666, \"#ed7953\"], [0.7777777777777778, \"#fb9f3a\"], [0.8888888888888888, \"#fdca26\"], [1.0, \"#f0f921\"]], \"type\": \"heatmap\"}], \"heatmapgl\": [{\"colorbar\": {\"outlinewidth\": 0, \"ticks\": \"\"}, \"colorscale\": [[0.0, \"#0d0887\"], [0.1111111111111111, \"#46039f\"], [0.2222222222222222, \"#7201a8\"], [0.3333333333333333, \"#9c179e\"], [0.4444444444444444, \"#bd3786\"], [0.5555555555555556, \"#d8576b\"], [0.6666666666666666, \"#ed7953\"], [0.7777777777777778, \"#fb9f3a\"], [0.8888888888888888, \"#fdca26\"], [1.0, \"#f0f921\"]], \"type\": \"heatmapgl\"}], \"histogram\": [{\"marker\": {\"colorbar\": {\"outlinewidth\": 0, \"ticks\": \"\"}}, \"type\": \"histogram\"}], \"histogram2d\": [{\"colorbar\": {\"outlinewidth\": 0, \"ticks\": \"\"}, \"colorscale\": [[0.0, \"#0d0887\"], [0.1111111111111111, \"#46039f\"], [0.2222222222222222, \"#7201a8\"], [0.3333333333333333, \"#9c179e\"], [0.4444444444444444, \"#bd3786\"], [0.5555555555555556, \"#d8576b\"], [0.6666666666666666, \"#ed7953\"], [0.7777777777777778, \"#fb9f3a\"], [0.8888888888888888, \"#fdca26\"], [1.0, \"#f0f921\"]], \"type\": \"histogram2d\"}], \"histogram2dcontour\": [{\"colorbar\": {\"outlinewidth\": 0, \"ticks\": \"\"}, \"colorscale\": [[0.0, \"#0d0887\"], [0.1111111111111111, \"#46039f\"], [0.2222222222222222, \"#7201a8\"], [0.3333333333333333, \"#9c179e\"], [0.4444444444444444, \"#bd3786\"], [0.5555555555555556, \"#d8576b\"], [0.6666666666666666, \"#ed7953\"], [0.7777777777777778, \"#fb9f3a\"], [0.8888888888888888, \"#fdca26\"], [1.0, \"#f0f921\"]], \"type\": \"histogram2dcontour\"}], \"mesh3d\": [{\"colorbar\": {\"outlinewidth\": 0, \"ticks\": \"\"}, \"type\": \"mesh3d\"}], \"parcoords\": [{\"line\": {\"colorbar\": {\"outlinewidth\": 0, \"ticks\": \"\"}}, \"type\": \"parcoords\"}], \"pie\": [{\"automargin\": true, \"type\": \"pie\"}], \"scatter\": [{\"marker\": {\"colorbar\": {\"outlinewidth\": 0, \"ticks\": \"\"}}, \"type\": \"scatter\"}], \"scatter3d\": [{\"line\": {\"colorbar\": {\"outlinewidth\": 0, \"ticks\": \"\"}}, \"marker\": {\"colorbar\": {\"outlinewidth\": 0, \"ticks\": \"\"}}, \"type\": \"scatter3d\"}], \"scattercarpet\": [{\"marker\": {\"colorbar\": {\"outlinewidth\": 0, \"ticks\": \"\"}}, \"type\": \"scattercarpet\"}], \"scattergeo\": [{\"marker\": {\"colorbar\": {\"outlinewidth\": 0, \"ticks\": \"\"}}, \"type\": \"scattergeo\"}], \"scattergl\": [{\"marker\": {\"colorbar\": {\"outlinewidth\": 0, \"ticks\": \"\"}}, \"type\": \"scattergl\"}], \"scattermapbox\": [{\"marker\": {\"colorbar\": {\"outlinewidth\": 0, \"ticks\": \"\"}}, \"type\": \"scattermapbox\"}], \"scatterpolar\": [{\"marker\": {\"colorbar\": {\"outlinewidth\": 0, \"ticks\": \"\"}}, \"type\": \"scatterpolar\"}], \"scatterpolargl\": [{\"marker\": {\"colorbar\": {\"outlinewidth\": 0, \"ticks\": \"\"}}, \"type\": \"scatterpolargl\"}], \"scatterternary\": [{\"marker\": {\"colorbar\": {\"outlinewidth\": 0, \"ticks\": \"\"}}, \"type\": \"scatterternary\"}], \"surface\": [{\"colorbar\": {\"outlinewidth\": 0, \"ticks\": \"\"}, \"colorscale\": [[0.0, \"#0d0887\"], [0.1111111111111111, \"#46039f\"], [0.2222222222222222, \"#7201a8\"], [0.3333333333333333, \"#9c179e\"], [0.4444444444444444, \"#bd3786\"], [0.5555555555555556, \"#d8576b\"], [0.6666666666666666, \"#ed7953\"], [0.7777777777777778, \"#fb9f3a\"], [0.8888888888888888, \"#fdca26\"], [1.0, \"#f0f921\"]], \"type\": \"surface\"}], \"table\": [{\"cells\": {\"fill\": {\"color\": \"#EBF0F8\"}, \"line\": {\"color\": \"white\"}}, \"header\": {\"fill\": {\"color\": \"#C8D4E3\"}, \"line\": {\"color\": \"white\"}}, \"type\": \"table\"}]}, \"layout\": {\"annotationdefaults\": {\"arrowcolor\": \"#2a3f5f\", \"arrowhead\": 0, \"arrowwidth\": 1}, \"autotypenumbers\": \"strict\", \"coloraxis\": {\"colorbar\": {\"outlinewidth\": 0, \"ticks\": \"\"}}, \"colorscale\": {\"diverging\": [[0, \"#8e0152\"], [0.1, \"#c51b7d\"], [0.2, \"#de77ae\"], [0.3, \"#f1b6da\"], [0.4, \"#fde0ef\"], [0.5, \"#f7f7f7\"], [0.6, \"#e6f5d0\"], [0.7, \"#b8e186\"], [0.8, \"#7fbc41\"], [0.9, \"#4d9221\"], [1, \"#276419\"]], \"sequential\": [[0.0, \"#0d0887\"], [0.1111111111111111, \"#46039f\"], [0.2222222222222222, \"#7201a8\"], [0.3333333333333333, \"#9c179e\"], [0.4444444444444444, \"#bd3786\"], [0.5555555555555556, \"#d8576b\"], [0.6666666666666666, \"#ed7953\"], [0.7777777777777778, \"#fb9f3a\"], [0.8888888888888888, \"#fdca26\"], [1.0, \"#f0f921\"]], \"sequentialminus\": [[0.0, \"#0d0887\"], [0.1111111111111111, \"#46039f\"], [0.2222222222222222, \"#7201a8\"], [0.3333333333333333, \"#9c179e\"], [0.4444444444444444, \"#bd3786\"], [0.5555555555555556, \"#d8576b\"], [0.6666666666666666, \"#ed7953\"], [0.7777777777777778, \"#fb9f3a\"], [0.8888888888888888, \"#fdca26\"], [1.0, \"#f0f921\"]]}, \"colorway\": [\"#636efa\", \"#EF553B\", \"#00cc96\", \"#ab63fa\", \"#FFA15A\", \"#19d3f3\", \"#FF6692\", \"#B6E880\", \"#FF97FF\", \"#FECB52\"], \"font\": {\"color\": \"#2a3f5f\"}, \"geo\": {\"bgcolor\": \"white\", \"lakecolor\": \"white\", \"landcolor\": \"#E5ECF6\", \"showlakes\": true, \"showland\": true, \"subunitcolor\": \"white\"}, \"hoverlabel\": {\"align\": \"left\"}, \"hovermode\": \"closest\", \"mapbox\": {\"style\": \"light\"}, \"paper_bgcolor\": \"white\", \"plot_bgcolor\": \"#E5ECF6\", \"polar\": {\"angularaxis\": {\"gridcolor\": \"white\", \"linecolor\": \"white\", \"ticks\": \"\"}, \"bgcolor\": \"#E5ECF6\", \"radialaxis\": {\"gridcolor\": \"white\", \"linecolor\": \"white\", \"ticks\": \"\"}}, \"scene\": {\"xaxis\": {\"backgroundcolor\": \"#E5ECF6\", \"gridcolor\": \"white\", \"gridwidth\": 2, \"linecolor\": \"white\", \"showbackground\": true, \"ticks\": \"\", \"zerolinecolor\": \"white\"}, \"yaxis\": {\"backgroundcolor\": \"#E5ECF6\", \"gridcolor\": \"white\", \"gridwidth\": 2, \"linecolor\": \"white\", \"showbackground\": true, \"ticks\": \"\", \"zerolinecolor\": \"white\"}, \"zaxis\": {\"backgroundcolor\": \"#E5ECF6\", \"gridcolor\": \"white\", \"gridwidth\": 2, \"linecolor\": \"white\", \"showbackground\": true, \"ticks\": \"\", \"zerolinecolor\": \"white\"}}, \"shapedefaults\": {\"line\": {\"color\": \"#2a3f5f\"}}, \"ternary\": {\"aaxis\": {\"gridcolor\": \"white\", \"linecolor\": \"white\", \"ticks\": \"\"}, \"baxis\": {\"gridcolor\": \"white\", \"linecolor\": \"white\", \"ticks\": \"\"}, \"bgcolor\": \"#E5ECF6\", \"caxis\": {\"gridcolor\": \"white\", \"linecolor\": \"white\", \"ticks\": \"\"}}, \"title\": {\"x\": 0.05}, \"xaxis\": {\"automargin\": true, \"gridcolor\": \"white\", \"linecolor\": \"white\", \"ticks\": \"\", \"title\": {\"standoff\": 15}, \"zerolinecolor\": \"white\", \"zerolinewidth\": 2}, \"yaxis\": {\"automargin\": true, \"gridcolor\": \"white\", \"linecolor\": \"white\", \"ticks\": \"\", \"title\": {\"standoff\": 15}, \"zerolinecolor\": \"white\", \"zerolinewidth\": 2}}}, \"xaxis\": {\"anchor\": \"y\", \"domain\": [0.0, 1.0], \"title\": {\"text\": \"x\"}}, \"yaxis\": {\"anchor\": \"x\", \"domain\": [0.0, 1.0], \"title\": {\"text\": \"y\"}}},                        {\"responsive\": true}                    ).then(function(){\n",
       "                            \n",
       "var gd = document.getElementById('11574f33-390e-43cc-bb51-c0150366c50a');\n",
       "var x = new MutationObserver(function (mutations, observer) {{\n",
       "        var display = window.getComputedStyle(gd).display;\n",
       "        if (!display || display === 'none') {{\n",
       "            console.log([gd, 'removed!']);\n",
       "            Plotly.purge(gd);\n",
       "            observer.disconnect();\n",
       "        }}\n",
       "}});\n",
       "\n",
       "// Listen for the removal of the full notebook cells\n",
       "var notebookContainer = gd.closest('#notebook-container');\n",
       "if (notebookContainer) {{\n",
       "    x.observe(notebookContainer, {childList: true});\n",
       "}}\n",
       "\n",
       "// Listen for the clearing of the current output cell\n",
       "var outputEl = gd.closest('.output');\n",
       "if (outputEl) {{\n",
       "    x.observe(outputEl, {childList: true});\n",
       "}}\n",
       "\n",
       "                        })                };                });            </script>        </div>"
      ]
     },
     "metadata": {},
     "output_type": "display_data"
    }
   ],
   "source": [
    "import plotly.express as px\n",
    "\n",
    "fig = px.scatter(x=pred2labels['Predicted'], y=pred2labels['Labels'])\n",
    "fig.show()"
   ]
  },
  {
   "cell_type": "code",
   "execution_count": null,
   "id": "ruled-acceptance",
   "metadata": {},
   "outputs": [],
   "source": []
  }
 ],
 "metadata": {
  "kernelspec": {
   "display_name": "Python 3",
   "language": "python",
   "name": "python3"
  },
  "language_info": {
   "codemirror_mode": {
    "name": "ipython",
    "version": 3
   },
   "file_extension": ".py",
   "mimetype": "text/x-python",
   "name": "python",
   "nbconvert_exporter": "python",
   "pygments_lexer": "ipython3",
   "version": "3.6.9"
  }
 },
 "nbformat": 4,
 "nbformat_minor": 5
}
