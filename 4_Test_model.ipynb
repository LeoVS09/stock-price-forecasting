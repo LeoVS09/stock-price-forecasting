{
 "cells": [
  {
   "cell_type": "code",
   "execution_count": null,
   "id": "herbal-extra",
   "metadata": {},
   "outputs": [],
   "source": [
    "# plotly standard imports\n",
    "import plotly.graph_objs as go\n",
    "import chart_studio.plotly as py\n",
    "\n",
    "# Cufflinks wrapper on plotly\n",
    "import cufflinks\n",
    "\n",
    "# Data science imports\n",
    "import pandas as pd\n",
    "import numpy as np\n",
    "\n",
    "# Options for pandas\n",
    "pd.options.display.max_columns = 30\n",
    "\n",
    "# Display all cell outputs\n",
    "from IPython.core.interactiveshell import InteractiveShell\n",
    "InteractiveShell.ast_node_interactivity = 'all'\n",
    "\n",
    "from plotly.offline import iplot, init_notebook_mode\n",
    "cufflinks.go_offline(connected=True)\n",
    "init_notebook_mode(connected=True)\n",
    "\n",
    "# Set global theme\n",
    "cufflinks.set_config_file(world_readable=True, theme='pearl')"
   ]
  },
  {
   "cell_type": "code",
   "execution_count": null,
   "id": "joint-insider",
   "metadata": {
    "scrolled": true
   },
   "outputs": [],
   "source": [
    "from src.prepare_datasets import make_window_generator, get_prepared_datasets\n",
    "\n",
    "train_df, test_df = get_prepared_datasets()\n",
    "\n",
    "train, test = make_window_generator()"
   ]
  },
  {
   "cell_type": "markdown",
   "id": "coordinate-magic",
   "metadata": {},
   "source": [
    "# Test model predictions"
   ]
  },
  {
   "cell_type": "code",
   "execution_count": null,
   "id": "confidential-cookie",
   "metadata": {},
   "outputs": [],
   "source": [
    "from src.libs import checkpoints\n",
    "from src.model import build_model\n",
    "\n",
    "model = build_model()\n",
    "model = checkpoints.load_weights(model)"
   ]
  },
  {
   "cell_type": "markdown",
   "id": "fourth-mortality",
   "metadata": {},
   "source": [
    "# Compare predictions and labels"
   ]
  },
  {
   "cell_type": "code",
   "execution_count": null,
   "id": "dominant-puppy",
   "metadata": {},
   "outputs": [],
   "source": [
    "import tensorflow as tf\n",
    "\n",
    "input_window, label_window = next(iter(test))\n",
    "\n",
    "predictions = model.predict(test, verbose=1, use_multiprocessing=True)"
   ]
  },
  {
   "cell_type": "code",
   "execution_count": null,
   "id": "dense-violence",
   "metadata": {},
   "outputs": [],
   "source": [
    "test2predictions = pd.DataFrame({ \n",
    "    'Test': test_df['close'][:len(predictions)], \n",
    "    'Predicted': [ x[0] for x in predictions]\n",
    "})\n",
    "test2predictions.index = test_df[:len(predictions)].index\n",
    "\n",
    "test2predictions.iplot()"
   ]
  },
  {
   "cell_type": "code",
   "execution_count": null,
   "id": "arctic-purse",
   "metadata": {
    "scrolled": false
   },
   "outputs": [],
   "source": [
    "import matplotlib.pyplot as plt\n",
    "\n",
    "target_column='close'\n",
    "\n",
    "def plot_window(batches, target, predictions=None):\n",
    "    plt.figure(figsize=(15,len(batches) * 40))\n",
    "    \n",
    "    batches = batches.numpy()\n",
    "    target = target.numpy()\n",
    "    \n",
    "    for i in range(0, len(batches)):\n",
    "        \n",
    "        batch = batches[i]\n",
    "        feature = [x[train_df.columns.get_loc(target_column)] for x in batch]\n",
    "        plt.subplot(len(feature), 1, i+1)\n",
    "        plt.plot(feature, \n",
    "                 label='Inputs', marker='.', zorder=-10\n",
    "                )\n",
    "        \n",
    "        label = target[i][0]\n",
    "        plt.scatter(len(feature), label,\n",
    "                 label='Labels', edgecolors='k', c='#2ca02c', s=64\n",
    "                )\n",
    "        \n",
    "        if predictions is not None:\n",
    "            prediction = predictions[i][0]\n",
    "            plt.scatter(len(feature), prediction,\n",
    "                  marker='X', edgecolors='k', label='Predictions',\n",
    "                  c='#ff7f0e', s=64)\n",
    "        \n",
    "        plt.legend()\n",
    "\n",
    "\n",
    "plot_window(input_window[:8], label_window[:8], predictions[:8])"
   ]
  },
  {
   "cell_type": "code",
   "execution_count": null,
   "id": "olympic-shelter",
   "metadata": {},
   "outputs": [],
   "source": [
    "import plotly.express as px\n",
    "\n",
    "fig = px.scatter(x=test2predictions['Predicted'], y=test2predictions['Test'])\n",
    "fig.show()"
   ]
  },
  {
   "cell_type": "code",
   "execution_count": null,
   "id": "ruled-acceptance",
   "metadata": {},
   "outputs": [],
   "source": []
  }
 ],
 "metadata": {
  "kernelspec": {
   "display_name": "Python 3",
   "language": "python",
   "name": "python3"
  },
  "language_info": {
   "codemirror_mode": {
    "name": "ipython",
    "version": 3
   },
   "file_extension": ".py",
   "mimetype": "text/x-python",
   "name": "python",
   "nbconvert_exporter": "python",
   "pygments_lexer": "ipython3",
   "version": "3.6.9"
  }
 },
 "nbformat": 4,
 "nbformat_minor": 5
}
