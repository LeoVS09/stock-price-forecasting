{
 "cells": [
  {
   "cell_type": "code",
   "execution_count": 1,
   "id": "herbal-extra",
   "metadata": {},
   "outputs": [
    {
     "data": {
      "text/html": [
       "        <script type=\"text/javascript\">\n",
       "        window.PlotlyConfig = {MathJaxConfig: 'local'};\n",
       "        if (window.MathJax) {MathJax.Hub.Config({SVG: {font: \"STIX-Web\"}});}\n",
       "        if (typeof require !== 'undefined') {\n",
       "        require.undef(\"plotly\");\n",
       "        requirejs.config({\n",
       "            paths: {\n",
       "                'plotly': ['https://cdn.plot.ly/plotly-latest.min']\n",
       "            }\n",
       "        });\n",
       "        require(['plotly'], function(Plotly) {\n",
       "            window._Plotly = Plotly;\n",
       "        });\n",
       "        }\n",
       "        </script>\n",
       "        "
      ]
     },
     "metadata": {},
     "output_type": "display_data"
    },
    {
     "data": {
      "text/html": [
       "        <script type=\"text/javascript\">\n",
       "        window.PlotlyConfig = {MathJaxConfig: 'local'};\n",
       "        if (window.MathJax) {MathJax.Hub.Config({SVG: {font: \"STIX-Web\"}});}\n",
       "        if (typeof require !== 'undefined') {\n",
       "        require.undef(\"plotly\");\n",
       "        requirejs.config({\n",
       "            paths: {\n",
       "                'plotly': ['https://cdn.plot.ly/plotly-latest.min']\n",
       "            }\n",
       "        });\n",
       "        require(['plotly'], function(Plotly) {\n",
       "            window._Plotly = Plotly;\n",
       "        });\n",
       "        }\n",
       "        </script>\n",
       "        "
      ]
     },
     "metadata": {},
     "output_type": "display_data"
    }
   ],
   "source": [
    "# plotly standard imports\n",
    "import plotly.graph_objs as go\n",
    "import chart_studio.plotly as py\n",
    "\n",
    "# Cufflinks wrapper on plotly\n",
    "import cufflinks\n",
    "\n",
    "# Data science imports\n",
    "import pandas as pd\n",
    "import numpy as np\n",
    "\n",
    "# Options for pandas\n",
    "pd.options.display.max_columns = 30\n",
    "\n",
    "# Display all cell outputs\n",
    "from IPython.core.interactiveshell import InteractiveShell\n",
    "InteractiveShell.ast_node_interactivity = 'all'\n",
    "\n",
    "from plotly.offline import iplot, init_notebook_mode\n",
    "cufflinks.go_offline(connected=True)\n",
    "init_notebook_mode(connected=True)\n",
    "\n",
    "# Set global theme\n",
    "cufflinks.set_config_file(world_readable=True, theme='pearl')"
   ]
  },
  {
   "cell_type": "code",
   "execution_count": 2,
   "id": "joint-insider",
   "metadata": {},
   "outputs": [
    {
     "name": "stdout",
     "output_type": "stream",
     "text": [
      "len(train_df) 1815724\n",
      "full window width = 33\n",
      "input_width = 32\n"
     ]
    }
   ],
   "source": [
    "from src.prepare_datasets import make_window_generator, get_prepared_datasets\n",
    "\n",
    "train_df, test_df = get_prepared_datasets()\n",
    "\n",
    "window = make_window_generator()"
   ]
  },
  {
   "cell_type": "markdown",
   "id": "coordinate-magic",
   "metadata": {},
   "source": [
    "# Test model predictions"
   ]
  },
  {
   "cell_type": "code",
   "execution_count": 3,
   "id": "confidential-cookie",
   "metadata": {},
   "outputs": [
    {
     "name": "stdout",
     "output_type": "stream",
     "text": [
      "Model: \"sequential\"\n",
      "_________________________________________________________________\n",
      "Layer (type)                 Output Shape              Param #   \n",
      "=================================================================\n",
      "lstm (LSTM)                  (8, 32, 32)               5632      \n",
      "_________________________________________________________________\n",
      "dense (Dense)                (8, 32, 1)                33        \n",
      "=================================================================\n",
      "Total params: 5,665\n",
      "Trainable params: 5,665\n",
      "Non-trainable params: 0\n",
      "_________________________________________________________________\n"
     ]
    }
   ],
   "source": [
    "from src.libs import load\n",
    "\n",
    "model = load()"
   ]
  },
  {
   "cell_type": "code",
   "execution_count": 4,
   "id": "hairy-metro",
   "metadata": {},
   "outputs": [
    {
     "name": "stdout",
     "output_type": "stream",
     "text": [
      "1772/1772 - 3s - loss: 0.0042 - mean_absolute_error: 0.0310 - mean_squared_logarithmic_error: 0.0022\n"
     ]
    },
    {
     "data": {
      "text/plain": [
       "[0.004214301239699125, 0.03101721964776516, 0.002203284064307809]"
      ]
     },
     "execution_count": 4,
     "metadata": {},
     "output_type": "execute_result"
    }
   ],
   "source": [
    "model.evaluate(window.test, verbose=2)\n",
    "model.reset_states()"
   ]
  },
  {
   "cell_type": "markdown",
   "id": "opposite-aggregate",
   "metadata": {},
   "source": [
    "Plot model"
   ]
  },
  {
   "cell_type": "code",
   "execution_count": 5,
   "id": "norman-mambo",
   "metadata": {},
   "outputs": [
    {
     "name": "stdout",
     "output_type": "stream",
     "text": [
      "n 0 from 3\n",
      "len(inputs) 8\n",
      "n 1 from 3\n",
      "len(inputs) 8\n",
      "n 2 from 3\n",
      "len(inputs) 8\n"
     ]
    },
    {
     "data": {
      "image/png": "[encoded data removed]",
      "text/plain": [
       "<Figure size 864x576 with 3 Axes>"
      ]
     },
     "metadata": {
      "needs_background": "light"
     },
     "output_type": "display_data"
    }
   ],
   "source": [
    "model.reset_states()\n",
    "\n",
    "window.plot(model)"
   ]
  },
  {
   "cell_type": "markdown",
   "id": "fourth-mortality",
   "metadata": {},
   "source": [
    "# Compare predictions and labels"
   ]
  },
  {
   "cell_type": "code",
   "execution_count": 6,
   "id": "dominant-puppy",
   "metadata": {},
   "outputs": [
    {
     "data": {
      "application/vnd.plotly.v1+json": {
       "config": {
        "linkText": "Export to plot.ly",
        "plotlyServerURL": "https://plot.ly",
        "showLink": true
       },
       "data": [
        {
         "line": {
          "color": "rgba(255, 153, 51, 1.0)",
          "dash": "solid",
          "shape": "linear",
          "width": 1.3
         },
         "mode": "lines",
         "name": "Predicted",
         "text": "",
         "type": "scatter",
         "x": [
          0,
          1,
          2,
          3,
          4,
          5,
          6,
          7,
          8,
          9,
          10,
          11,
          12,
          13,
          14,
          15,
          16,
          17,
          18,
          19,
          20,
          21,
          22,
          23,
          24,
          25,
          26,
          27,
          28,
          29,
          30,
          31,
          32,
          33,
          34,
          35,
          36,
          37,
          38,
          39,
          40,
          41,
          42,
          43,
          44,
          45,
          46,
          47,
          48,
          49,
          50,
          51,
          52,
          53,
          54,
          55,
          56,
          57,
          58,
          59,
          60,
          61,
          62,
          63,
          64,
          65,
          66,
          67,
          68,
          69,
          70,
          71,
          72,
          73,
          74,
          75,
          76,
          77,
          78,
          79,
          80,
          81,
          82,
          83,
          84,
          85,
          86,
          87,
          88,
          89,
          90,
          91,
          92,
          93,
          94,
          95,
          96,
          97,
          98,
          99,
          100,
          101,
          102,
          103,
          104,
          105,
          106,
          107,
          108,
          109,
          110,
          111,
          112,
          113,
          114,
          115,
          116,
          117,
          118,
          119,
          120,
          121,
          122,
          123,
          124,
          125,
          126,
          127,
          128,
          129,
          130,
          131,
          132,
          133,
          134,
          135,
          136,
          137,
          138,
          139,
          140,
          141,
          142,
          143,
          144,
          145,
          146,
          147,
          148,
          149,
          150,
          151,
          152,
          153,
          154,
          155,
          156,
          157,
          158,
          159,
          160,
          161,
          162,
          163,
          164,
          165,
          166,
          167,
          168,
          169,
          170,
          171,
          172,
          173,
          174,
          175,
          176,
          177,
          178,
          179,
          180,
          181,
          182,
          183,
          184,
          185,
          186,
          187,
          188,
          189,
          190,
          191,
          192,
          193,
          194,
          195,
          196,
          197,
          198,
          199,
          200,
          201,
          202,
          203,
          204,
          205,
          206,
          207,
          208,
          209,
          210,
          211,
          212,
          213,
          214,
          215,
          216,
          217,
          218,
          219,
          220,
          221,
          222,
          223,
          224,
          225,
          226,
          227,
          228,
          229,
          230,
          231,
          232,
          233,
          234,
          235,
          236,
          237,
          238,
          239,
          240,
          241,
          242,
          243,
          244,
          245,
          246,
          247,
          248,
          249,
          250,
          251,
          252,
          253,
          254,
          255
         ],
         "y": [
          0.06590650975704193,
          0.0678960531949997,
          0.07019373029470444,
          0.0700308084487915,
          0.06999161839485168,
          0.07003678381443024,
          0.07003655284643173,
          0.07004174590110779,
          0.07004716992378235,
          0.07003296911716461,
          0.07001131772994995,
          0.06995420157909393,
          0.06995955854654312,
          0.06999258697032928,
          0.06999856233596802,
          0.07003825157880783,
          0.07000778615474701,
          0.07002799957990646,
          0.07002632319927216,
          0.07002893090248108,
          0.07003143429756165,
          0.07018953561782837,
          0.07029231637716293,
          0.07059666514396667,
          0.07079290598630905,
          0.07109175622463226,
          0.07093682885169983,
          0.07084155827760696,
          0.07079010456800461,
          0.07102979719638824,
          0.0711037665605545,
          0.07100057601928711,
          0.06700383871793747,
          0.06894807517528534,
          0.07131198048591614,
          0.07110679149627686,
          0.0709545761346817,
          0.0709957629442215,
          0.07094360888004303,
          0.07088765501976013,
          0.07098637521266937,
          0.07101209461688995,
          0.0710664689540863,
          0.07113257050514221,
          0.07110820710659027,
          0.07108574360609055,
          0.07103956490755081,
          0.07105496525764465,
          0.07104361802339554,
          0.0715240091085434,
          0.07132408022880554,
          0.0711793601512909,
          0.07124015688896179,
          0.07123178243637085,
          0.07115137577056885,
          0.07115344703197479,
          0.07106919586658478,
          0.07106222212314606,
          0.071037158370018,
          0.07113553583621979,
          0.07116222381591797,
          0.07111594825983047,
          0.07116581499576569,
          0.07116803526878357,
          0.06755772233009338,
          0.06916619837284088,
          0.07130590826272964,
          0.07120765000581741,
          0.07110334187746048,
          0.07112754881381989,
          0.07111836969852448,
          0.07113038748502731,
          0.0710214152932167,
          0.07106248289346695,
          0.07111817598342896,
          0.07117913663387299,
          0.07115195691585541,
          0.07109561562538147,
          0.07113809883594513,
          0.07116219401359558,
          0.07118237018585205,
          0.0711771696805954,
          0.0711933821439743,
          0.07117295265197754,
          0.07122187316417694,
          0.07122386246919632,
          0.07123260200023651,
          0.07129409909248352,
          0.07126635313034058,
          0.07128443568944931,
          0.07127082347869873,
          0.07129031419754028,
          0.0712670236825943,
          0.07135440409183502,
          0.07181839644908905,
          0.07152070105075836,
          0.06730666011571884,
          0.06939487159252167,
          0.0714862272143364,
          0.07137012481689453,
          0.07152095437049866,
          0.07157394289970398,
          0.07174322009086609,
          0.07162138819694519,
          0.07161423563957214,
          0.07152943313121796,
          0.07154418528079987,
          0.07155674695968628,
          0.07154954969882965,
          0.07174308598041534,
          0.07167257368564606,
          0.07168573141098022,
          0.07163918018341064,
          0.0715828388929367,
          0.07159081101417542,
          0.07151893526315689,
          0.07147824019193649,
          0.07141369581222534,
          0.07144510746002197,
          0.07143862545490265,
          0.07144010066986084,
          0.07143910229206085,
          0.07143884897232056,
          0.0714738517999649,
          0.07151691615581512,
          0.07156457006931305,
          0.07150910794734955,
          0.07146027684211731,
          0.06656908988952637,
          0.06949405372142792,
          0.07152880728244781,
          0.0713777095079422,
          0.07129837572574615,
          0.07139302790164948,
          0.07139807939529419,
          0.07144591957330704,
          0.07145430147647858,
          0.07145974040031433,
          0.07146158814430237,
          0.07146400213241577,
          0.07153257727622986,
          0.07155611366033554,
          0.07155434787273407,
          0.07155294716358185,
          0.07151593267917633,
          0.0714951604604721,
          0.07150674611330032,
          0.07156263291835785,
          0.07152841985225677,
          0.07160169631242752,
          0.07158547639846802,
          0.07154908776283264,
          0.07152459025382996,
          0.07150562107563019,
          0.0715213343501091,
          0.07146882265806198,
          0.07151664793491364,
          0.07150137424468994,
          0.07143381237983704,
          0.07144176959991455,
          0.06560204923152924,
          0.06951369345188141,
          0.07143768668174744,
          0.07127681374549866,
          0.0713086798787117,
          0.07138819992542267,
          0.0714569240808487,
          0.07145977020263672,
          0.07148102670907974,
          0.07160219550132751,
          0.07155798375606537,
          0.07155750691890717,
          0.07155868411064148,
          0.07155869901180267,
          0.0715593546628952,
          0.07155606150627136,
          0.07155898213386536,
          0.07162116467952728,
          0.07162356376647949,
          0.07158567011356354,
          0.07162642478942871,
          0.07163241505622864,
          0.07163861393928528,
          0.07163974642753601,
          0.07169684767723083,
          0.0715579241514206,
          0.07158505916595459,
          0.07155493646860123,
          0.07154211401939392,
          0.07159923762083054,
          0.07159814983606339,
          0.07159540057182312,
          0.06713386625051498,
          0.06958682835102081,
          0.07163209468126297,
          0.07145432382822037,
          0.07149891555309296,
          0.07153153419494629,
          0.07159902900457382,
          0.0715574398636818,
          0.07158050686120987,
          0.07169096171855927,
          0.07168848812580109,
          0.07169869542121887,
          0.07165703177452087,
          0.07162246108055115,
          0.07167397439479828,
          0.0716332346200943,
          0.07166238129138947,
          0.07165909558534622,
          0.07164165377616882,
          0.07167834043502808,
          0.07167872041463852,
          0.07169735431671143,
          0.07170087099075317,
          0.07172471284866333,
          0.07176521420478821,
          0.07201875746250153,
          0.07191005349159241,
          0.07194547355175018,
          0.07191236317157745,
          0.07194508612155914,
          0.0719153881072998,
          0.07194109261035919,
          0.06761270761489868,
          0.07007185369729996,
          0.07202313840389252,
          0.07183006405830383,
          0.0718507394194603,
          0.07199731469154358,
          0.0720159187912941,
          0.0719805583357811,
          0.07194429636001587,
          0.07195213437080383,
          0.07195524871349335,
          0.0719563290476799,
          0.07191881537437439,
          0.07189635932445526,
          0.07190537452697754,
          0.07183721661567688,
          0.07178620994091034,
          0.0717330127954483,
          0.07174735516309738,
          0.07175175845623016,
          0.07175177335739136,
          0.07175229489803314,
          0.07174954563379288,
          0.07175008207559586,
          0.0717470720410347,
          0.07174716889858246,
          0.07174542546272278,
          0.07174528390169144,
          0.07174520194530487,
          0.07175624370574951,
          0.07173782587051392,
          0.07171829789876938
         ]
        },
        {
         "line": {
          "color": "rgba(55, 128, 191, 1.0)",
          "dash": "solid",
          "shape": "linear",
          "width": 1.3
         },
         "mode": "lines",
         "name": "Labels",
         "text": "",
         "type": "scatter",
         "x": [
          0,
          1,
          2,
          3,
          4,
          5,
          6,
          7,
          8,
          9,
          10,
          11,
          12,
          13,
          14,
          15,
          16,
          17,
          18,
          19,
          20,
          21,
          22,
          23,
          24,
          25,
          26,
          27,
          28,
          29,
          30,
          31,
          32,
          33,
          34,
          35,
          36,
          37,
          38,
          39,
          40,
          41,
          42,
          43,
          44,
          45,
          46,
          47,
          48,
          49,
          50,
          51,
          52,
          53,
          54,
          55,
          56,
          57,
          58,
          59,
          60,
          61,
          62,
          63,
          64,
          65,
          66,
          67,
          68,
          69,
          70,
          71,
          72,
          73,
          74,
          75,
          76,
          77,
          78,
          79,
          80,
          81,
          82,
          83,
          84,
          85,
          86,
          87,
          88,
          89,
          90,
          91,
          92,
          93,
          94,
          95,
          96,
          97,
          98,
          99,
          100,
          101,
          102,
          103,
          104,
          105,
          106,
          107,
          108,
          109,
          110,
          111,
          112,
          113,
          114,
          115,
          116,
          117,
          118,
          119,
          120,
          121,
          122,
          123,
          124,
          125,
          126,
          127,
          128,
          129,
          130,
          131,
          132,
          133,
          134,
          135,
          136,
          137,
          138,
          139,
          140,
          141,
          142,
          143,
          144,
          145,
          146,
          147,
          148,
          149,
          150,
          151,
          152,
          153,
          154,
          155,
          156,
          157,
          158,
          159,
          160,
          161,
          162,
          163,
          164,
          165,
          166,
          167,
          168,
          169,
          170,
          171,
          172,
          173,
          174,
          175,
          176,
          177,
          178,
          179,
          180,
          181,
          182,
          183,
          184,
          185,
          186,
          187,
          188,
          189,
          190,
          191,
          192,
          193,
          194,
          195,
          196,
          197,
          198,
          199,
          200,
          201,
          202,
          203,
          204,
          205,
          206,
          207,
          208,
          209,
          210,
          211,
          212,
          213,
          214,
          215,
          216,
          217,
          218,
          219,
          220,
          221,
          222,
          223,
          224,
          225,
          226,
          227,
          228,
          229,
          230,
          231,
          232,
          233,
          234,
          235,
          236,
          237,
          238,
          239,
          240,
          241,
          242,
          243,
          244,
          245,
          246,
          247,
          248,
          249,
          250,
          251,
          252,
          253,
          254,
          255
         ],
         "y": [
          0.07000459730625153,
          0.07004033029079437,
          0.07005038112401962,
          0.07004133611917496,
          0.07004736363887787,
          0.0700417309999466,
          0.07004234194755554,
          0.07004736363887787,
          0.07002323120832443,
          0.07000814378261566,
          0.06997596472501755,
          0.06996188312768936,
          0.0699789822101593,
          0.0699860230088234,
          0.07003127783536911,
          0.07001619040966034,
          0.07002423703670502,
          0.07003328949213028,
          0.07003429532051086,
          0.07003429532051086,
          0.07019519805908203,
          0.07031185925006866,
          0.07053511589765549,
          0.0707523375749588,
          0.07101280242204666,
          0.07096453011035919,
          0.07087703794240952,
          0.0708850845694542,
          0.07105202227830887,
          0.07108118385076523,
          0.07099972665309906,
          0.07093436270952225,
          0.07099168002605438,
          0.0711887925863266,
          0.07107213884592056,
          0.07101380825042725,
          0.07105906307697296,
          0.07094743102788925,
          0.07094743102788925,
          0.07099469751119614,
          0.07103492319583893,
          0.07109928876161575,
          0.0711556077003479,
          0.07110029458999634,
          0.07109928876161575,
          0.07102185487747192,
          0.07104137539863586,
          0.07104196399450302,
          0.07154177874326706,
          0.0713014304637909,
          0.07118476927280426,
          0.0712551698088646,
          0.07124410569667816,
          0.07119080424308777,
          0.07112636417150497,
          0.0710831955075264,
          0.07105906307697296,
          0.0710299015045166,
          0.07114957273006439,
          0.07114856690168381,
          0.07110130041837692,
          0.07115057855844498,
          0.07116365432739258,
          0.07126924395561218,
          0.0712611973285675,
          0.07123003900051117,
          0.07124511152505875,
          0.07112845033407211,
          0.0711354911327362,
          0.07112442702054977,
          0.07111739367246628,
          0.07103995233774185,
          0.0710500106215477,
          0.07110733538866043,
          0.07120086252689362,
          0.07116729766130447,
          0.0710892304778099,
          0.07111236453056335,
          0.07116768509149551,
          0.07121895998716354,
          0.07119885087013245,
          0.07119885087013245,
          0.07118778675794601,
          0.07123102992773056,
          0.07123619318008423,
          0.07124008238315582,
          0.07129941880702972,
          0.07127729058265686,
          0.07129941880702972,
          0.07129941880702972,
          0.07129941880702972,
          0.07128634303808212,
          0.07137785851955414,
          0.07185252755880356,
          0.07147842645645142,
          0.07141104340553284,
          0.07144221663475037,
          0.0714663565158844,
          0.0714663565158844,
          0.07158301025629044,
          0.07159508019685745,
          0.0716976597905159,
          0.07169263064861298,
          0.07161117345094681,
          0.07159608602523804,
          0.0715518370270729,
          0.07156189531087875,
          0.07156189531087875,
          0.07173185050487518,
          0.0717569887638092,
          0.07170067727565765,
          0.07165944576263428,
          0.0715920627117157,
          0.07160111516714096,
          0.0715387612581253,
          0.07146736234426498,
          0.07144121080636978,
          0.07144221663475037,
          0.07144121080636978,
          0.07144121080636978,
          0.0714402049779892,
          0.07144083827733994,
          0.07147540897130966,
          0.07151665538549423,
          0.07158099859952927,
          0.0715055763721466,
          0.07147339731454849,
          0.07147540897130966,
          0.07147842645645142,
          0.07146535068750381,
          0.07146535068750381,
          0.07136277109384537,
          0.07141204923391342,
          0.07141204923391342,
          0.0714593157172203,
          0.07147239148616791,
          0.07147239148616791,
          0.07147138565778732,
          0.07148144394159317,
          0.07154881954193115,
          0.07157395780086517,
          0.07156994193792343,
          0.07156893610954285,
          0.07151764631271362,
          0.07152267545461655,
          0.07152669876813889,
          0.07156893610954285,
          0.071558877825737,
          0.07160010933876038,
          0.07159910351037979,
          0.07155787199735641,
          0.07152939587831497,
          0.07152870297431946,
          0.07152870297431946,
          0.071503184735775,
          0.07151362299919128,
          0.07151462882757187,
          0.07145126909017563,
          0.07145126909017563,
          0.07145026326179504,
          0.07142110168933868,
          0.0714133009314537,
          0.071413055062294,
          0.07138188183307648,
          0.07141362875699997,
          0.071492500603199,
          0.07150054723024368,
          0.07150155305862427,
          0.07161117345094681,
          0.07157496362924576,
          0.07158200442790985,
          0.07158113270998001,
          0.07158200442790985,
          0.07158099859952927,
          0.07157999277114868,
          0.0715789869427681,
          0.07164033502340317,
          0.07163932919502258,
          0.07157596945762634,
          0.07165542244911194,
          0.07165364176034927,
          0.07165341079235077,
          0.07165441662073135,
          0.07161318510770798,
          0.07158401608467102,
          0.07159306854009628,
          0.07158401608467102,
          0.07157295942306519,
          0.07159709185361862,
          0.0716182142496109,
          0.07161620259284973,
          0.07161519676446915,
          0.07161318510770798,
          0.07158200442790985,
          0.0715719535946846,
          0.0715719535946846,
          0.07157295942306519,
          0.07159608602523804,
          0.07159508019685745,
          0.07159508019685745,
          0.07171420007944107,
          0.07171475142240524,
          0.07171420007944107,
          0.07163731753826141,
          0.07164254039525986,
          0.0717034861445427,
          0.0716513991355896,
          0.07168760150671005,
          0.07168760150671005,
          0.07163631170988083,
          0.07169363647699356,
          0.07170363515615463,
          0.07171374559402466,
          0.07171374559402466,
          0.07173889130353928,
          0.0717831403017044,
          0.07203656435012817,
          0.07190985232591629,
          0.07196013629436493,
          0.071955107152462,
          0.07197823375463486,
          0.07193499058485031,
          0.07197421789169312,
          0.07197321206331253,
          0.07199633866548538,
          0.07190683484077454,
          0.07190582901239395,
          0.07191488146781921,
          0.07203757017850876,
          0.07203857600688934,
          0.07199734449386597,
          0.07199130952358246,
          0.07199633866548538,
          0.071955107152462,
          0.07196315377950668,
          0.07194102555513382,
          0.07191186398267746,
          0.07191186398267746,
          0.07184649258852005,
          0.07178213447332382,
          0.07174794375896454,
          0.07174894958734512,
          0.07175297290086746,
          0.07175297290086746,
          0.07175397127866745,
          0.07175297290086746,
          0.07175343483686447,
          0.07175297290086746,
          0.07175297290086746,
          0.07175297290086746,
          0.07175367325544357,
          0.07175297290086746,
          0.07175353914499283,
          0.07175397127866745,
          0.07175497710704803,
          0.07175497710704803
         ]
        }
       ],
       "layout": {
        "legend": {
         "bgcolor": "#F5F6F9",
         "font": {
          "color": "#4D5663"
         }
        },
        "paper_bgcolor": "#F5F6F9",
        "plot_bgcolor": "#F5F6F9",
        "template": {
         "data": {
          "bar": [
           {
            "error_x": {
             "color": "#2a3f5f"
            },
            "error_y": {
             "color": "#2a3f5f"
            },
            "marker": {
             "line": {
              "color": "#E5ECF6",
              "width": 0.5
             }
            },
            "type": "bar"
           }
          ],
          "barpolar": [
           {
            "marker": {
             "line": {
              "color": "#E5ECF6",
              "width": 0.5
             }
            },
            "type": "barpolar"
           }
          ],
          "carpet": [
           {
            "aaxis": {
             "endlinecolor": "#2a3f5f",
             "gridcolor": "white",
             "linecolor": "white",
             "minorgridcolor": "white",
             "startlinecolor": "#2a3f5f"
            },
            "baxis": {
             "endlinecolor": "#2a3f5f",
             "gridcolor": "white",
             "linecolor": "white",
             "minorgridcolor": "white",
             "startlinecolor": "#2a3f5f"
            },
            "type": "carpet"
           }
          ],
          "choropleth": [
           {
            "colorbar": {
             "outlinewidth": 0,
             "ticks": ""
            },
            "type": "choropleth"
           }
          ],
          "contour": [
           {
            "colorbar": {
             "outlinewidth": 0,
             "ticks": ""
            },
            "colorscale": [
             [
              0,
              "#0d0887"
             ],
             [
              0.1111111111111111,
              "#46039f"
             ],
             [
              0.2222222222222222,
              "#7201a8"
             ],
             [
              0.3333333333333333,
              "#9c179e"
             ],
             [
              0.4444444444444444,
              "#bd3786"
             ],
             [
              0.5555555555555556,
              "#d8576b"
             ],
             [
              0.6666666666666666,
              "#ed7953"
             ],
             [
              0.7777777777777778,
              "#fb9f3a"
             ],
             [
              0.8888888888888888,
              "#fdca26"
             ],
             [
              1,
              "#f0f921"
             ]
            ],
            "type": "contour"
           }
          ],
          "contourcarpet": [
           {
            "colorbar": {
             "outlinewidth": 0,
             "ticks": ""
            },
            "type": "contourcarpet"
           }
          ],
          "heatmap": [
           {
            "colorbar": {
             "outlinewidth": 0,
             "ticks": ""
            },
            "colorscale": [
             [
              0,
              "#0d0887"
             ],
             [
              0.1111111111111111,
              "#46039f"
             ],
             [
              0.2222222222222222,
              "#7201a8"
             ],
             [
              0.3333333333333333,
              "#9c179e"
             ],
             [
              0.4444444444444444,
              "#bd3786"
             ],
             [
              0.5555555555555556,
              "#d8576b"
             ],
             [
              0.6666666666666666,
              "#ed7953"
             ],
             [
              0.7777777777777778,
              "#fb9f3a"
             ],
             [
              0.8888888888888888,
              "#fdca26"
             ],
             [
              1,
              "#f0f921"
             ]
            ],
            "type": "heatmap"
           }
          ],
          "heatmapgl": [
           {
            "colorbar": {
             "outlinewidth": 0,
             "ticks": ""
            },
            "colorscale": [
             [
              0,
              "#0d0887"
             ],
             [
              0.1111111111111111,
              "#46039f"
             ],
             [
              0.2222222222222222,
              "#7201a8"
             ],
             [
              0.3333333333333333,
              "#9c179e"
             ],
             [
              0.4444444444444444,
              "#bd3786"
             ],
             [
              0.5555555555555556,
              "#d8576b"
             ],
             [
              0.6666666666666666,
              "#ed7953"
             ],
             [
              0.7777777777777778,
              "#fb9f3a"
             ],
             [
              0.8888888888888888,
              "#fdca26"
             ],
             [
              1,
              "#f0f921"
             ]
            ],
            "type": "heatmapgl"
           }
          ],
          "histogram": [
           {
            "marker": {
             "colorbar": {
              "outlinewidth": 0,
              "ticks": ""
             }
            },
            "type": "histogram"
           }
          ],
          "histogram2d": [
           {
            "colorbar": {
             "outlinewidth": 0,
             "ticks": ""
            },
            "colorscale": [
             [
              0,
              "#0d0887"
             ],
             [
              0.1111111111111111,
              "#46039f"
             ],
             [
              0.2222222222222222,
              "#7201a8"
             ],
             [
              0.3333333333333333,
              "#9c179e"
             ],
             [
              0.4444444444444444,
              "#bd3786"
             ],
             [
              0.5555555555555556,
              "#d8576b"
             ],
             [
              0.6666666666666666,
              "#ed7953"
             ],
             [
              0.7777777777777778,
              "#fb9f3a"
             ],
             [
              0.8888888888888888,
              "#fdca26"
             ],
             [
              1,
              "#f0f921"
             ]
            ],
            "type": "histogram2d"
           }
          ],
          "histogram2dcontour": [
           {
            "colorbar": {
             "outlinewidth": 0,
             "ticks": ""
            },
            "colorscale": [
             [
              0,
              "#0d0887"
             ],
             [
              0.1111111111111111,
              "#46039f"
             ],
             [
              0.2222222222222222,
              "#7201a8"
             ],
             [
              0.3333333333333333,
              "#9c179e"
             ],
             [
              0.4444444444444444,
              "#bd3786"
             ],
             [
              0.5555555555555556,
              "#d8576b"
             ],
             [
              0.6666666666666666,
              "#ed7953"
             ],
             [
              0.7777777777777778,
              "#fb9f3a"
             ],
             [
              0.8888888888888888,
              "#fdca26"
             ],
             [
              1,
              "#f0f921"
             ]
            ],
            "type": "histogram2dcontour"
           }
          ],
          "mesh3d": [
           {
            "colorbar": {
             "outlinewidth": 0,
             "ticks": ""
            },
            "type": "mesh3d"
           }
          ],
          "parcoords": [
           {
            "line": {
             "colorbar": {
              "outlinewidth": 0,
              "ticks": ""
             }
            },
            "type": "parcoords"
           }
          ],
          "pie": [
           {
            "automargin": true,
            "type": "pie"
           }
          ],
          "scatter": [
           {
            "marker": {
             "colorbar": {
              "outlinewidth": 0,
              "ticks": ""
             }
            },
            "type": "scatter"
           }
          ],
          "scatter3d": [
           {
            "line": {
             "colorbar": {
              "outlinewidth": 0,
              "ticks": ""
             }
            },
            "marker": {
             "colorbar": {
              "outlinewidth": 0,
              "ticks": ""
             }
            },
            "type": "scatter3d"
           }
          ],
          "scattercarpet": [
           {
            "marker": {
             "colorbar": {
              "outlinewidth": 0,
              "ticks": ""
             }
            },
            "type": "scattercarpet"
           }
          ],
          "scattergeo": [
           {
            "marker": {
             "colorbar": {
              "outlinewidth": 0,
              "ticks": ""
             }
            },
            "type": "scattergeo"
           }
          ],
          "scattergl": [
           {
            "marker": {
             "colorbar": {
              "outlinewidth": 0,
              "ticks": ""
             }
            },
            "type": "scattergl"
           }
          ],
          "scattermapbox": [
           {
            "marker": {
             "colorbar": {
              "outlinewidth": 0,
              "ticks": ""
             }
            },
            "type": "scattermapbox"
           }
          ],
          "scatterpolar": [
           {
            "marker": {
             "colorbar": {
              "outlinewidth": 0,
              "ticks": ""
             }
            },
            "type": "scatterpolar"
           }
          ],
          "scatterpolargl": [
           {
            "marker": {
             "colorbar": {
              "outlinewidth": 0,
              "ticks": ""
             }
            },
            "type": "scatterpolargl"
           }
          ],
          "scatterternary": [
           {
            "marker": {
             "colorbar": {
              "outlinewidth": 0,
              "ticks": ""
             }
            },
            "type": "scatterternary"
           }
          ],
          "surface": [
           {
            "colorbar": {
             "outlinewidth": 0,
             "ticks": ""
            },
            "colorscale": [
             [
              0,
              "#0d0887"
             ],
             [
              0.1111111111111111,
              "#46039f"
             ],
             [
              0.2222222222222222,
              "#7201a8"
             ],
             [
              0.3333333333333333,
              "#9c179e"
             ],
             [
              0.4444444444444444,
              "#bd3786"
             ],
             [
              0.5555555555555556,
              "#d8576b"
             ],
             [
              0.6666666666666666,
              "#ed7953"
             ],
             [
              0.7777777777777778,
              "#fb9f3a"
             ],
             [
              0.8888888888888888,
              "#fdca26"
             ],
             [
              1,
              "#f0f921"
             ]
            ],
            "type": "surface"
           }
          ],
          "table": [
           {
            "cells": {
             "fill": {
              "color": "#EBF0F8"
             },
             "line": {
              "color": "white"
             }
            },
            "header": {
             "fill": {
              "color": "#C8D4E3"
             },
             "line": {
              "color": "white"
             }
            },
            "type": "table"
           }
          ]
         },
         "layout": {
          "annotationdefaults": {
           "arrowcolor": "#2a3f5f",
           "arrowhead": 0,
           "arrowwidth": 1
          },
          "autotypenumbers": "strict",
          "coloraxis": {
           "colorbar": {
            "outlinewidth": 0,
            "ticks": ""
           }
          },
          "colorscale": {
           "diverging": [
            [
             0,
             "#8e0152"
            ],
            [
             0.1,
             "#c51b7d"
            ],
            [
             0.2,
             "#de77ae"
            ],
            [
             0.3,
             "#f1b6da"
            ],
            [
             0.4,
             "#fde0ef"
            ],
            [
             0.5,
             "#f7f7f7"
            ],
            [
             0.6,
             "#e6f5d0"
            ],
            [
             0.7,
             "#b8e186"
            ],
            [
             0.8,
             "#7fbc41"
            ],
            [
             0.9,
             "#4d9221"
            ],
            [
             1,
             "#276419"
            ]
           ],
           "sequential": [
            [
             0,
             "#0d0887"
            ],
            [
             0.1111111111111111,
             "#46039f"
            ],
            [
             0.2222222222222222,
             "#7201a8"
            ],
            [
             0.3333333333333333,
             "#9c179e"
            ],
            [
             0.4444444444444444,
             "#bd3786"
            ],
            [
             0.5555555555555556,
             "#d8576b"
            ],
            [
             0.6666666666666666,
             "#ed7953"
            ],
            [
             0.7777777777777778,
             "#fb9f3a"
            ],
            [
             0.8888888888888888,
             "#fdca26"
            ],
            [
             1,
             "#f0f921"
            ]
           ],
           "sequentialminus": [
            [
             0,
             "#0d0887"
            ],
            [
             0.1111111111111111,
             "#46039f"
            ],
            [
             0.2222222222222222,
             "#7201a8"
            ],
            [
             0.3333333333333333,
             "#9c179e"
            ],
            [
             0.4444444444444444,
             "#bd3786"
            ],
            [
             0.5555555555555556,
             "#d8576b"
            ],
            [
             0.6666666666666666,
             "#ed7953"
            ],
            [
             0.7777777777777778,
             "#fb9f3a"
            ],
            [
             0.8888888888888888,
             "#fdca26"
            ],
            [
             1,
             "#f0f921"
            ]
           ]
          },
          "colorway": [
           "#636efa",
           "#EF553B",
           "#00cc96",
           "#ab63fa",
           "#FFA15A",
           "#19d3f3",
           "#FF6692",
           "#B6E880",
           "#FF97FF",
           "#FECB52"
          ],
          "font": {
           "color": "#2a3f5f"
          },
          "geo": {
           "bgcolor": "white",
           "lakecolor": "white",
           "landcolor": "#E5ECF6",
           "showlakes": true,
           "showland": true,
           "subunitcolor": "white"
          },
          "hoverlabel": {
           "align": "left"
          },
          "hovermode": "closest",
          "mapbox": {
           "style": "light"
          },
          "paper_bgcolor": "white",
          "plot_bgcolor": "#E5ECF6",
          "polar": {
           "angularaxis": {
            "gridcolor": "white",
            "linecolor": "white",
            "ticks": ""
           },
           "bgcolor": "#E5ECF6",
           "radialaxis": {
            "gridcolor": "white",
            "linecolor": "white",
            "ticks": ""
           }
          },
          "scene": {
           "xaxis": {
            "backgroundcolor": "#E5ECF6",
            "gridcolor": "white",
            "gridwidth": 2,
            "linecolor": "white",
            "showbackground": true,
            "ticks": "",
            "zerolinecolor": "white"
           },
           "yaxis": {
            "backgroundcolor": "#E5ECF6",
            "gridcolor": "white",
            "gridwidth": 2,
            "linecolor": "white",
            "showbackground": true,
            "ticks": "",
            "zerolinecolor": "white"
           },
           "zaxis": {
            "backgroundcolor": "#E5ECF6",
            "gridcolor": "white",
            "gridwidth": 2,
            "linecolor": "white",
            "showbackground": true,
            "ticks": "",
            "zerolinecolor": "white"
           }
          },
          "shapedefaults": {
           "line": {
            "color": "#2a3f5f"
           }
          },
          "ternary": {
           "aaxis": {
            "gridcolor": "white",
            "linecolor": "white",
            "ticks": ""
           },
           "baxis": {
            "gridcolor": "white",
            "linecolor": "white",
            "ticks": ""
           },
           "bgcolor": "#E5ECF6",
           "caxis": {
            "gridcolor": "white",
            "linecolor": "white",
            "ticks": ""
           }
          },
          "title": {
           "x": 0.05
          },
          "xaxis": {
           "automargin": true,
           "gridcolor": "white",
           "linecolor": "white",
           "ticks": "",
           "title": {
            "standoff": 15
           },
           "zerolinecolor": "white",
           "zerolinewidth": 2
          },
          "yaxis": {
           "automargin": true,
           "gridcolor": "white",
           "linecolor": "white",
           "ticks": "",
           "title": {
            "standoff": 15
           },
           "zerolinecolor": "white",
           "zerolinewidth": 2
          }
         }
        },
        "title": {
         "font": {
          "color": "#4D5663"
         }
        },
        "xaxis": {
         "gridcolor": "#E1E5ED",
         "showgrid": true,
         "tickfont": {
          "color": "#4D5663"
         },
         "title": {
          "font": {
           "color": "#4D5663"
          },
          "text": ""
         },
         "zerolinecolor": "#E1E5ED"
        },
        "yaxis": {
         "gridcolor": "#E1E5ED",
         "showgrid": true,
         "tickfont": {
          "color": "#4D5663"
         },
         "title": {
          "font": {
           "color": "#4D5663"
          },
          "text": ""
         },
         "zerolinecolor": "#E1E5ED"
        }
       }
      },
      "text/html": [
       "<div>                            <div id=\"c114ff13-42c4-4c12-9e8a-0ef8a973cc79\" class=\"plotly-graph-div\" style=\"height:525px; width:100%;\"></div>            <script type=\"text/javascript\">                require([\"plotly\"], function(Plotly) {                    window.PLOTLYENV=window.PLOTLYENV || {};\n",
       "                    window.PLOTLYENV.BASE_URL='https://plot.ly';                                    if (document.getElementById(\"c114ff13-42c4-4c12-9e8a-0ef8a973cc79\")) {                    Plotly.newPlot(                        \"c114ff13-42c4-4c12-9e8a-0ef8a973cc79\",                        [{\"line\": {\"color\": \"rgba(255, 153, 51, 1.0)\", \"dash\": \"solid\", \"shape\": \"linear\", \"width\": 1.3}, \"mode\": \"lines\", \"name\": \"Predicted\", \"text\": \"\", \"type\": \"scatter\", \"x\": [0, 1, 2, 3, 4, 5, 6, 7, 8, 9, 10, 11, 12, 13, 14, 15, 16, 17, 18, 19, 20, 21, 22, 23, 24, 25, 26, 27, 28, 29, 30, 31, 32, 33, 34, 35, 36, 37, 38, 39, 40, 41, 42, 43, 44, 45, 46, 47, 48, 49, 50, 51, 52, 53, 54, 55, 56, 57, 58, 59, 60, 61, 62, 63, 64, 65, 66, 67, 68, 69, 70, 71, 72, 73, 74, 75, 76, 77, 78, 79, 80, 81, 82, 83, 84, 85, 86, 87, 88, 89, 90, 91, 92, 93, 94, 95, 96, 97, 98, 99, 100, 101, 102, 103, 104, 105, 106, 107, 108, 109, 110, 111, 112, 113, 114, 115, 116, 117, 118, 119, 120, 121, 122, 123, 124, 125, 126, 127, 128, 129, 130, 131, 132, 133, 134, 135, 136, 137, 138, 139, 140, 141, 142, 143, 144, 145, 146, 147, 148, 149, 150, 151, 152, 153, 154, 155, 156, 157, 158, 159, 160, 161, 162, 163, 164, 165, 166, 167, 168, 169, 170, 171, 172, 173, 174, 175, 176, 177, 178, 179, 180, 181, 182, 183, 184, 185, 186, 187, 188, 189, 190, 191, 192, 193, 194, 195, 196, 197, 198, 199, 200, 201, 202, 203, 204, 205, 206, 207, 208, 209, 210, 211, 212, 213, 214, 215, 216, 217, 218, 219, 220, 221, 222, 223, 224, 225, 226, 227, 228, 229, 230, 231, 232, 233, 234, 235, 236, 237, 238, 239, 240, 241, 242, 243, 244, 245, 246, 247, 248, 249, 250, 251, 252, 253, 254, 255], \"y\": [0.06590650975704193, 0.0678960531949997, 0.07019373029470444, 0.0700308084487915, 0.06999161839485168, 0.07003678381443024, 0.07003655284643173, 0.07004174590110779, 0.07004716992378235, 0.07003296911716461, 0.07001131772994995, 0.06995420157909393, 0.06995955854654312, 0.06999258697032928, 0.06999856233596802, 0.07003825157880783, 0.07000778615474701, 0.07002799957990646, 0.07002632319927216, 0.07002893090248108, 0.07003143429756165, 0.07018953561782837, 0.07029231637716293, 0.07059666514396667, 0.07079290598630905, 0.07109175622463226, 0.07093682885169983, 0.07084155827760696, 0.07079010456800461, 0.07102979719638824, 0.0711037665605545, 0.07100057601928711, 0.06700383871793747, 0.06894807517528534, 0.07131198048591614, 0.07110679149627686, 0.0709545761346817, 0.0709957629442215, 0.07094360888004303, 0.07088765501976013, 0.07098637521266937, 0.07101209461688995, 0.0710664689540863, 0.07113257050514221, 0.07110820710659027, 0.07108574360609055, 0.07103956490755081, 0.07105496525764465, 0.07104361802339554, 0.0715240091085434, 0.07132408022880554, 0.0711793601512909, 0.07124015688896179, 0.07123178243637085, 0.07115137577056885, 0.07115344703197479, 0.07106919586658478, 0.07106222212314606, 0.071037158370018, 0.07113553583621979, 0.07116222381591797, 0.07111594825983047, 0.07116581499576569, 0.07116803526878357, 0.06755772233009338, 0.06916619837284088, 0.07130590826272964, 0.07120765000581741, 0.07110334187746048, 0.07112754881381989, 0.07111836969852448, 0.07113038748502731, 0.0710214152932167, 0.07106248289346695, 0.07111817598342896, 0.07117913663387299, 0.07115195691585541, 0.07109561562538147, 0.07113809883594513, 0.07116219401359558, 0.07118237018585205, 0.0711771696805954, 0.0711933821439743, 0.07117295265197754, 0.07122187316417694, 0.07122386246919632, 0.07123260200023651, 0.07129409909248352, 0.07126635313034058, 0.07128443568944931, 0.07127082347869873, 0.07129031419754028, 0.0712670236825943, 0.07135440409183502, 0.07181839644908905, 0.07152070105075836, 0.06730666011571884, 0.06939487159252167, 0.0714862272143364, 0.07137012481689453, 0.07152095437049866, 0.07157394289970398, 0.07174322009086609, 0.07162138819694519, 0.07161423563957214, 0.07152943313121796, 0.07154418528079987, 0.07155674695968628, 0.07154954969882965, 0.07174308598041534, 0.07167257368564606, 0.07168573141098022, 0.07163918018341064, 0.0715828388929367, 0.07159081101417542, 0.07151893526315689, 0.07147824019193649, 0.07141369581222534, 0.07144510746002197, 0.07143862545490265, 0.07144010066986084, 0.07143910229206085, 0.07143884897232056, 0.0714738517999649, 0.07151691615581512, 0.07156457006931305, 0.07150910794734955, 0.07146027684211731, 0.06656908988952637, 0.06949405372142792, 0.07152880728244781, 0.0713777095079422, 0.07129837572574615, 0.07139302790164948, 0.07139807939529419, 0.07144591957330704, 0.07145430147647858, 0.07145974040031433, 0.07146158814430237, 0.07146400213241577, 0.07153257727622986, 0.07155611366033554, 0.07155434787273407, 0.07155294716358185, 0.07151593267917633, 0.0714951604604721, 0.07150674611330032, 0.07156263291835785, 0.07152841985225677, 0.07160169631242752, 0.07158547639846802, 0.07154908776283264, 0.07152459025382996, 0.07150562107563019, 0.0715213343501091, 0.07146882265806198, 0.07151664793491364, 0.07150137424468994, 0.07143381237983704, 0.07144176959991455, 0.06560204923152924, 0.06951369345188141, 0.07143768668174744, 0.07127681374549866, 0.0713086798787117, 0.07138819992542267, 0.0714569240808487, 0.07145977020263672, 0.07148102670907974, 0.07160219550132751, 0.07155798375606537, 0.07155750691890717, 0.07155868411064148, 0.07155869901180267, 0.0715593546628952, 0.07155606150627136, 0.07155898213386536, 0.07162116467952728, 0.07162356376647949, 0.07158567011356354, 0.07162642478942871, 0.07163241505622864, 0.07163861393928528, 0.07163974642753601, 0.07169684767723083, 0.0715579241514206, 0.07158505916595459, 0.07155493646860123, 0.07154211401939392, 0.07159923762083054, 0.07159814983606339, 0.07159540057182312, 0.06713386625051498, 0.06958682835102081, 0.07163209468126297, 0.07145432382822037, 0.07149891555309296, 0.07153153419494629, 0.07159902900457382, 0.0715574398636818, 0.07158050686120987, 0.07169096171855927, 0.07168848812580109, 0.07169869542121887, 0.07165703177452087, 0.07162246108055115, 0.07167397439479828, 0.0716332346200943, 0.07166238129138947, 0.07165909558534622, 0.07164165377616882, 0.07167834043502808, 0.07167872041463852, 0.07169735431671143, 0.07170087099075317, 0.07172471284866333, 0.07176521420478821, 0.07201875746250153, 0.07191005349159241, 0.07194547355175018, 0.07191236317157745, 0.07194508612155914, 0.0719153881072998, 0.07194109261035919, 0.06761270761489868, 0.07007185369729996, 0.07202313840389252, 0.07183006405830383, 0.0718507394194603, 0.07199731469154358, 0.0720159187912941, 0.0719805583357811, 0.07194429636001587, 0.07195213437080383, 0.07195524871349335, 0.0719563290476799, 0.07191881537437439, 0.07189635932445526, 0.07190537452697754, 0.07183721661567688, 0.07178620994091034, 0.0717330127954483, 0.07174735516309738, 0.07175175845623016, 0.07175177335739136, 0.07175229489803314, 0.07174954563379288, 0.07175008207559586, 0.0717470720410347, 0.07174716889858246, 0.07174542546272278, 0.07174528390169144, 0.07174520194530487, 0.07175624370574951, 0.07173782587051392, 0.07171829789876938]}, {\"line\": {\"color\": \"rgba(55, 128, 191, 1.0)\", \"dash\": \"solid\", \"shape\": \"linear\", \"width\": 1.3}, \"mode\": \"lines\", \"name\": \"Labels\", \"text\": \"\", \"type\": \"scatter\", \"x\": [0, 1, 2, 3, 4, 5, 6, 7, 8, 9, 10, 11, 12, 13, 14, 15, 16, 17, 18, 19, 20, 21, 22, 23, 24, 25, 26, 27, 28, 29, 30, 31, 32, 33, 34, 35, 36, 37, 38, 39, 40, 41, 42, 43, 44, 45, 46, 47, 48, 49, 50, 51, 52, 53, 54, 55, 56, 57, 58, 59, 60, 61, 62, 63, 64, 65, 66, 67, 68, 69, 70, 71, 72, 73, 74, 75, 76, 77, 78, 79, 80, 81, 82, 83, 84, 85, 86, 87, 88, 89, 90, 91, 92, 93, 94, 95, 96, 97, 98, 99, 100, 101, 102, 103, 104, 105, 106, 107, 108, 109, 110, 111, 112, 113, 114, 115, 116, 117, 118, 119, 120, 121, 122, 123, 124, 125, 126, 127, 128, 129, 130, 131, 132, 133, 134, 135, 136, 137, 138, 139, 140, 141, 142, 143, 144, 145, 146, 147, 148, 149, 150, 151, 152, 153, 154, 155, 156, 157, 158, 159, 160, 161, 162, 163, 164, 165, 166, 167, 168, 169, 170, 171, 172, 173, 174, 175, 176, 177, 178, 179, 180, 181, 182, 183, 184, 185, 186, 187, 188, 189, 190, 191, 192, 193, 194, 195, 196, 197, 198, 199, 200, 201, 202, 203, 204, 205, 206, 207, 208, 209, 210, 211, 212, 213, 214, 215, 216, 217, 218, 219, 220, 221, 222, 223, 224, 225, 226, 227, 228, 229, 230, 231, 232, 233, 234, 235, 236, 237, 238, 239, 240, 241, 242, 243, 244, 245, 246, 247, 248, 249, 250, 251, 252, 253, 254, 255], \"y\": [0.07000459730625153, 0.07004033029079437, 0.07005038112401962, 0.07004133611917496, 0.07004736363887787, 0.0700417309999466, 0.07004234194755554, 0.07004736363887787, 0.07002323120832443, 0.07000814378261566, 0.06997596472501755, 0.06996188312768936, 0.0699789822101593, 0.0699860230088234, 0.07003127783536911, 0.07001619040966034, 0.07002423703670502, 0.07003328949213028, 0.07003429532051086, 0.07003429532051086, 0.07019519805908203, 0.07031185925006866, 0.07053511589765549, 0.0707523375749588, 0.07101280242204666, 0.07096453011035919, 0.07087703794240952, 0.0708850845694542, 0.07105202227830887, 0.07108118385076523, 0.07099972665309906, 0.07093436270952225, 0.07099168002605438, 0.0711887925863266, 0.07107213884592056, 0.07101380825042725, 0.07105906307697296, 0.07094743102788925, 0.07094743102788925, 0.07099469751119614, 0.07103492319583893, 0.07109928876161575, 0.0711556077003479, 0.07110029458999634, 0.07109928876161575, 0.07102185487747192, 0.07104137539863586, 0.07104196399450302, 0.07154177874326706, 0.0713014304637909, 0.07118476927280426, 0.0712551698088646, 0.07124410569667816, 0.07119080424308777, 0.07112636417150497, 0.0710831955075264, 0.07105906307697296, 0.0710299015045166, 0.07114957273006439, 0.07114856690168381, 0.07110130041837692, 0.07115057855844498, 0.07116365432739258, 0.07126924395561218, 0.0712611973285675, 0.07123003900051117, 0.07124511152505875, 0.07112845033407211, 0.0711354911327362, 0.07112442702054977, 0.07111739367246628, 0.07103995233774185, 0.0710500106215477, 0.07110733538866043, 0.07120086252689362, 0.07116729766130447, 0.0710892304778099, 0.07111236453056335, 0.07116768509149551, 0.07121895998716354, 0.07119885087013245, 0.07119885087013245, 0.07118778675794601, 0.07123102992773056, 0.07123619318008423, 0.07124008238315582, 0.07129941880702972, 0.07127729058265686, 0.07129941880702972, 0.07129941880702972, 0.07129941880702972, 0.07128634303808212, 0.07137785851955414, 0.07185252755880356, 0.07147842645645142, 0.07141104340553284, 0.07144221663475037, 0.0714663565158844, 0.0714663565158844, 0.07158301025629044, 0.07159508019685745, 0.0716976597905159, 0.07169263064861298, 0.07161117345094681, 0.07159608602523804, 0.0715518370270729, 0.07156189531087875, 0.07156189531087875, 0.07173185050487518, 0.0717569887638092, 0.07170067727565765, 0.07165944576263428, 0.0715920627117157, 0.07160111516714096, 0.0715387612581253, 0.07146736234426498, 0.07144121080636978, 0.07144221663475037, 0.07144121080636978, 0.07144121080636978, 0.0714402049779892, 0.07144083827733994, 0.07147540897130966, 0.07151665538549423, 0.07158099859952927, 0.0715055763721466, 0.07147339731454849, 0.07147540897130966, 0.07147842645645142, 0.07146535068750381, 0.07146535068750381, 0.07136277109384537, 0.07141204923391342, 0.07141204923391342, 0.0714593157172203, 0.07147239148616791, 0.07147239148616791, 0.07147138565778732, 0.07148144394159317, 0.07154881954193115, 0.07157395780086517, 0.07156994193792343, 0.07156893610954285, 0.07151764631271362, 0.07152267545461655, 0.07152669876813889, 0.07156893610954285, 0.071558877825737, 0.07160010933876038, 0.07159910351037979, 0.07155787199735641, 0.07152939587831497, 0.07152870297431946, 0.07152870297431946, 0.071503184735775, 0.07151362299919128, 0.07151462882757187, 0.07145126909017563, 0.07145126909017563, 0.07145026326179504, 0.07142110168933868, 0.0714133009314537, 0.071413055062294, 0.07138188183307648, 0.07141362875699997, 0.071492500603199, 0.07150054723024368, 0.07150155305862427, 0.07161117345094681, 0.07157496362924576, 0.07158200442790985, 0.07158113270998001, 0.07158200442790985, 0.07158099859952927, 0.07157999277114868, 0.0715789869427681, 0.07164033502340317, 0.07163932919502258, 0.07157596945762634, 0.07165542244911194, 0.07165364176034927, 0.07165341079235077, 0.07165441662073135, 0.07161318510770798, 0.07158401608467102, 0.07159306854009628, 0.07158401608467102, 0.07157295942306519, 0.07159709185361862, 0.0716182142496109, 0.07161620259284973, 0.07161519676446915, 0.07161318510770798, 0.07158200442790985, 0.0715719535946846, 0.0715719535946846, 0.07157295942306519, 0.07159608602523804, 0.07159508019685745, 0.07159508019685745, 0.07171420007944107, 0.07171475142240524, 0.07171420007944107, 0.07163731753826141, 0.07164254039525986, 0.0717034861445427, 0.0716513991355896, 0.07168760150671005, 0.07168760150671005, 0.07163631170988083, 0.07169363647699356, 0.07170363515615463, 0.07171374559402466, 0.07171374559402466, 0.07173889130353928, 0.0717831403017044, 0.07203656435012817, 0.07190985232591629, 0.07196013629436493, 0.071955107152462, 0.07197823375463486, 0.07193499058485031, 0.07197421789169312, 0.07197321206331253, 0.07199633866548538, 0.07190683484077454, 0.07190582901239395, 0.07191488146781921, 0.07203757017850876, 0.07203857600688934, 0.07199734449386597, 0.07199130952358246, 0.07199633866548538, 0.071955107152462, 0.07196315377950668, 0.07194102555513382, 0.07191186398267746, 0.07191186398267746, 0.07184649258852005, 0.07178213447332382, 0.07174794375896454, 0.07174894958734512, 0.07175297290086746, 0.07175297290086746, 0.07175397127866745, 0.07175297290086746, 0.07175343483686447, 0.07175297290086746, 0.07175297290086746, 0.07175297290086746, 0.07175367325544357, 0.07175297290086746, 0.07175353914499283, 0.07175397127866745, 0.07175497710704803, 0.07175497710704803]}],                        {\"legend\": {\"bgcolor\": \"#F5F6F9\", \"font\": {\"color\": \"#4D5663\"}}, \"paper_bgcolor\": \"#F5F6F9\", \"plot_bgcolor\": \"#F5F6F9\", \"template\": {\"data\": {\"bar\": [{\"error_x\": {\"color\": \"#2a3f5f\"}, \"error_y\": {\"color\": \"#2a3f5f\"}, \"marker\": {\"line\": {\"color\": \"#E5ECF6\", \"width\": 0.5}}, \"type\": \"bar\"}], \"barpolar\": [{\"marker\": {\"line\": {\"color\": \"#E5ECF6\", \"width\": 0.5}}, \"type\": \"barpolar\"}], \"carpet\": [{\"aaxis\": {\"endlinecolor\": \"#2a3f5f\", \"gridcolor\": \"white\", \"linecolor\": \"white\", \"minorgridcolor\": \"white\", \"startlinecolor\": \"#2a3f5f\"}, \"baxis\": {\"endlinecolor\": \"#2a3f5f\", \"gridcolor\": \"white\", \"linecolor\": \"white\", \"minorgridcolor\": \"white\", \"startlinecolor\": \"#2a3f5f\"}, \"type\": \"carpet\"}], \"choropleth\": [{\"colorbar\": {\"outlinewidth\": 0, \"ticks\": \"\"}, \"type\": \"choropleth\"}], \"contour\": [{\"colorbar\": {\"outlinewidth\": 0, \"ticks\": \"\"}, \"colorscale\": [[0.0, \"#0d0887\"], [0.1111111111111111, \"#46039f\"], [0.2222222222222222, \"#7201a8\"], [0.3333333333333333, \"#9c179e\"], [0.4444444444444444, \"#bd3786\"], [0.5555555555555556, \"#d8576b\"], [0.6666666666666666, \"#ed7953\"], [0.7777777777777778, \"#fb9f3a\"], [0.8888888888888888, \"#fdca26\"], [1.0, \"#f0f921\"]], \"type\": \"contour\"}], \"contourcarpet\": [{\"colorbar\": {\"outlinewidth\": 0, \"ticks\": \"\"}, \"type\": \"contourcarpet\"}], \"heatmap\": [{\"colorbar\": {\"outlinewidth\": 0, \"ticks\": \"\"}, \"colorscale\": [[0.0, \"#0d0887\"], [0.1111111111111111, \"#46039f\"], [0.2222222222222222, \"#7201a8\"], [0.3333333333333333, \"#9c179e\"], [0.4444444444444444, \"#bd3786\"], [0.5555555555555556, \"#d8576b\"], [0.6666666666666666, \"#ed7953\"], [0.7777777777777778, \"#fb9f3a\"], [0.8888888888888888, \"#fdca26\"], [1.0, \"#f0f921\"]], \"type\": \"heatmap\"}], \"heatmapgl\": [{\"colorbar\": {\"outlinewidth\": 0, \"ticks\": \"\"}, \"colorscale\": [[0.0, \"#0d0887\"], [0.1111111111111111, \"#46039f\"], [0.2222222222222222, \"#7201a8\"], [0.3333333333333333, \"#9c179e\"], [0.4444444444444444, \"#bd3786\"], [0.5555555555555556, \"#d8576b\"], [0.6666666666666666, \"#ed7953\"], [0.7777777777777778, \"#fb9f3a\"], [0.8888888888888888, \"#fdca26\"], [1.0, \"#f0f921\"]], \"type\": \"heatmapgl\"}], \"histogram\": [{\"marker\": {\"colorbar\": {\"outlinewidth\": 0, \"ticks\": \"\"}}, \"type\": \"histogram\"}], \"histogram2d\": [{\"colorbar\": {\"outlinewidth\": 0, \"ticks\": \"\"}, \"colorscale\": [[0.0, \"#0d0887\"], [0.1111111111111111, \"#46039f\"], [0.2222222222222222, \"#7201a8\"], [0.3333333333333333, \"#9c179e\"], [0.4444444444444444, \"#bd3786\"], [0.5555555555555556, \"#d8576b\"], [0.6666666666666666, \"#ed7953\"], [0.7777777777777778, \"#fb9f3a\"], [0.8888888888888888, \"#fdca26\"], [1.0, \"#f0f921\"]], \"type\": \"histogram2d\"}], \"histogram2dcontour\": [{\"colorbar\": {\"outlinewidth\": 0, \"ticks\": \"\"}, \"colorscale\": [[0.0, \"#0d0887\"], [0.1111111111111111, \"#46039f\"], [0.2222222222222222, \"#7201a8\"], [0.3333333333333333, \"#9c179e\"], [0.4444444444444444, \"#bd3786\"], [0.5555555555555556, \"#d8576b\"], [0.6666666666666666, \"#ed7953\"], [0.7777777777777778, \"#fb9f3a\"], [0.8888888888888888, \"#fdca26\"], [1.0, \"#f0f921\"]], \"type\": \"histogram2dcontour\"}], \"mesh3d\": [{\"colorbar\": {\"outlinewidth\": 0, \"ticks\": \"\"}, \"type\": \"mesh3d\"}], \"parcoords\": [{\"line\": {\"colorbar\": {\"outlinewidth\": 0, \"ticks\": \"\"}}, \"type\": \"parcoords\"}], \"pie\": [{\"automargin\": true, \"type\": \"pie\"}], \"scatter\": [{\"marker\": {\"colorbar\": {\"outlinewidth\": 0, \"ticks\": \"\"}}, \"type\": \"scatter\"}], \"scatter3d\": [{\"line\": {\"colorbar\": {\"outlinewidth\": 0, \"ticks\": \"\"}}, \"marker\": {\"colorbar\": {\"outlinewidth\": 0, \"ticks\": \"\"}}, \"type\": \"scatter3d\"}], \"scattercarpet\": [{\"marker\": {\"colorbar\": {\"outlinewidth\": 0, \"ticks\": \"\"}}, \"type\": \"scattercarpet\"}], \"scattergeo\": [{\"marker\": {\"colorbar\": {\"outlinewidth\": 0, \"ticks\": \"\"}}, \"type\": \"scattergeo\"}], \"scattergl\": [{\"marker\": {\"colorbar\": {\"outlinewidth\": 0, \"ticks\": \"\"}}, \"type\": \"scattergl\"}], \"scattermapbox\": [{\"marker\": {\"colorbar\": {\"outlinewidth\": 0, \"ticks\": \"\"}}, \"type\": \"scattermapbox\"}], \"scatterpolar\": [{\"marker\": {\"colorbar\": {\"outlinewidth\": 0, \"ticks\": \"\"}}, \"type\": \"scatterpolar\"}], \"scatterpolargl\": [{\"marker\": {\"colorbar\": {\"outlinewidth\": 0, \"ticks\": \"\"}}, \"type\": \"scatterpolargl\"}], \"scatterternary\": [{\"marker\": {\"colorbar\": {\"outlinewidth\": 0, \"ticks\": \"\"}}, \"type\": \"scatterternary\"}], \"surface\": [{\"colorbar\": {\"outlinewidth\": 0, \"ticks\": \"\"}, \"colorscale\": [[0.0, \"#0d0887\"], [0.1111111111111111, \"#46039f\"], [0.2222222222222222, \"#7201a8\"], [0.3333333333333333, \"#9c179e\"], [0.4444444444444444, \"#bd3786\"], [0.5555555555555556, \"#d8576b\"], [0.6666666666666666, \"#ed7953\"], [0.7777777777777778, \"#fb9f3a\"], [0.8888888888888888, \"#fdca26\"], [1.0, \"#f0f921\"]], \"type\": \"surface\"}], \"table\": [{\"cells\": {\"fill\": {\"color\": \"#EBF0F8\"}, \"line\": {\"color\": \"white\"}}, \"header\": {\"fill\": {\"color\": \"#C8D4E3\"}, \"line\": {\"color\": \"white\"}}, \"type\": \"table\"}]}, \"layout\": {\"annotationdefaults\": {\"arrowcolor\": \"#2a3f5f\", \"arrowhead\": 0, \"arrowwidth\": 1}, \"autotypenumbers\": \"strict\", \"coloraxis\": {\"colorbar\": {\"outlinewidth\": 0, \"ticks\": \"\"}}, \"colorscale\": {\"diverging\": [[0, \"#8e0152\"], [0.1, \"#c51b7d\"], [0.2, \"#de77ae\"], [0.3, \"#f1b6da\"], [0.4, \"#fde0ef\"], [0.5, \"#f7f7f7\"], [0.6, \"#e6f5d0\"], [0.7, \"#b8e186\"], [0.8, \"#7fbc41\"], [0.9, \"#4d9221\"], [1, \"#276419\"]], \"sequential\": [[0.0, \"#0d0887\"], [0.1111111111111111, \"#46039f\"], [0.2222222222222222, \"#7201a8\"], [0.3333333333333333, \"#9c179e\"], [0.4444444444444444, \"#bd3786\"], [0.5555555555555556, \"#d8576b\"], [0.6666666666666666, \"#ed7953\"], [0.7777777777777778, \"#fb9f3a\"], [0.8888888888888888, \"#fdca26\"], [1.0, \"#f0f921\"]], \"sequentialminus\": [[0.0, \"#0d0887\"], [0.1111111111111111, \"#46039f\"], [0.2222222222222222, \"#7201a8\"], [0.3333333333333333, \"#9c179e\"], [0.4444444444444444, \"#bd3786\"], [0.5555555555555556, \"#d8576b\"], [0.6666666666666666, \"#ed7953\"], [0.7777777777777778, \"#fb9f3a\"], [0.8888888888888888, \"#fdca26\"], [1.0, \"#f0f921\"]]}, \"colorway\": [\"#636efa\", \"#EF553B\", \"#00cc96\", \"#ab63fa\", \"#FFA15A\", \"#19d3f3\", \"#FF6692\", \"#B6E880\", \"#FF97FF\", \"#FECB52\"], \"font\": {\"color\": \"#2a3f5f\"}, \"geo\": {\"bgcolor\": \"white\", \"lakecolor\": \"white\", \"landcolor\": \"#E5ECF6\", \"showlakes\": true, \"showland\": true, \"subunitcolor\": \"white\"}, \"hoverlabel\": {\"align\": \"left\"}, \"hovermode\": \"closest\", \"mapbox\": {\"style\": \"light\"}, \"paper_bgcolor\": \"white\", \"plot_bgcolor\": \"#E5ECF6\", \"polar\": {\"angularaxis\": {\"gridcolor\": \"white\", \"linecolor\": \"white\", \"ticks\": \"\"}, \"bgcolor\": \"#E5ECF6\", \"radialaxis\": {\"gridcolor\": \"white\", \"linecolor\": \"white\", \"ticks\": \"\"}}, \"scene\": {\"xaxis\": {\"backgroundcolor\": \"#E5ECF6\", \"gridcolor\": \"white\", \"gridwidth\": 2, \"linecolor\": \"white\", \"showbackground\": true, \"ticks\": \"\", \"zerolinecolor\": \"white\"}, \"yaxis\": {\"backgroundcolor\": \"#E5ECF6\", \"gridcolor\": \"white\", \"gridwidth\": 2, \"linecolor\": \"white\", \"showbackground\": true, \"ticks\": \"\", \"zerolinecolor\": \"white\"}, \"zaxis\": {\"backgroundcolor\": \"#E5ECF6\", \"gridcolor\": \"white\", \"gridwidth\": 2, \"linecolor\": \"white\", \"showbackground\": true, \"ticks\": \"\", \"zerolinecolor\": \"white\"}}, \"shapedefaults\": {\"line\": {\"color\": \"#2a3f5f\"}}, \"ternary\": {\"aaxis\": {\"gridcolor\": \"white\", \"linecolor\": \"white\", \"ticks\": \"\"}, \"baxis\": {\"gridcolor\": \"white\", \"linecolor\": \"white\", \"ticks\": \"\"}, \"bgcolor\": \"#E5ECF6\", \"caxis\": {\"gridcolor\": \"white\", \"linecolor\": \"white\", \"ticks\": \"\"}}, \"title\": {\"x\": 0.05}, \"xaxis\": {\"automargin\": true, \"gridcolor\": \"white\", \"linecolor\": \"white\", \"ticks\": \"\", \"title\": {\"standoff\": 15}, \"zerolinecolor\": \"white\", \"zerolinewidth\": 2}, \"yaxis\": {\"automargin\": true, \"gridcolor\": \"white\", \"linecolor\": \"white\", \"ticks\": \"\", \"title\": {\"standoff\": 15}, \"zerolinecolor\": \"white\", \"zerolinewidth\": 2}}}, \"title\": {\"font\": {\"color\": \"#4D5663\"}}, \"xaxis\": {\"gridcolor\": \"#E1E5ED\", \"showgrid\": true, \"tickfont\": {\"color\": \"#4D5663\"}, \"title\": {\"font\": {\"color\": \"#4D5663\"}, \"text\": \"\"}, \"zerolinecolor\": \"#E1E5ED\"}, \"yaxis\": {\"gridcolor\": \"#E1E5ED\", \"showgrid\": true, \"tickfont\": {\"color\": \"#4D5663\"}, \"title\": {\"font\": {\"color\": \"#4D5663\"}, \"text\": \"\"}, \"zerolinecolor\": \"#E1E5ED\"}},                        {\"showLink\": true, \"linkText\": \"Export to plot.ly\", \"plotlyServerURL\": \"https://plot.ly\", \"responsive\": true}                    ).then(function(){\n",
       "                            \n",
       "var gd = document.getElementById('c114ff13-42c4-4c12-9e8a-0ef8a973cc79');\n",
       "var x = new MutationObserver(function (mutations, observer) {{\n",
       "        var display = window.getComputedStyle(gd).display;\n",
       "        if (!display || display === 'none') {{\n",
       "            console.log([gd, 'removed!']);\n",
       "            Plotly.purge(gd);\n",
       "            observer.disconnect();\n",
       "        }}\n",
       "}});\n",
       "\n",
       "// Listen for the removal of the full notebook cells\n",
       "var notebookContainer = gd.closest('#notebook-container');\n",
       "if (notebookContainer) {{\n",
       "    x.observe(notebookContainer, {childList: true});\n",
       "}}\n",
       "\n",
       "// Listen for the clearing of the current output cell\n",
       "var outputEl = gd.closest('.output');\n",
       "if (outputEl) {{\n",
       "    x.observe(outputEl, {childList: true});\n",
       "}}\n",
       "\n",
       "                        })                };                });            </script>        </div>"
      ]
     },
     "metadata": {},
     "output_type": "display_data"
    }
   ],
   "source": [
    "import tensorflow as tf\n",
    "\n",
    "test_window, label_window = next(iter(window.test))\n",
    "model.reset_states()\n",
    "predictions = model(test_window)\n",
    "\n",
    "predictions = tf.reshape(predictions, [-1])\n",
    "label_window = tf.reshape(label_window, [-1])\n",
    "\n",
    "pred2labels = pd.DataFrame({ 'Predicted': predictions, 'Labels': label_window})\n",
    "\n",
    "pred2labels.iplot()"
   ]
  },
  {
   "cell_type": "code",
   "execution_count": 7,
   "id": "olympic-shelter",
   "metadata": {},
   "outputs": [
    {
     "data": {
      "application/vnd.plotly.v1+json": {
       "config": {
        "plotlyServerURL": "https://plot.ly"
       },
       "data": [
        {
         "hovertemplate": "x=%{x}<br>y=%{y}<extra></extra>",
         "legendgroup": "",
         "marker": {
          "color": "#636efa",
          "symbol": "circle"
         },
         "mode": "markers",
         "name": "",
         "orientation": "v",
         "showlegend": false,
         "type": "scatter",
         "x": [
          0.06590650975704193,
          0.0678960531949997,
          0.07019373029470444,
          0.0700308084487915,
          0.06999161839485168,
          0.07003678381443024,
          0.07003655284643173,
          0.07004174590110779,
          0.07004716992378235,
          0.07003296911716461,
          0.07001131772994995,
          0.06995420157909393,
          0.06995955854654312,
          0.06999258697032928,
          0.06999856233596802,
          0.07003825157880783,
          0.07000778615474701,
          0.07002799957990646,
          0.07002632319927216,
          0.07002893090248108,
          0.07003143429756165,
          0.07018953561782837,
          0.07029231637716293,
          0.07059666514396667,
          0.07079290598630905,
          0.07109175622463226,
          0.07093682885169983,
          0.07084155827760696,
          0.07079010456800461,
          0.07102979719638824,
          0.0711037665605545,
          0.07100057601928711,
          0.06700383871793747,
          0.06894807517528534,
          0.07131198048591614,
          0.07110679149627686,
          0.0709545761346817,
          0.0709957629442215,
          0.07094360888004303,
          0.07088765501976013,
          0.07098637521266937,
          0.07101209461688995,
          0.0710664689540863,
          0.07113257050514221,
          0.07110820710659027,
          0.07108574360609055,
          0.07103956490755081,
          0.07105496525764465,
          0.07104361802339554,
          0.0715240091085434,
          0.07132408022880554,
          0.0711793601512909,
          0.07124015688896179,
          0.07123178243637085,
          0.07115137577056885,
          0.07115344703197479,
          0.07106919586658478,
          0.07106222212314606,
          0.071037158370018,
          0.07113553583621979,
          0.07116222381591797,
          0.07111594825983047,
          0.07116581499576569,
          0.07116803526878357,
          0.06755772233009338,
          0.06916619837284088,
          0.07130590826272964,
          0.07120765000581741,
          0.07110334187746048,
          0.07112754881381989,
          0.07111836969852448,
          0.07113038748502731,
          0.0710214152932167,
          0.07106248289346695,
          0.07111817598342896,
          0.07117913663387299,
          0.07115195691585541,
          0.07109561562538147,
          0.07113809883594513,
          0.07116219401359558,
          0.07118237018585205,
          0.0711771696805954,
          0.0711933821439743,
          0.07117295265197754,
          0.07122187316417694,
          0.07122386246919632,
          0.07123260200023651,
          0.07129409909248352,
          0.07126635313034058,
          0.07128443568944931,
          0.07127082347869873,
          0.07129031419754028,
          0.0712670236825943,
          0.07135440409183502,
          0.07181839644908905,
          0.07152070105075836,
          0.06730666011571884,
          0.06939487159252167,
          0.0714862272143364,
          0.07137012481689453,
          0.07152095437049866,
          0.07157394289970398,
          0.07174322009086609,
          0.07162138819694519,
          0.07161423563957214,
          0.07152943313121796,
          0.07154418528079987,
          0.07155674695968628,
          0.07154954969882965,
          0.07174308598041534,
          0.07167257368564606,
          0.07168573141098022,
          0.07163918018341064,
          0.0715828388929367,
          0.07159081101417542,
          0.07151893526315689,
          0.07147824019193649,
          0.07141369581222534,
          0.07144510746002197,
          0.07143862545490265,
          0.07144010066986084,
          0.07143910229206085,
          0.07143884897232056,
          0.0714738517999649,
          0.07151691615581512,
          0.07156457006931305,
          0.07150910794734955,
          0.07146027684211731,
          0.06656908988952637,
          0.06949405372142792,
          0.07152880728244781,
          0.0713777095079422,
          0.07129837572574615,
          0.07139302790164948,
          0.07139807939529419,
          0.07144591957330704,
          0.07145430147647858,
          0.07145974040031433,
          0.07146158814430237,
          0.07146400213241577,
          0.07153257727622986,
          0.07155611366033554,
          0.07155434787273407,
          0.07155294716358185,
          0.07151593267917633,
          0.0714951604604721,
          0.07150674611330032,
          0.07156263291835785,
          0.07152841985225677,
          0.07160169631242752,
          0.07158547639846802,
          0.07154908776283264,
          0.07152459025382996,
          0.07150562107563019,
          0.0715213343501091,
          0.07146882265806198,
          0.07151664793491364,
          0.07150137424468994,
          0.07143381237983704,
          0.07144176959991455,
          0.06560204923152924,
          0.06951369345188141,
          0.07143768668174744,
          0.07127681374549866,
          0.0713086798787117,
          0.07138819992542267,
          0.0714569240808487,
          0.07145977020263672,
          0.07148102670907974,
          0.07160219550132751,
          0.07155798375606537,
          0.07155750691890717,
          0.07155868411064148,
          0.07155869901180267,
          0.0715593546628952,
          0.07155606150627136,
          0.07155898213386536,
          0.07162116467952728,
          0.07162356376647949,
          0.07158567011356354,
          0.07162642478942871,
          0.07163241505622864,
          0.07163861393928528,
          0.07163974642753601,
          0.07169684767723083,
          0.0715579241514206,
          0.07158505916595459,
          0.07155493646860123,
          0.07154211401939392,
          0.07159923762083054,
          0.07159814983606339,
          0.07159540057182312,
          0.06713386625051498,
          0.06958682835102081,
          0.07163209468126297,
          0.07145432382822037,
          0.07149891555309296,
          0.07153153419494629,
          0.07159902900457382,
          0.0715574398636818,
          0.07158050686120987,
          0.07169096171855927,
          0.07168848812580109,
          0.07169869542121887,
          0.07165703177452087,
          0.07162246108055115,
          0.07167397439479828,
          0.0716332346200943,
          0.07166238129138947,
          0.07165909558534622,
          0.07164165377616882,
          0.07167834043502808,
          0.07167872041463852,
          0.07169735431671143,
          0.07170087099075317,
          0.07172471284866333,
          0.07176521420478821,
          0.07201875746250153,
          0.07191005349159241,
          0.07194547355175018,
          0.07191236317157745,
          0.07194508612155914,
          0.0719153881072998,
          0.07194109261035919,
          0.06761270761489868,
          0.07007185369729996,
          0.07202313840389252,
          0.07183006405830383,
          0.0718507394194603,
          0.07199731469154358,
          0.0720159187912941,
          0.0719805583357811,
          0.07194429636001587,
          0.07195213437080383,
          0.07195524871349335,
          0.0719563290476799,
          0.07191881537437439,
          0.07189635932445526,
          0.07190537452697754,
          0.07183721661567688,
          0.07178620994091034,
          0.0717330127954483,
          0.07174735516309738,
          0.07175175845623016,
          0.07175177335739136,
          0.07175229489803314,
          0.07174954563379288,
          0.07175008207559586,
          0.0717470720410347,
          0.07174716889858246,
          0.07174542546272278,
          0.07174528390169144,
          0.07174520194530487,
          0.07175624370574951,
          0.07173782587051392,
          0.07171829789876938
         ],
         "xaxis": "x",
         "y": [
          0.07000459730625153,
          0.07004033029079437,
          0.07005038112401962,
          0.07004133611917496,
          0.07004736363887787,
          0.0700417309999466,
          0.07004234194755554,
          0.07004736363887787,
          0.07002323120832443,
          0.07000814378261566,
          0.06997596472501755,
          0.06996188312768936,
          0.0699789822101593,
          0.0699860230088234,
          0.07003127783536911,
          0.07001619040966034,
          0.07002423703670502,
          0.07003328949213028,
          0.07003429532051086,
          0.07003429532051086,
          0.07019519805908203,
          0.07031185925006866,
          0.07053511589765549,
          0.0707523375749588,
          0.07101280242204666,
          0.07096453011035919,
          0.07087703794240952,
          0.0708850845694542,
          0.07105202227830887,
          0.07108118385076523,
          0.07099972665309906,
          0.07093436270952225,
          0.07099168002605438,
          0.0711887925863266,
          0.07107213884592056,
          0.07101380825042725,
          0.07105906307697296,
          0.07094743102788925,
          0.07094743102788925,
          0.07099469751119614,
          0.07103492319583893,
          0.07109928876161575,
          0.0711556077003479,
          0.07110029458999634,
          0.07109928876161575,
          0.07102185487747192,
          0.07104137539863586,
          0.07104196399450302,
          0.07154177874326706,
          0.0713014304637909,
          0.07118476927280426,
          0.0712551698088646,
          0.07124410569667816,
          0.07119080424308777,
          0.07112636417150497,
          0.0710831955075264,
          0.07105906307697296,
          0.0710299015045166,
          0.07114957273006439,
          0.07114856690168381,
          0.07110130041837692,
          0.07115057855844498,
          0.07116365432739258,
          0.07126924395561218,
          0.0712611973285675,
          0.07123003900051117,
          0.07124511152505875,
          0.07112845033407211,
          0.0711354911327362,
          0.07112442702054977,
          0.07111739367246628,
          0.07103995233774185,
          0.0710500106215477,
          0.07110733538866043,
          0.07120086252689362,
          0.07116729766130447,
          0.0710892304778099,
          0.07111236453056335,
          0.07116768509149551,
          0.07121895998716354,
          0.07119885087013245,
          0.07119885087013245,
          0.07118778675794601,
          0.07123102992773056,
          0.07123619318008423,
          0.07124008238315582,
          0.07129941880702972,
          0.07127729058265686,
          0.07129941880702972,
          0.07129941880702972,
          0.07129941880702972,
          0.07128634303808212,
          0.07137785851955414,
          0.07185252755880356,
          0.07147842645645142,
          0.07141104340553284,
          0.07144221663475037,
          0.0714663565158844,
          0.0714663565158844,
          0.07158301025629044,
          0.07159508019685745,
          0.0716976597905159,
          0.07169263064861298,
          0.07161117345094681,
          0.07159608602523804,
          0.0715518370270729,
          0.07156189531087875,
          0.07156189531087875,
          0.07173185050487518,
          0.0717569887638092,
          0.07170067727565765,
          0.07165944576263428,
          0.0715920627117157,
          0.07160111516714096,
          0.0715387612581253,
          0.07146736234426498,
          0.07144121080636978,
          0.07144221663475037,
          0.07144121080636978,
          0.07144121080636978,
          0.0714402049779892,
          0.07144083827733994,
          0.07147540897130966,
          0.07151665538549423,
          0.07158099859952927,
          0.0715055763721466,
          0.07147339731454849,
          0.07147540897130966,
          0.07147842645645142,
          0.07146535068750381,
          0.07146535068750381,
          0.07136277109384537,
          0.07141204923391342,
          0.07141204923391342,
          0.0714593157172203,
          0.07147239148616791,
          0.07147239148616791,
          0.07147138565778732,
          0.07148144394159317,
          0.07154881954193115,
          0.07157395780086517,
          0.07156994193792343,
          0.07156893610954285,
          0.07151764631271362,
          0.07152267545461655,
          0.07152669876813889,
          0.07156893610954285,
          0.071558877825737,
          0.07160010933876038,
          0.07159910351037979,
          0.07155787199735641,
          0.07152939587831497,
          0.07152870297431946,
          0.07152870297431946,
          0.071503184735775,
          0.07151362299919128,
          0.07151462882757187,
          0.07145126909017563,
          0.07145126909017563,
          0.07145026326179504,
          0.07142110168933868,
          0.0714133009314537,
          0.071413055062294,
          0.07138188183307648,
          0.07141362875699997,
          0.071492500603199,
          0.07150054723024368,
          0.07150155305862427,
          0.07161117345094681,
          0.07157496362924576,
          0.07158200442790985,
          0.07158113270998001,
          0.07158200442790985,
          0.07158099859952927,
          0.07157999277114868,
          0.0715789869427681,
          0.07164033502340317,
          0.07163932919502258,
          0.07157596945762634,
          0.07165542244911194,
          0.07165364176034927,
          0.07165341079235077,
          0.07165441662073135,
          0.07161318510770798,
          0.07158401608467102,
          0.07159306854009628,
          0.07158401608467102,
          0.07157295942306519,
          0.07159709185361862,
          0.0716182142496109,
          0.07161620259284973,
          0.07161519676446915,
          0.07161318510770798,
          0.07158200442790985,
          0.0715719535946846,
          0.0715719535946846,
          0.07157295942306519,
          0.07159608602523804,
          0.07159508019685745,
          0.07159508019685745,
          0.07171420007944107,
          0.07171475142240524,
          0.07171420007944107,
          0.07163731753826141,
          0.07164254039525986,
          0.0717034861445427,
          0.0716513991355896,
          0.07168760150671005,
          0.07168760150671005,
          0.07163631170988083,
          0.07169363647699356,
          0.07170363515615463,
          0.07171374559402466,
          0.07171374559402466,
          0.07173889130353928,
          0.0717831403017044,
          0.07203656435012817,
          0.07190985232591629,
          0.07196013629436493,
          0.071955107152462,
          0.07197823375463486,
          0.07193499058485031,
          0.07197421789169312,
          0.07197321206331253,
          0.07199633866548538,
          0.07190683484077454,
          0.07190582901239395,
          0.07191488146781921,
          0.07203757017850876,
          0.07203857600688934,
          0.07199734449386597,
          0.07199130952358246,
          0.07199633866548538,
          0.071955107152462,
          0.07196315377950668,
          0.07194102555513382,
          0.07191186398267746,
          0.07191186398267746,
          0.07184649258852005,
          0.07178213447332382,
          0.07174794375896454,
          0.07174894958734512,
          0.07175297290086746,
          0.07175297290086746,
          0.07175397127866745,
          0.07175297290086746,
          0.07175343483686447,
          0.07175297290086746,
          0.07175297290086746,
          0.07175297290086746,
          0.07175367325544357,
          0.07175297290086746,
          0.07175353914499283,
          0.07175397127866745,
          0.07175497710704803,
          0.07175497710704803
         ],
         "yaxis": "y"
        }
       ],
       "layout": {
        "legend": {
         "tracegroupgap": 0
        },
        "margin": {
         "t": 60
        },
        "template": {
         "data": {
          "bar": [
           {
            "error_x": {
             "color": "#2a3f5f"
            },
            "error_y": {
             "color": "#2a3f5f"
            },
            "marker": {
             "line": {
              "color": "#E5ECF6",
              "width": 0.5
             }
            },
            "type": "bar"
           }
          ],
          "barpolar": [
           {
            "marker": {
             "line": {
              "color": "#E5ECF6",
              "width": 0.5
             }
            },
            "type": "barpolar"
           }
          ],
          "carpet": [
           {
            "aaxis": {
             "endlinecolor": "#2a3f5f",
             "gridcolor": "white",
             "linecolor": "white",
             "minorgridcolor": "white",
             "startlinecolor": "#2a3f5f"
            },
            "baxis": {
             "endlinecolor": "#2a3f5f",
             "gridcolor": "white",
             "linecolor": "white",
             "minorgridcolor": "white",
             "startlinecolor": "#2a3f5f"
            },
            "type": "carpet"
           }
          ],
          "choropleth": [
           {
            "colorbar": {
             "outlinewidth": 0,
             "ticks": ""
            },
            "type": "choropleth"
           }
          ],
          "contour": [
           {
            "colorbar": {
             "outlinewidth": 0,
             "ticks": ""
            },
            "colorscale": [
             [
              0,
              "#0d0887"
             ],
             [
              0.1111111111111111,
              "#46039f"
             ],
             [
              0.2222222222222222,
              "#7201a8"
             ],
             [
              0.3333333333333333,
              "#9c179e"
             ],
             [
              0.4444444444444444,
              "#bd3786"
             ],
             [
              0.5555555555555556,
              "#d8576b"
             ],
             [
              0.6666666666666666,
              "#ed7953"
             ],
             [
              0.7777777777777778,
              "#fb9f3a"
             ],
             [
              0.8888888888888888,
              "#fdca26"
             ],
             [
              1,
              "#f0f921"
             ]
            ],
            "type": "contour"
           }
          ],
          "contourcarpet": [
           {
            "colorbar": {
             "outlinewidth": 0,
             "ticks": ""
            },
            "type": "contourcarpet"
           }
          ],
          "heatmap": [
           {
            "colorbar": {
             "outlinewidth": 0,
             "ticks": ""
            },
            "colorscale": [
             [
              0,
              "#0d0887"
             ],
             [
              0.1111111111111111,
              "#46039f"
             ],
             [
              0.2222222222222222,
              "#7201a8"
             ],
             [
              0.3333333333333333,
              "#9c179e"
             ],
             [
              0.4444444444444444,
              "#bd3786"
             ],
             [
              0.5555555555555556,
              "#d8576b"
             ],
             [
              0.6666666666666666,
              "#ed7953"
             ],
             [
              0.7777777777777778,
              "#fb9f3a"
             ],
             [
              0.8888888888888888,
              "#fdca26"
             ],
             [
              1,
              "#f0f921"
             ]
            ],
            "type": "heatmap"
           }
          ],
          "heatmapgl": [
           {
            "colorbar": {
             "outlinewidth": 0,
             "ticks": ""
            },
            "colorscale": [
             [
              0,
              "#0d0887"
             ],
             [
              0.1111111111111111,
              "#46039f"
             ],
             [
              0.2222222222222222,
              "#7201a8"
             ],
             [
              0.3333333333333333,
              "#9c179e"
             ],
             [
              0.4444444444444444,
              "#bd3786"
             ],
             [
              0.5555555555555556,
              "#d8576b"
             ],
             [
              0.6666666666666666,
              "#ed7953"
             ],
             [
              0.7777777777777778,
              "#fb9f3a"
             ],
             [
              0.8888888888888888,
              "#fdca26"
             ],
             [
              1,
              "#f0f921"
             ]
            ],
            "type": "heatmapgl"
           }
          ],
          "histogram": [
           {
            "marker": {
             "colorbar": {
              "outlinewidth": 0,
              "ticks": ""
             }
            },
            "type": "histogram"
           }
          ],
          "histogram2d": [
           {
            "colorbar": {
             "outlinewidth": 0,
             "ticks": ""
            },
            "colorscale": [
             [
              0,
              "#0d0887"
             ],
             [
              0.1111111111111111,
              "#46039f"
             ],
             [
              0.2222222222222222,
              "#7201a8"
             ],
             [
              0.3333333333333333,
              "#9c179e"
             ],
             [
              0.4444444444444444,
              "#bd3786"
             ],
             [
              0.5555555555555556,
              "#d8576b"
             ],
             [
              0.6666666666666666,
              "#ed7953"
             ],
             [
              0.7777777777777778,
              "#fb9f3a"
             ],
             [
              0.8888888888888888,
              "#fdca26"
             ],
             [
              1,
              "#f0f921"
             ]
            ],
            "type": "histogram2d"
           }
          ],
          "histogram2dcontour": [
           {
            "colorbar": {
             "outlinewidth": 0,
             "ticks": ""
            },
            "colorscale": [
             [
              0,
              "#0d0887"
             ],
             [
              0.1111111111111111,
              "#46039f"
             ],
             [
              0.2222222222222222,
              "#7201a8"
             ],
             [
              0.3333333333333333,
              "#9c179e"
             ],
             [
              0.4444444444444444,
              "#bd3786"
             ],
             [
              0.5555555555555556,
              "#d8576b"
             ],
             [
              0.6666666666666666,
              "#ed7953"
             ],
             [
              0.7777777777777778,
              "#fb9f3a"
             ],
             [
              0.8888888888888888,
              "#fdca26"
             ],
             [
              1,
              "#f0f921"
             ]
            ],
            "type": "histogram2dcontour"
           }
          ],
          "mesh3d": [
           {
            "colorbar": {
             "outlinewidth": 0,
             "ticks": ""
            },
            "type": "mesh3d"
           }
          ],
          "parcoords": [
           {
            "line": {
             "colorbar": {
              "outlinewidth": 0,
              "ticks": ""
             }
            },
            "type": "parcoords"
           }
          ],
          "pie": [
           {
            "automargin": true,
            "type": "pie"
           }
          ],
          "scatter": [
           {
            "marker": {
             "colorbar": {
              "outlinewidth": 0,
              "ticks": ""
             }
            },
            "type": "scatter"
           }
          ],
          "scatter3d": [
           {
            "line": {
             "colorbar": {
              "outlinewidth": 0,
              "ticks": ""
             }
            },
            "marker": {
             "colorbar": {
              "outlinewidth": 0,
              "ticks": ""
             }
            },
            "type": "scatter3d"
           }
          ],
          "scattercarpet": [
           {
            "marker": {
             "colorbar": {
              "outlinewidth": 0,
              "ticks": ""
             }
            },
            "type": "scattercarpet"
           }
          ],
          "scattergeo": [
           {
            "marker": {
             "colorbar": {
              "outlinewidth": 0,
              "ticks": ""
             }
            },
            "type": "scattergeo"
           }
          ],
          "scattergl": [
           {
            "marker": {
             "colorbar": {
              "outlinewidth": 0,
              "ticks": ""
             }
            },
            "type": "scattergl"
           }
          ],
          "scattermapbox": [
           {
            "marker": {
             "colorbar": {
              "outlinewidth": 0,
              "ticks": ""
             }
            },
            "type": "scattermapbox"
           }
          ],
          "scatterpolar": [
           {
            "marker": {
             "colorbar": {
              "outlinewidth": 0,
              "ticks": ""
             }
            },
            "type": "scatterpolar"
           }
          ],
          "scatterpolargl": [
           {
            "marker": {
             "colorbar": {
              "outlinewidth": 0,
              "ticks": ""
             }
            },
            "type": "scatterpolargl"
           }
          ],
          "scatterternary": [
           {
            "marker": {
             "colorbar": {
              "outlinewidth": 0,
              "ticks": ""
             }
            },
            "type": "scatterternary"
           }
          ],
          "surface": [
           {
            "colorbar": {
             "outlinewidth": 0,
             "ticks": ""
            },
            "colorscale": [
             [
              0,
              "#0d0887"
             ],
             [
              0.1111111111111111,
              "#46039f"
             ],
             [
              0.2222222222222222,
              "#7201a8"
             ],
             [
              0.3333333333333333,
              "#9c179e"
             ],
             [
              0.4444444444444444,
              "#bd3786"
             ],
             [
              0.5555555555555556,
              "#d8576b"
             ],
             [
              0.6666666666666666,
              "#ed7953"
             ],
             [
              0.7777777777777778,
              "#fb9f3a"
             ],
             [
              0.8888888888888888,
              "#fdca26"
             ],
             [
              1,
              "#f0f921"
             ]
            ],
            "type": "surface"
           }
          ],
          "table": [
           {
            "cells": {
             "fill": {
              "color": "#EBF0F8"
             },
             "line": {
              "color": "white"
             }
            },
            "header": {
             "fill": {
              "color": "#C8D4E3"
             },
             "line": {
              "color": "white"
             }
            },
            "type": "table"
           }
          ]
         },
         "layout": {
          "annotationdefaults": {
           "arrowcolor": "#2a3f5f",
           "arrowhead": 0,
           "arrowwidth": 1
          },
          "autotypenumbers": "strict",
          "coloraxis": {
           "colorbar": {
            "outlinewidth": 0,
            "ticks": ""
           }
          },
          "colorscale": {
           "diverging": [
            [
             0,
             "#8e0152"
            ],
            [
             0.1,
             "#c51b7d"
            ],
            [
             0.2,
             "#de77ae"
            ],
            [
             0.3,
             "#f1b6da"
            ],
            [
             0.4,
             "#fde0ef"
            ],
            [
             0.5,
             "#f7f7f7"
            ],
            [
             0.6,
             "#e6f5d0"
            ],
            [
             0.7,
             "#b8e186"
            ],
            [
             0.8,
             "#7fbc41"
            ],
            [
             0.9,
             "#4d9221"
            ],
            [
             1,
             "#276419"
            ]
           ],
           "sequential": [
            [
             0,
             "#0d0887"
            ],
            [
             0.1111111111111111,
             "#46039f"
            ],
            [
             0.2222222222222222,
             "#7201a8"
            ],
            [
             0.3333333333333333,
             "#9c179e"
            ],
            [
             0.4444444444444444,
             "#bd3786"
            ],
            [
             0.5555555555555556,
             "#d8576b"
            ],
            [
             0.6666666666666666,
             "#ed7953"
            ],
            [
             0.7777777777777778,
             "#fb9f3a"
            ],
            [
             0.8888888888888888,
             "#fdca26"
            ],
            [
             1,
             "#f0f921"
            ]
           ],
           "sequentialminus": [
            [
             0,
             "#0d0887"
            ],
            [
             0.1111111111111111,
             "#46039f"
            ],
            [
             0.2222222222222222,
             "#7201a8"
            ],
            [
             0.3333333333333333,
             "#9c179e"
            ],
            [
             0.4444444444444444,
             "#bd3786"
            ],
            [
             0.5555555555555556,
             "#d8576b"
            ],
            [
             0.6666666666666666,
             "#ed7953"
            ],
            [
             0.7777777777777778,
             "#fb9f3a"
            ],
            [
             0.8888888888888888,
             "#fdca26"
            ],
            [
             1,
             "#f0f921"
            ]
           ]
          },
          "colorway": [
           "#636efa",
           "#EF553B",
           "#00cc96",
           "#ab63fa",
           "#FFA15A",
           "#19d3f3",
           "#FF6692",
           "#B6E880",
           "#FF97FF",
           "#FECB52"
          ],
          "font": {
           "color": "#2a3f5f"
          },
          "geo": {
           "bgcolor": "white",
           "lakecolor": "white",
           "landcolor": "#E5ECF6",
           "showlakes": true,
           "showland": true,
           "subunitcolor": "white"
          },
          "hoverlabel": {
           "align": "left"
          },
          "hovermode": "closest",
          "mapbox": {
           "style": "light"
          },
          "paper_bgcolor": "white",
          "plot_bgcolor": "#E5ECF6",
          "polar": {
           "angularaxis": {
            "gridcolor": "white",
            "linecolor": "white",
            "ticks": ""
           },
           "bgcolor": "#E5ECF6",
           "radialaxis": {
            "gridcolor": "white",
            "linecolor": "white",
            "ticks": ""
           }
          },
          "scene": {
           "xaxis": {
            "backgroundcolor": "#E5ECF6",
            "gridcolor": "white",
            "gridwidth": 2,
            "linecolor": "white",
            "showbackground": true,
            "ticks": "",
            "zerolinecolor": "white"
           },
           "yaxis": {
            "backgroundcolor": "#E5ECF6",
            "gridcolor": "white",
            "gridwidth": 2,
            "linecolor": "white",
            "showbackground": true,
            "ticks": "",
            "zerolinecolor": "white"
           },
           "zaxis": {
            "backgroundcolor": "#E5ECF6",
            "gridcolor": "white",
            "gridwidth": 2,
            "linecolor": "white",
            "showbackground": true,
            "ticks": "",
            "zerolinecolor": "white"
           }
          },
          "shapedefaults": {
           "line": {
            "color": "#2a3f5f"
           }
          },
          "ternary": {
           "aaxis": {
            "gridcolor": "white",
            "linecolor": "white",
            "ticks": ""
           },
           "baxis": {
            "gridcolor": "white",
            "linecolor": "white",
            "ticks": ""
           },
           "bgcolor": "#E5ECF6",
           "caxis": {
            "gridcolor": "white",
            "linecolor": "white",
            "ticks": ""
           }
          },
          "title": {
           "x": 0.05
          },
          "xaxis": {
           "automargin": true,
           "gridcolor": "white",
           "linecolor": "white",
           "ticks": "",
           "title": {
            "standoff": 15
           },
           "zerolinecolor": "white",
           "zerolinewidth": 2
          },
          "yaxis": {
           "automargin": true,
           "gridcolor": "white",
           "linecolor": "white",
           "ticks": "",
           "title": {
            "standoff": 15
           },
           "zerolinecolor": "white",
           "zerolinewidth": 2
          }
         }
        },
        "xaxis": {
         "anchor": "y",
         "domain": [
          0,
          1
         ],
         "title": {
          "text": "x"
         }
        },
        "yaxis": {
         "anchor": "x",
         "domain": [
          0,
          1
         ],
         "title": {
          "text": "y"
         }
        }
       }
      },
      "text/html": [
       "<div>                            <div id=\"ecea00a5-9409-4612-b77b-29b5ac918bd6\" class=\"plotly-graph-div\" style=\"height:525px; width:100%;\"></div>            <script type=\"text/javascript\">                require([\"plotly\"], function(Plotly) {                    window.PLOTLYENV=window.PLOTLYENV || {};                                    if (document.getElementById(\"ecea00a5-9409-4612-b77b-29b5ac918bd6\")) {                    Plotly.newPlot(                        \"ecea00a5-9409-4612-b77b-29b5ac918bd6\",                        [{\"hovertemplate\": \"x=%{x}<br>y=%{y}<extra></extra>\", \"legendgroup\": \"\", \"marker\": {\"color\": \"#636efa\", \"symbol\": \"circle\"}, \"mode\": \"markers\", \"name\": \"\", \"orientation\": \"v\", \"showlegend\": false, \"type\": \"scatter\", \"x\": [0.06590650975704193, 0.0678960531949997, 0.07019373029470444, 0.0700308084487915, 0.06999161839485168, 0.07003678381443024, 0.07003655284643173, 0.07004174590110779, 0.07004716992378235, 0.07003296911716461, 0.07001131772994995, 0.06995420157909393, 0.06995955854654312, 0.06999258697032928, 0.06999856233596802, 0.07003825157880783, 0.07000778615474701, 0.07002799957990646, 0.07002632319927216, 0.07002893090248108, 0.07003143429756165, 0.07018953561782837, 0.07029231637716293, 0.07059666514396667, 0.07079290598630905, 0.07109175622463226, 0.07093682885169983, 0.07084155827760696, 0.07079010456800461, 0.07102979719638824, 0.0711037665605545, 0.07100057601928711, 0.06700383871793747, 0.06894807517528534, 0.07131198048591614, 0.07110679149627686, 0.0709545761346817, 0.0709957629442215, 0.07094360888004303, 0.07088765501976013, 0.07098637521266937, 0.07101209461688995, 0.0710664689540863, 0.07113257050514221, 0.07110820710659027, 0.07108574360609055, 0.07103956490755081, 0.07105496525764465, 0.07104361802339554, 0.0715240091085434, 0.07132408022880554, 0.0711793601512909, 0.07124015688896179, 0.07123178243637085, 0.07115137577056885, 0.07115344703197479, 0.07106919586658478, 0.07106222212314606, 0.071037158370018, 0.07113553583621979, 0.07116222381591797, 0.07111594825983047, 0.07116581499576569, 0.07116803526878357, 0.06755772233009338, 0.06916619837284088, 0.07130590826272964, 0.07120765000581741, 0.07110334187746048, 0.07112754881381989, 0.07111836969852448, 0.07113038748502731, 0.0710214152932167, 0.07106248289346695, 0.07111817598342896, 0.07117913663387299, 0.07115195691585541, 0.07109561562538147, 0.07113809883594513, 0.07116219401359558, 0.07118237018585205, 0.0711771696805954, 0.0711933821439743, 0.07117295265197754, 0.07122187316417694, 0.07122386246919632, 0.07123260200023651, 0.07129409909248352, 0.07126635313034058, 0.07128443568944931, 0.07127082347869873, 0.07129031419754028, 0.0712670236825943, 0.07135440409183502, 0.07181839644908905, 0.07152070105075836, 0.06730666011571884, 0.06939487159252167, 0.0714862272143364, 0.07137012481689453, 0.07152095437049866, 0.07157394289970398, 0.07174322009086609, 0.07162138819694519, 0.07161423563957214, 0.07152943313121796, 0.07154418528079987, 0.07155674695968628, 0.07154954969882965, 0.07174308598041534, 0.07167257368564606, 0.07168573141098022, 0.07163918018341064, 0.0715828388929367, 0.07159081101417542, 0.07151893526315689, 0.07147824019193649, 0.07141369581222534, 0.07144510746002197, 0.07143862545490265, 0.07144010066986084, 0.07143910229206085, 0.07143884897232056, 0.0714738517999649, 0.07151691615581512, 0.07156457006931305, 0.07150910794734955, 0.07146027684211731, 0.06656908988952637, 0.06949405372142792, 0.07152880728244781, 0.0713777095079422, 0.07129837572574615, 0.07139302790164948, 0.07139807939529419, 0.07144591957330704, 0.07145430147647858, 0.07145974040031433, 0.07146158814430237, 0.07146400213241577, 0.07153257727622986, 0.07155611366033554, 0.07155434787273407, 0.07155294716358185, 0.07151593267917633, 0.0714951604604721, 0.07150674611330032, 0.07156263291835785, 0.07152841985225677, 0.07160169631242752, 0.07158547639846802, 0.07154908776283264, 0.07152459025382996, 0.07150562107563019, 0.0715213343501091, 0.07146882265806198, 0.07151664793491364, 0.07150137424468994, 0.07143381237983704, 0.07144176959991455, 0.06560204923152924, 0.06951369345188141, 0.07143768668174744, 0.07127681374549866, 0.0713086798787117, 0.07138819992542267, 0.0714569240808487, 0.07145977020263672, 0.07148102670907974, 0.07160219550132751, 0.07155798375606537, 0.07155750691890717, 0.07155868411064148, 0.07155869901180267, 0.0715593546628952, 0.07155606150627136, 0.07155898213386536, 0.07162116467952728, 0.07162356376647949, 0.07158567011356354, 0.07162642478942871, 0.07163241505622864, 0.07163861393928528, 0.07163974642753601, 0.07169684767723083, 0.0715579241514206, 0.07158505916595459, 0.07155493646860123, 0.07154211401939392, 0.07159923762083054, 0.07159814983606339, 0.07159540057182312, 0.06713386625051498, 0.06958682835102081, 0.07163209468126297, 0.07145432382822037, 0.07149891555309296, 0.07153153419494629, 0.07159902900457382, 0.0715574398636818, 0.07158050686120987, 0.07169096171855927, 0.07168848812580109, 0.07169869542121887, 0.07165703177452087, 0.07162246108055115, 0.07167397439479828, 0.0716332346200943, 0.07166238129138947, 0.07165909558534622, 0.07164165377616882, 0.07167834043502808, 0.07167872041463852, 0.07169735431671143, 0.07170087099075317, 0.07172471284866333, 0.07176521420478821, 0.07201875746250153, 0.07191005349159241, 0.07194547355175018, 0.07191236317157745, 0.07194508612155914, 0.0719153881072998, 0.07194109261035919, 0.06761270761489868, 0.07007185369729996, 0.07202313840389252, 0.07183006405830383, 0.0718507394194603, 0.07199731469154358, 0.0720159187912941, 0.0719805583357811, 0.07194429636001587, 0.07195213437080383, 0.07195524871349335, 0.0719563290476799, 0.07191881537437439, 0.07189635932445526, 0.07190537452697754, 0.07183721661567688, 0.07178620994091034, 0.0717330127954483, 0.07174735516309738, 0.07175175845623016, 0.07175177335739136, 0.07175229489803314, 0.07174954563379288, 0.07175008207559586, 0.0717470720410347, 0.07174716889858246, 0.07174542546272278, 0.07174528390169144, 0.07174520194530487, 0.07175624370574951, 0.07173782587051392, 0.07171829789876938], \"xaxis\": \"x\", \"y\": [0.07000459730625153, 0.07004033029079437, 0.07005038112401962, 0.07004133611917496, 0.07004736363887787, 0.0700417309999466, 0.07004234194755554, 0.07004736363887787, 0.07002323120832443, 0.07000814378261566, 0.06997596472501755, 0.06996188312768936, 0.0699789822101593, 0.0699860230088234, 0.07003127783536911, 0.07001619040966034, 0.07002423703670502, 0.07003328949213028, 0.07003429532051086, 0.07003429532051086, 0.07019519805908203, 0.07031185925006866, 0.07053511589765549, 0.0707523375749588, 0.07101280242204666, 0.07096453011035919, 0.07087703794240952, 0.0708850845694542, 0.07105202227830887, 0.07108118385076523, 0.07099972665309906, 0.07093436270952225, 0.07099168002605438, 0.0711887925863266, 0.07107213884592056, 0.07101380825042725, 0.07105906307697296, 0.07094743102788925, 0.07094743102788925, 0.07099469751119614, 0.07103492319583893, 0.07109928876161575, 0.0711556077003479, 0.07110029458999634, 0.07109928876161575, 0.07102185487747192, 0.07104137539863586, 0.07104196399450302, 0.07154177874326706, 0.0713014304637909, 0.07118476927280426, 0.0712551698088646, 0.07124410569667816, 0.07119080424308777, 0.07112636417150497, 0.0710831955075264, 0.07105906307697296, 0.0710299015045166, 0.07114957273006439, 0.07114856690168381, 0.07110130041837692, 0.07115057855844498, 0.07116365432739258, 0.07126924395561218, 0.0712611973285675, 0.07123003900051117, 0.07124511152505875, 0.07112845033407211, 0.0711354911327362, 0.07112442702054977, 0.07111739367246628, 0.07103995233774185, 0.0710500106215477, 0.07110733538866043, 0.07120086252689362, 0.07116729766130447, 0.0710892304778099, 0.07111236453056335, 0.07116768509149551, 0.07121895998716354, 0.07119885087013245, 0.07119885087013245, 0.07118778675794601, 0.07123102992773056, 0.07123619318008423, 0.07124008238315582, 0.07129941880702972, 0.07127729058265686, 0.07129941880702972, 0.07129941880702972, 0.07129941880702972, 0.07128634303808212, 0.07137785851955414, 0.07185252755880356, 0.07147842645645142, 0.07141104340553284, 0.07144221663475037, 0.0714663565158844, 0.0714663565158844, 0.07158301025629044, 0.07159508019685745, 0.0716976597905159, 0.07169263064861298, 0.07161117345094681, 0.07159608602523804, 0.0715518370270729, 0.07156189531087875, 0.07156189531087875, 0.07173185050487518, 0.0717569887638092, 0.07170067727565765, 0.07165944576263428, 0.0715920627117157, 0.07160111516714096, 0.0715387612581253, 0.07146736234426498, 0.07144121080636978, 0.07144221663475037, 0.07144121080636978, 0.07144121080636978, 0.0714402049779892, 0.07144083827733994, 0.07147540897130966, 0.07151665538549423, 0.07158099859952927, 0.0715055763721466, 0.07147339731454849, 0.07147540897130966, 0.07147842645645142, 0.07146535068750381, 0.07146535068750381, 0.07136277109384537, 0.07141204923391342, 0.07141204923391342, 0.0714593157172203, 0.07147239148616791, 0.07147239148616791, 0.07147138565778732, 0.07148144394159317, 0.07154881954193115, 0.07157395780086517, 0.07156994193792343, 0.07156893610954285, 0.07151764631271362, 0.07152267545461655, 0.07152669876813889, 0.07156893610954285, 0.071558877825737, 0.07160010933876038, 0.07159910351037979, 0.07155787199735641, 0.07152939587831497, 0.07152870297431946, 0.07152870297431946, 0.071503184735775, 0.07151362299919128, 0.07151462882757187, 0.07145126909017563, 0.07145126909017563, 0.07145026326179504, 0.07142110168933868, 0.0714133009314537, 0.071413055062294, 0.07138188183307648, 0.07141362875699997, 0.071492500603199, 0.07150054723024368, 0.07150155305862427, 0.07161117345094681, 0.07157496362924576, 0.07158200442790985, 0.07158113270998001, 0.07158200442790985, 0.07158099859952927, 0.07157999277114868, 0.0715789869427681, 0.07164033502340317, 0.07163932919502258, 0.07157596945762634, 0.07165542244911194, 0.07165364176034927, 0.07165341079235077, 0.07165441662073135, 0.07161318510770798, 0.07158401608467102, 0.07159306854009628, 0.07158401608467102, 0.07157295942306519, 0.07159709185361862, 0.0716182142496109, 0.07161620259284973, 0.07161519676446915, 0.07161318510770798, 0.07158200442790985, 0.0715719535946846, 0.0715719535946846, 0.07157295942306519, 0.07159608602523804, 0.07159508019685745, 0.07159508019685745, 0.07171420007944107, 0.07171475142240524, 0.07171420007944107, 0.07163731753826141, 0.07164254039525986, 0.0717034861445427, 0.0716513991355896, 0.07168760150671005, 0.07168760150671005, 0.07163631170988083, 0.07169363647699356, 0.07170363515615463, 0.07171374559402466, 0.07171374559402466, 0.07173889130353928, 0.0717831403017044, 0.07203656435012817, 0.07190985232591629, 0.07196013629436493, 0.071955107152462, 0.07197823375463486, 0.07193499058485031, 0.07197421789169312, 0.07197321206331253, 0.07199633866548538, 0.07190683484077454, 0.07190582901239395, 0.07191488146781921, 0.07203757017850876, 0.07203857600688934, 0.07199734449386597, 0.07199130952358246, 0.07199633866548538, 0.071955107152462, 0.07196315377950668, 0.07194102555513382, 0.07191186398267746, 0.07191186398267746, 0.07184649258852005, 0.07178213447332382, 0.07174794375896454, 0.07174894958734512, 0.07175297290086746, 0.07175297290086746, 0.07175397127866745, 0.07175297290086746, 0.07175343483686447, 0.07175297290086746, 0.07175297290086746, 0.07175297290086746, 0.07175367325544357, 0.07175297290086746, 0.07175353914499283, 0.07175397127866745, 0.07175497710704803, 0.07175497710704803], \"yaxis\": \"y\"}],                        {\"legend\": {\"tracegroupgap\": 0}, \"margin\": {\"t\": 60}, \"template\": {\"data\": {\"bar\": [{\"error_x\": {\"color\": \"#2a3f5f\"}, \"error_y\": {\"color\": \"#2a3f5f\"}, \"marker\": {\"line\": {\"color\": \"#E5ECF6\", \"width\": 0.5}}, \"type\": \"bar\"}], \"barpolar\": [{\"marker\": {\"line\": {\"color\": \"#E5ECF6\", \"width\": 0.5}}, \"type\": \"barpolar\"}], \"carpet\": [{\"aaxis\": {\"endlinecolor\": \"#2a3f5f\", \"gridcolor\": \"white\", \"linecolor\": \"white\", \"minorgridcolor\": \"white\", \"startlinecolor\": \"#2a3f5f\"}, \"baxis\": {\"endlinecolor\": \"#2a3f5f\", \"gridcolor\": \"white\", \"linecolor\": \"white\", \"minorgridcolor\": \"white\", \"startlinecolor\": \"#2a3f5f\"}, \"type\": \"carpet\"}], \"choropleth\": [{\"colorbar\": {\"outlinewidth\": 0, \"ticks\": \"\"}, \"type\": \"choropleth\"}], \"contour\": [{\"colorbar\": {\"outlinewidth\": 0, \"ticks\": \"\"}, \"colorscale\": [[0.0, \"#0d0887\"], [0.1111111111111111, \"#46039f\"], [0.2222222222222222, \"#7201a8\"], [0.3333333333333333, \"#9c179e\"], [0.4444444444444444, \"#bd3786\"], [0.5555555555555556, \"#d8576b\"], [0.6666666666666666, \"#ed7953\"], [0.7777777777777778, \"#fb9f3a\"], [0.8888888888888888, \"#fdca26\"], [1.0, \"#f0f921\"]], \"type\": \"contour\"}], \"contourcarpet\": [{\"colorbar\": {\"outlinewidth\": 0, \"ticks\": \"\"}, \"type\": \"contourcarpet\"}], \"heatmap\": [{\"colorbar\": {\"outlinewidth\": 0, \"ticks\": \"\"}, \"colorscale\": [[0.0, \"#0d0887\"], [0.1111111111111111, \"#46039f\"], [0.2222222222222222, \"#7201a8\"], [0.3333333333333333, \"#9c179e\"], [0.4444444444444444, \"#bd3786\"], [0.5555555555555556, \"#d8576b\"], [0.6666666666666666, \"#ed7953\"], [0.7777777777777778, \"#fb9f3a\"], [0.8888888888888888, \"#fdca26\"], [1.0, \"#f0f921\"]], \"type\": \"heatmap\"}], \"heatmapgl\": [{\"colorbar\": {\"outlinewidth\": 0, \"ticks\": \"\"}, \"colorscale\": [[0.0, \"#0d0887\"], [0.1111111111111111, \"#46039f\"], [0.2222222222222222, \"#7201a8\"], [0.3333333333333333, \"#9c179e\"], [0.4444444444444444, \"#bd3786\"], [0.5555555555555556, \"#d8576b\"], [0.6666666666666666, \"#ed7953\"], [0.7777777777777778, \"#fb9f3a\"], [0.8888888888888888, \"#fdca26\"], [1.0, \"#f0f921\"]], \"type\": \"heatmapgl\"}], \"histogram\": [{\"marker\": {\"colorbar\": {\"outlinewidth\": 0, \"ticks\": \"\"}}, \"type\": \"histogram\"}], \"histogram2d\": [{\"colorbar\": {\"outlinewidth\": 0, \"ticks\": \"\"}, \"colorscale\": [[0.0, \"#0d0887\"], [0.1111111111111111, \"#46039f\"], [0.2222222222222222, \"#7201a8\"], [0.3333333333333333, \"#9c179e\"], [0.4444444444444444, \"#bd3786\"], [0.5555555555555556, \"#d8576b\"], [0.6666666666666666, \"#ed7953\"], [0.7777777777777778, \"#fb9f3a\"], [0.8888888888888888, \"#fdca26\"], [1.0, \"#f0f921\"]], \"type\": \"histogram2d\"}], \"histogram2dcontour\": [{\"colorbar\": {\"outlinewidth\": 0, \"ticks\": \"\"}, \"colorscale\": [[0.0, \"#0d0887\"], [0.1111111111111111, \"#46039f\"], [0.2222222222222222, \"#7201a8\"], [0.3333333333333333, \"#9c179e\"], [0.4444444444444444, \"#bd3786\"], [0.5555555555555556, \"#d8576b\"], [0.6666666666666666, \"#ed7953\"], [0.7777777777777778, \"#fb9f3a\"], [0.8888888888888888, \"#fdca26\"], [1.0, \"#f0f921\"]], \"type\": \"histogram2dcontour\"}], \"mesh3d\": [{\"colorbar\": {\"outlinewidth\": 0, \"ticks\": \"\"}, \"type\": \"mesh3d\"}], \"parcoords\": [{\"line\": {\"colorbar\": {\"outlinewidth\": 0, \"ticks\": \"\"}}, \"type\": \"parcoords\"}], \"pie\": [{\"automargin\": true, \"type\": \"pie\"}], \"scatter\": [{\"marker\": {\"colorbar\": {\"outlinewidth\": 0, \"ticks\": \"\"}}, \"type\": \"scatter\"}], \"scatter3d\": [{\"line\": {\"colorbar\": {\"outlinewidth\": 0, \"ticks\": \"\"}}, \"marker\": {\"colorbar\": {\"outlinewidth\": 0, \"ticks\": \"\"}}, \"type\": \"scatter3d\"}], \"scattercarpet\": [{\"marker\": {\"colorbar\": {\"outlinewidth\": 0, \"ticks\": \"\"}}, \"type\": \"scattercarpet\"}], \"scattergeo\": [{\"marker\": {\"colorbar\": {\"outlinewidth\": 0, \"ticks\": \"\"}}, \"type\": \"scattergeo\"}], \"scattergl\": [{\"marker\": {\"colorbar\": {\"outlinewidth\": 0, \"ticks\": \"\"}}, \"type\": \"scattergl\"}], \"scattermapbox\": [{\"marker\": {\"colorbar\": {\"outlinewidth\": 0, \"ticks\": \"\"}}, \"type\": \"scattermapbox\"}], \"scatterpolar\": [{\"marker\": {\"colorbar\": {\"outlinewidth\": 0, \"ticks\": \"\"}}, \"type\": \"scatterpolar\"}], \"scatterpolargl\": [{\"marker\": {\"colorbar\": {\"outlinewidth\": 0, \"ticks\": \"\"}}, \"type\": \"scatterpolargl\"}], \"scatterternary\": [{\"marker\": {\"colorbar\": {\"outlinewidth\": 0, \"ticks\": \"\"}}, \"type\": \"scatterternary\"}], \"surface\": [{\"colorbar\": {\"outlinewidth\": 0, \"ticks\": \"\"}, \"colorscale\": [[0.0, \"#0d0887\"], [0.1111111111111111, \"#46039f\"], [0.2222222222222222, \"#7201a8\"], [0.3333333333333333, \"#9c179e\"], [0.4444444444444444, \"#bd3786\"], [0.5555555555555556, \"#d8576b\"], [0.6666666666666666, \"#ed7953\"], [0.7777777777777778, \"#fb9f3a\"], [0.8888888888888888, \"#fdca26\"], [1.0, \"#f0f921\"]], \"type\": \"surface\"}], \"table\": [{\"cells\": {\"fill\": {\"color\": \"#EBF0F8\"}, \"line\": {\"color\": \"white\"}}, \"header\": {\"fill\": {\"color\": \"#C8D4E3\"}, \"line\": {\"color\": \"white\"}}, \"type\": \"table\"}]}, \"layout\": {\"annotationdefaults\": {\"arrowcolor\": \"#2a3f5f\", \"arrowhead\": 0, \"arrowwidth\": 1}, \"autotypenumbers\": \"strict\", \"coloraxis\": {\"colorbar\": {\"outlinewidth\": 0, \"ticks\": \"\"}}, \"colorscale\": {\"diverging\": [[0, \"#8e0152\"], [0.1, \"#c51b7d\"], [0.2, \"#de77ae\"], [0.3, \"#f1b6da\"], [0.4, \"#fde0ef\"], [0.5, \"#f7f7f7\"], [0.6, \"#e6f5d0\"], [0.7, \"#b8e186\"], [0.8, \"#7fbc41\"], [0.9, \"#4d9221\"], [1, \"#276419\"]], \"sequential\": [[0.0, \"#0d0887\"], [0.1111111111111111, \"#46039f\"], [0.2222222222222222, \"#7201a8\"], [0.3333333333333333, \"#9c179e\"], [0.4444444444444444, \"#bd3786\"], [0.5555555555555556, \"#d8576b\"], [0.6666666666666666, \"#ed7953\"], [0.7777777777777778, \"#fb9f3a\"], [0.8888888888888888, \"#fdca26\"], [1.0, \"#f0f921\"]], \"sequentialminus\": [[0.0, \"#0d0887\"], [0.1111111111111111, \"#46039f\"], [0.2222222222222222, \"#7201a8\"], [0.3333333333333333, \"#9c179e\"], [0.4444444444444444, \"#bd3786\"], [0.5555555555555556, \"#d8576b\"], [0.6666666666666666, \"#ed7953\"], [0.7777777777777778, \"#fb9f3a\"], [0.8888888888888888, \"#fdca26\"], [1.0, \"#f0f921\"]]}, \"colorway\": [\"#636efa\", \"#EF553B\", \"#00cc96\", \"#ab63fa\", \"#FFA15A\", \"#19d3f3\", \"#FF6692\", \"#B6E880\", \"#FF97FF\", \"#FECB52\"], \"font\": {\"color\": \"#2a3f5f\"}, \"geo\": {\"bgcolor\": \"white\", \"lakecolor\": \"white\", \"landcolor\": \"#E5ECF6\", \"showlakes\": true, \"showland\": true, \"subunitcolor\": \"white\"}, \"hoverlabel\": {\"align\": \"left\"}, \"hovermode\": \"closest\", \"mapbox\": {\"style\": \"light\"}, \"paper_bgcolor\": \"white\", \"plot_bgcolor\": \"#E5ECF6\", \"polar\": {\"angularaxis\": {\"gridcolor\": \"white\", \"linecolor\": \"white\", \"ticks\": \"\"}, \"bgcolor\": \"#E5ECF6\", \"radialaxis\": {\"gridcolor\": \"white\", \"linecolor\": \"white\", \"ticks\": \"\"}}, \"scene\": {\"xaxis\": {\"backgroundcolor\": \"#E5ECF6\", \"gridcolor\": \"white\", \"gridwidth\": 2, \"linecolor\": \"white\", \"showbackground\": true, \"ticks\": \"\", \"zerolinecolor\": \"white\"}, \"yaxis\": {\"backgroundcolor\": \"#E5ECF6\", \"gridcolor\": \"white\", \"gridwidth\": 2, \"linecolor\": \"white\", \"showbackground\": true, \"ticks\": \"\", \"zerolinecolor\": \"white\"}, \"zaxis\": {\"backgroundcolor\": \"#E5ECF6\", \"gridcolor\": \"white\", \"gridwidth\": 2, \"linecolor\": \"white\", \"showbackground\": true, \"ticks\": \"\", \"zerolinecolor\": \"white\"}}, \"shapedefaults\": {\"line\": {\"color\": \"#2a3f5f\"}}, \"ternary\": {\"aaxis\": {\"gridcolor\": \"white\", \"linecolor\": \"white\", \"ticks\": \"\"}, \"baxis\": {\"gridcolor\": \"white\", \"linecolor\": \"white\", \"ticks\": \"\"}, \"bgcolor\": \"#E5ECF6\", \"caxis\": {\"gridcolor\": \"white\", \"linecolor\": \"white\", \"ticks\": \"\"}}, \"title\": {\"x\": 0.05}, \"xaxis\": {\"automargin\": true, \"gridcolor\": \"white\", \"linecolor\": \"white\", \"ticks\": \"\", \"title\": {\"standoff\": 15}, \"zerolinecolor\": \"white\", \"zerolinewidth\": 2}, \"yaxis\": {\"automargin\": true, \"gridcolor\": \"white\", \"linecolor\": \"white\", \"ticks\": \"\", \"title\": {\"standoff\": 15}, \"zerolinecolor\": \"white\", \"zerolinewidth\": 2}}}, \"xaxis\": {\"anchor\": \"y\", \"domain\": [0.0, 1.0], \"title\": {\"text\": \"x\"}}, \"yaxis\": {\"anchor\": \"x\", \"domain\": [0.0, 1.0], \"title\": {\"text\": \"y\"}}},                        {\"responsive\": true}                    ).then(function(){\n",
       "                            \n",
       "var gd = document.getElementById('ecea00a5-9409-4612-b77b-29b5ac918bd6');\n",
       "var x = new MutationObserver(function (mutations, observer) {{\n",
       "        var display = window.getComputedStyle(gd).display;\n",
       "        if (!display || display === 'none') {{\n",
       "            console.log([gd, 'removed!']);\n",
       "            Plotly.purge(gd);\n",
       "            observer.disconnect();\n",
       "        }}\n",
       "}});\n",
       "\n",
       "// Listen for the removal of the full notebook cells\n",
       "var notebookContainer = gd.closest('#notebook-container');\n",
       "if (notebookContainer) {{\n",
       "    x.observe(notebookContainer, {childList: true});\n",
       "}}\n",
       "\n",
       "// Listen for the clearing of the current output cell\n",
       "var outputEl = gd.closest('.output');\n",
       "if (outputEl) {{\n",
       "    x.observe(outputEl, {childList: true});\n",
       "}}\n",
       "\n",
       "                        })                };                });            </script>        </div>"
      ]
     },
     "metadata": {},
     "output_type": "display_data"
    }
   ],
   "source": [
    "import plotly.express as px\n",
    "\n",
    "fig = px.scatter(x=pred2labels['Predicted'], y=pred2labels['Labels'])\n",
    "fig.show()"
   ]
  },
  {
   "cell_type": "code",
   "execution_count": null,
   "id": "ruled-acceptance",
   "metadata": {},
   "outputs": [],
   "source": []
  }
 ],
 "metadata": {
  "kernelspec": {
   "display_name": "Python 3",
   "language": "python",
   "name": "python3"
  },
  "language_info": {
   "codemirror_mode": {
    "name": "ipython",
    "version": 3
   },
   "file_extension": ".py",
   "mimetype": "text/x-python",
   "name": "python",
   "nbconvert_exporter": "python",
   "pygments_lexer": "ipython3",
   "version": "3.6.9"
  }
 },
 "nbformat": 4,
 "nbformat_minor": 5
}
