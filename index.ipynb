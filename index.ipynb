{
 "cells": [
  {
   "cell_type": "markdown",
   "metadata": {},
   "source": [
    "# Stock price forecasting\n",
    "\n",
    "Research of NN model for market stock price forecasting"
   ]
  },
  {
   "cell_type": "markdown",
   "metadata": {},
   "source": [
    "## Inspiration sources\n",
    "\n",
    "https://github.com/BenjiKCF/Neural-Net-with-Financial-Time-Series-Data\n",
    "https://github.com/alberduris/SirajsCodingChallenges/tree/master/Stock%20Market%20Prediction"
   ]
  },
  {
   "cell_type": "markdown",
   "metadata": {},
   "source": [
    "## Research steps:"
   ]
  },
  {
   "cell_type": "markdown",
   "metadata": {},
   "source": [
    "1. [Exploratory Data Analysis](./1_Exploratory_Data_Analysis.html) | [notebook version](./1_Exploratory_Data_Analysis.ipynb)\n",
    "2. [Feature Engeneering and Normalisation](./2_a_Feature_Engineering_and_Normalization) | [notebook version](./2_a_Feature_Engineering_and_Normalization.ipynb)\n",
    "3. [Window Generator](./2_b_Window_Generator.html) | [notebook version](./2_b_Window_Generator.ipynb)\n",
    "4. [Explore Training Metrics](./3_Explore_Training_Metrics.html) | [notebook version](./3_Explore_Training_Metrics.ipynb)\n",
    "5. [Test Model](./4_Test_model.html) | [notebook version](./4_Test_model.ipynb)\n"
   ]
  },
  {
   "cell_type": "code",
   "execution_count": null,
   "metadata": {},
   "outputs": [],
   "source": []
  }
 ],
 "metadata": {
  "kernelspec": {
   "display_name": "Python 3",
   "language": "python",
   "name": "python3"
  },
  "language_info": {
   "codemirror_mode": {
    "name": "ipython",
    "version": 3
   },
   "file_extension": ".py",
   "mimetype": "text/x-python",
   "name": "python",
   "nbconvert_exporter": "python",
   "pygments_lexer": "ipython3",
   "version": "3.6.9"
  }
 },
 "nbformat": 4,
 "nbformat_minor": 2
}
